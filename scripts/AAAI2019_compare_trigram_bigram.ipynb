{
 "cells": [
  {
   "cell_type": "markdown",
   "metadata": {},
   "source": [
    "# 比較trigram和bigram的差異集合"
   ]
  },
  {
   "cell_type": "code",
   "execution_count": 1,
   "metadata": {},
   "outputs": [
    {
     "name": "stderr",
     "output_type": "stream",
     "text": [
      "2019-11-04 23:15:26,648 : DEBUG : Loaded backend module://ipykernel.pylab.backend_inline version unknown.\n"
     ]
    }
   ],
   "source": [
    "import os\n",
    "import numpy as np\n",
    "import pandas as pd\n",
    "from collections import Counter\n",
    "from enum import Enum\n",
    "from pprint import pprint\n",
    "import matplotlib.pyplot as plt\n",
    "\n",
    "import nltk\n",
    "from nltk.stem import WordNetLemmatizer\n",
    "wordnet_lemmatizer = WordNetLemmatizer()\n",
    "\n",
    "import gensim\n",
    "from gensim.utils import simple_preprocess\n",
    "from gensim.parsing.preprocessing import STOPWORDS\n",
    "from gensim import corpora, models\n",
    "from gensim.models import Phrases\n",
    "\n",
    "import pyLDAvis\n",
    "import pyLDAvis.gensim\n",
    "from gensim.models.ldamodel import LdaModel\n",
    "\n",
    "import logging\n",
    "logging.basicConfig(format='%(asctime)s : %(levelname)s : %(message)s',\n",
    "                    level=logging.DEBUG)"
   ]
  },
  {
   "cell_type": "markdown",
   "metadata": {},
   "source": [
    "## 自定義 data types and functions"
   ]
  },
  {
   "cell_type": "code",
   "execution_count": 2,
   "metadata": {},
   "outputs": [],
   "source": [
    "class ContentType(Enum):\n",
    "    TIT = 'title'\n",
    "    ABS = 'abstract'\n",
    "    AUT = 'author'\n",
    "    SEC = 'section'\n",
    "    \n",
    "def get_contents(content_type):\n",
    "    all_contents = []\n",
    "    dataset_path = '../dataset'\n",
    "    for file in os.listdir(dataset_path):\n",
    "        file_path = os.path.join(dataset_path, file)\n",
    "        if os.path.isfile(file_path):\n",
    "            with open(file_path) as f:  \n",
    "                line = f.readlines()\n",
    "                if content_type == ContentType.AUT:\n",
    "                    line = line[1]\n",
    "                elif content_type == ContentType.SEC:\n",
    "                    line = line[2]\n",
    "                elif content_type == ContentType.ABS:\n",
    "                    line = line[3]\n",
    "                else:\n",
    "                    line = line[0]\n",
    "                line = line.strip()\n",
    "                all_contents.append(line)\n",
    "        else:\n",
    "            print(file_path + ' does not exist.')\n",
    "    return all_contents\n",
    "\n",
    "\n",
    "def get_all_titles():\n",
    "    return get_contents(ContentType.TIT)\n",
    "\n",
    "def get_all_authors():        \n",
    "    return get_contents(ContentType.AUT)\n",
    "\n",
    "def get_all_sections():\n",
    "    return get_contents(ContentType.SEC)\n",
    "\n",
    "def get_all_abstracts():\n",
    "    return get_contents(ContentType.ABS)\n",
    "\n",
    "def preprocess(text):\n",
    "    result = []\n",
    "    for token in gensim.utils.simple_preprocess(text):\n",
    "        if token not in gensim.parsing.preprocessing.STOPWORDS and len(token) > 3:\n",
    "            token = wordnet_lemmatizer.lemmatize(token, pos='v')\n",
    "            token = wordnet_lemmatizer.lemmatize(token, pos='n')\n",
    "            result.append(token)\n",
    "    return result\n",
    "\n",
    "def get_chart_data(num_topics,num_words,topics):\n",
    "    buff = 300\n",
    "    K = num_topics\n",
    "    topicWordProbMat = topics\n",
    "    \n",
    "    #columns = ['1','2','3','4','5']\n",
    "    columns = range(1,num_topics+1)\n",
    "\n",
    "    df = pd.DataFrame(columns = columns)\n",
    "    pd.set_option('display.width', 1000)\n",
    "\n",
    "    # 40 will be resized later to match number of words in DC\n",
    "    zz = np.zeros(shape=(buff,K))\n",
    "\n",
    "    last_number = 0\n",
    "    DC = {}\n",
    "\n",
    "    for x in range (num_words): #取每個topic前10個字\n",
    "        data= pd.DataFrame(columns=columns,index=[0])\n",
    "        for i in range(num_topics):\n",
    "            data[columns[i]] = \"\"\n",
    "        df = df.append(data,ignore_index=True)  \n",
    "\n",
    "    for line in topicWordProbMat:\n",
    "        topic_id,words = line #一個line是一個topic\n",
    "        probs = words.split(\"+\")\n",
    "        y = 0 #用來算第幾個word\n",
    "        for pr in probs:    \n",
    "            a = pr.split(\"*\")\n",
    "            df.iloc[y,topic_id] = a[1] #該word\n",
    "\n",
    "            if a[1] in DC:\n",
    "                zz[DC[a[1]]][topic_id] = a[0] #該word的機率\n",
    "            else:\n",
    "                zz[last_number][topic_id] = a[0]\n",
    "                DC[a[1]] = last_number\n",
    "                last_number = last_number+1\n",
    "            y = y + 1\n",
    "\n",
    "    return (df,DC,zz)\n",
    "\n",
    "def show_words_table(df):  \n",
    "    print(df)\n",
    "    print('\\n')\n",
    "    \n",
    "def show_dictionary(DC):\n",
    "    print(DC)\n",
    "    print('字典字數：',len(DC))\n",
    "    print('\\n')\n",
    "\n",
    "def show_probs_table(zz):\n",
    "    print(zz)\n",
    "    print(zz.shape)\n",
    "    \n",
    "def show_heapmap(DC,zz):\n",
    "    %matplotlib inline\n",
    "\n",
    "    zz = np.resize(zz,(len(DC.keys()),zz.shape[1]))\n",
    "\n",
    "    for val, key in enumerate(DC.keys()):\n",
    "            plt.text(-3.5, val + 0.1, key,\n",
    "                     horizontalalignment='right',\n",
    "                     verticalalignment='center'\n",
    "                     )\n",
    "\n",
    "    #plt.figure(figsize=(10,50))\n",
    "    plt.imshow(zz, cmap='hot', interpolation='nearest',aspect=0.5)#'auto'\n",
    "    plt.show()"
   ]
  },
  {
   "cell_type": "markdown",
   "metadata": {},
   "source": [
    "### 取出所有摘要"
   ]
  },
  {
   "cell_type": "code",
   "execution_count": 3,
   "metadata": {},
   "outputs": [
    {
     "name": "stdout",
     "output_type": "stream",
     "text": [
      "共 1343 篇論文\n",
      "\n"
     ]
    },
    {
     "data": {
      "text/html": [
       "<div>\n",
       "<style scoped>\n",
       "    .dataframe tbody tr th:only-of-type {\n",
       "        vertical-align: middle;\n",
       "    }\n",
       "\n",
       "    .dataframe tbody tr th {\n",
       "        vertical-align: top;\n",
       "    }\n",
       "\n",
       "    .dataframe thead th {\n",
       "        text-align: right;\n",
       "    }\n",
       "</style>\n",
       "<table border=\"1\" class=\"dataframe\">\n",
       "  <thead>\n",
       "    <tr style=\"text-align: right;\">\n",
       "      <th></th>\n",
       "      <th>abstract</th>\n",
       "      <th>index</th>\n",
       "    </tr>\n",
       "  </thead>\n",
       "  <tbody>\n",
       "    <tr>\n",
       "      <th>0</th>\n",
       "      <td>We consider the problem of actively eliciting ...</td>\n",
       "      <td>0</td>\n",
       "    </tr>\n",
       "    <tr>\n",
       "      <th>1</th>\n",
       "      <td>We investigate the task of distractor generati...</td>\n",
       "      <td>1</td>\n",
       "    </tr>\n",
       "    <tr>\n",
       "      <th>2</th>\n",
       "      <td>The most common representation formalisms for ...</td>\n",
       "      <td>2</td>\n",
       "    </tr>\n",
       "    <tr>\n",
       "      <th>3</th>\n",
       "      <td>Statistical relational learning models are pow...</td>\n",
       "      <td>3</td>\n",
       "    </tr>\n",
       "    <tr>\n",
       "      <th>4</th>\n",
       "      <td>Multimodal representation learning is gaining ...</td>\n",
       "      <td>4</td>\n",
       "    </tr>\n",
       "    <tr>\n",
       "      <th>5</th>\n",
       "      <td>Reinforcement learning (RL) has shown its adva...</td>\n",
       "      <td>5</td>\n",
       "    </tr>\n",
       "    <tr>\n",
       "      <th>6</th>\n",
       "      <td>Selecting appropriate tutoring help actions th...</td>\n",
       "      <td>6</td>\n",
       "    </tr>\n",
       "    <tr>\n",
       "      <th>7</th>\n",
       "      <td>Recognizing time expressions is a fundamental ...</td>\n",
       "      <td>7</td>\n",
       "    </tr>\n",
       "    <tr>\n",
       "      <th>8</th>\n",
       "      <td>When facing large-scale image datasets, online...</td>\n",
       "      <td>8</td>\n",
       "    </tr>\n",
       "    <tr>\n",
       "      <th>9</th>\n",
       "      <td>Temporal modeling in videos is a fundamental y...</td>\n",
       "      <td>9</td>\n",
       "    </tr>\n",
       "  </tbody>\n",
       "</table>\n",
       "</div>"
      ],
      "text/plain": [
       "                                            abstract  index\n",
       "0  We consider the problem of actively eliciting ...      0\n",
       "1  We investigate the task of distractor generati...      1\n",
       "2  The most common representation formalisms for ...      2\n",
       "3  Statistical relational learning models are pow...      3\n",
       "4  Multimodal representation learning is gaining ...      4\n",
       "5  Reinforcement learning (RL) has shown its adva...      5\n",
       "6  Selecting appropriate tutoring help actions th...      6\n",
       "7  Recognizing time expressions is a fundamental ...      7\n",
       "8  When facing large-scale image datasets, online...      8\n",
       "9  Temporal modeling in videos is a fundamental y...      9"
      ]
     },
     "execution_count": 3,
     "metadata": {},
     "output_type": "execute_result"
    }
   ],
   "source": [
    "contents = get_all_abstracts()\n",
    "print('共',len(contents),'篇論文\\n')\n",
    "\n",
    "documents = pd.DataFrame(data=contents,columns=['abstract'])\n",
    "documents['index'] = documents.index\n",
    "documents[:10]"
   ]
  },
  {
   "cell_type": "markdown",
   "metadata": {},
   "source": [
    "### 預處理的全部論文摘要"
   ]
  },
  {
   "cell_type": "code",
   "execution_count": 4,
   "metadata": {},
   "outputs": [],
   "source": [
    "processed_docs = documents['abstract'].map(preprocess)"
   ]
  },
  {
   "cell_type": "code",
   "execution_count": null,
   "metadata": {},
   "outputs": [],
   "source": [
    "# bigram\n",
    "\n",
    "bigram = Phrases(processed_docs,min_count=10)\n",
    "\n",
    "for idx in range(len(processed_docs)):\n",
    "    for token in bigram[processed_docs[idx]]:\n",
    "        if '_' in token:\n",
    "            processed_docs[idx].append(token)"
   ]
  },
  {
   "cell_type": "code",
   "execution_count": 5,
   "metadata": {},
   "outputs": [
    {
     "name": "stderr",
     "output_type": "stream",
     "text": [
      "2019-11-04 23:15:36,535 : INFO : collecting all words and their counts\n",
      "2019-11-04 23:15:36,538 : INFO : PROGRESS: at sentence #0, processed 0 words and 0 word types\n",
      "2019-11-04 23:15:36,770 : INFO : collected 89298 word types from a corpus of 121739 words (unigram + bigrams) and 1343 sentences\n",
      "2019-11-04 23:15:36,771 : INFO : using 89298 counts as vocab in Phrases<0 vocab, min_count=10, threshold=10.0, max_vocab_size=40000000>\n",
      "2019-11-04 23:15:36,772 : INFO : collecting all words and their counts\n",
      "2019-11-04 23:15:36,773 : INFO : PROGRESS: at sentence #0, processed 0 words and 0 word types\n",
      "2019-11-04 23:15:37,356 : INFO : collected 91908 word types from a corpus of 115388 words (unigram + bigrams) and 1343 sentences\n",
      "2019-11-04 23:15:37,357 : INFO : using 91908 counts as vocab in Phrases<0 vocab, min_count=10, threshold=10.0, max_vocab_size=40000000>\n"
     ]
    }
   ],
   "source": [
    "# bigram and trigram\n",
    "\n",
    "bigram = Phrases(processed_docs, min_count=10)\n",
    "trigram = Phrases(bigram[processed_docs], min_count=10)\n",
    "\n",
    "for i in range(len(processed_docs)):\n",
    "    for token in bigram[processed_docs[i]]:\n",
    "        if token.count('_') == 1:\n",
    "            processed_docs[i].append(token)    \n",
    "    for token in trigram[bigram[processed_docs[i]]]:\n",
    "        if token.count('_') == 2:\n",
    "            processed_docs[i].append(token)"
   ]
  },
  {
   "cell_type": "markdown",
   "metadata": {},
   "source": [
    "## Dataset\n",
    "\n",
    "### 產生字典"
   ]
  },
  {
   "cell_type": "code",
   "execution_count": 11,
   "metadata": {},
   "outputs": [
    {
     "name": "stderr",
     "output_type": "stream",
     "text": [
      "2019-11-04 23:25:16,146 : INFO : adding document #0 to Dictionary(0 unique tokens: [])\n",
      "2019-11-04 23:25:16,327 : INFO : built Dictionary(7170 unique tokens: ['active', 'active_learn', 'actively', 'adaptive', 'aggregation']...) from 1343 documents (total 128849 corpus positions)\n",
      "2019-11-04 23:25:16,339 : INFO : discarding 5584 tokens: [('actively', 9), ('algorithm', 358), ('approach', 483), ('coefficient', 8), ('collective', 7), ('elicitation', 3), ('equity', 2), ('gini', 1), ('interleave', 3), ('knapsack', 5)]...\n",
      "2019-11-04 23:25:16,340 : INFO : keeping 1586 tokens which were in no less than 10 and no more than 268 (=20.0%) documents\n",
      "2019-11-04 23:25:16,342 : DEBUG : rebuilding dictionary, shrinking gaps\n",
      "2019-11-04 23:25:16,346 : INFO : resulting dictionary: Dictionary(1586 unique tokens: ['active', 'active_learn', 'adaptive', 'aggregation', 'allow']...)\n",
      "2019-11-04 23:25:16,348 : INFO : saving Dictionary object under ../corpus/dict_trigram_filtered.dict, separately None\n",
      "2019-11-04 23:25:16,349 : WARNING : this function is deprecated, use smart_open.open instead\n",
      "/Users/alexis/anaconda3/lib/python3.7/site-packages/smart_open/smart_open_lib.py:160: DeprecationWarning: inspect.getargspec() is deprecated, use inspect.signature() or inspect.getfullargspec()\n",
      "  args, varargs, keywords, defaults = inspect.getargspec(kallable)\n",
      "2019-11-04 23:25:16,352 : DEBUG : {'uri': '../corpus/dict_trigram_filtered.dict', 'mode': 'wb', 'buffering': -1, 'encoding': None, 'errors': None, 'newline': None, 'closefd': True, 'opener': None, 'ignore_ext': False, 'transport_params': {}}\n",
      "2019-11-04 23:25:16,356 : INFO : saved ../corpus/dict_trigram_filtered.dict\n"
     ]
    },
    {
     "name": "stdout",
     "output_type": "stream",
     "text": [
      "共 7170 個字\n",
      "\n",
      "Number of unique words after removing rare and common words: 1586\n"
     ]
    }
   ],
   "source": [
    "dictionary = gensim.corpora.Dictionary(processed_docs)\n",
    "print('共',len(dictionary),'個字\\n')\n",
    "\n",
    "# Filter out words that occur less than 10 documents, or more than 20% of the documents.\n",
    "dictionary.filter_extremes(no_below=10, no_above=0.2)\n",
    "print('Number of unique words after removing rare and common words:', len(dictionary))\n",
    "\n",
    "dictionary.save('../corpus/dict_trigram_filtered.dict')\n",
    "#loaded_dict = corpora.Dictionary.load('../corpus/mydict.dict')"
   ]
  },
  {
   "cell_type": "code",
   "execution_count": 12,
   "metadata": {},
   "outputs": [
    {
     "name": "stdout",
     "output_type": "stream",
     "text": [
      "共有 28 個字\n",
      "['markov_decision_process',\n",
      " 'extensive_experiment_conduct',\n",
      " 'paper_propose_novel',\n",
      " 'semi_supervise_learn',\n",
      " 'generative_adversarial_network',\n",
      " 'play_important_role',\n",
      " 'recurrent_neural_network',\n",
      " 'achieve_state_result',\n",
      " 'deep_neural_network',\n",
      " 'paper_present_novel',\n",
      " 'experimental_result_demonstrate',\n",
      " 'natural_language_process',\n",
      " 'convolutional_neural_network',\n",
      " 'outperform_state_method',\n",
      " 'multi_task_learn',\n",
      " 'experiment_real_world',\n",
      " 'demonstrate_effectiveness_propose',\n",
      " 'extensive_experimental_result',\n",
      " 'graph_convolutional_network',\n",
      " 'deep_reinforcement_learn',\n",
      " 'conduct_extensive_experiment',\n",
      " 'neural_machine_translation',\n",
      " 'achieve_state_performance',\n",
      " 'unsupervised_domain_adaptation',\n",
      " 'real_world_datasets',\n",
      " 'significantly_outperform_state',\n",
      " 'real_world_application',\n",
      " 'significantly_improve_performance']\n"
     ]
    }
   ],
   "source": [
    "dic1 = [] \n",
    "for v in dictionary.itervalues():\n",
    "    if v.count('_') == 2:\n",
    "        dic1.append(v)\n",
    "print('共有',len(dic1),'個字')\n",
    "pprint(dic1)"
   ]
  },
  {
   "cell_type": "markdown",
   "metadata": {},
   "source": [
    "### 產生 bag of words corpus"
   ]
  },
  {
   "cell_type": "code",
   "execution_count": 10,
   "metadata": {},
   "outputs": [
    {
     "name": "stderr",
     "output_type": "stream",
     "text": [
      "2019-11-04 23:23:40,550 : INFO : storing corpus in Matrix Market format to ../corpus/corpus_trigram.mm\n",
      "2019-11-04 23:23:40,550 : WARNING : this function is deprecated, use smart_open.open instead\n",
      "/Users/alexis/anaconda3/lib/python3.7/site-packages/smart_open/smart_open_lib.py:160: DeprecationWarning: inspect.getargspec() is deprecated, use inspect.signature() or inspect.getfullargspec()\n",
      "  args, varargs, keywords, defaults = inspect.getargspec(kallable)\n",
      "2019-11-04 23:23:40,551 : DEBUG : {'uri': '../corpus/corpus_trigram.mm', 'mode': 'wb+', 'buffering': -1, 'encoding': None, 'errors': None, 'newline': None, 'closefd': True, 'opener': None, 'ignore_ext': False, 'transport_params': {}}\n",
      "2019-11-04 23:23:40,553 : INFO : saving sparse matrix to ../corpus/corpus_trigram.mm\n",
      "2019-11-04 23:23:40,556 : INFO : PROGRESS: saving document #0\n",
      "2019-11-04 23:23:40,666 : INFO : PROGRESS: saving document #1000\n",
      "2019-11-04 23:23:40,698 : INFO : saved 1343x7170 matrix, density=0.943% (90810/9629310)\n",
      "2019-11-04 23:23:40,698 : DEBUG : closing ../corpus/corpus_trigram.mm\n",
      "2019-11-04 23:23:40,700 : DEBUG : closing ../corpus/corpus_trigram.mm\n",
      "2019-11-04 23:23:40,701 : INFO : saving MmCorpus index to ../corpus/corpus_trigram.mm.index\n",
      "2019-11-04 23:23:40,701 : WARNING : this function is deprecated, use smart_open.open instead\n",
      "/Users/alexis/anaconda3/lib/python3.7/site-packages/smart_open/smart_open_lib.py:160: DeprecationWarning: inspect.getargspec() is deprecated, use inspect.signature() or inspect.getfullargspec()\n",
      "  args, varargs, keywords, defaults = inspect.getargspec(kallable)\n",
      "2019-11-04 23:23:40,708 : DEBUG : {'uri': '../corpus/corpus_trigram.mm.index', 'mode': 'wb', 'buffering': -1, 'encoding': None, 'errors': None, 'newline': None, 'closefd': True, 'opener': None, 'ignore_ext': False, 'transport_params': {}}\n"
     ]
    },
    {
     "name": "stdout",
     "output_type": "stream",
     "text": [
      "共 1343 筆\n"
     ]
    }
   ],
   "source": [
    "bow_corpus = [dictionary.doc2bow(doc) for doc in processed_docs]\n",
    "print('共',len(bow_corpus),'筆')\n",
    "\n",
    "corpora.MmCorpus.serialize('../corpus/corpus_trigram.mm', bow_corpus)\n",
    "#corpus_test = corpora.MmCorpus('../corpus/bow_corpus.mm')"
   ]
  },
  {
   "cell_type": "code",
   "execution_count": null,
   "metadata": {},
   "outputs": [],
   "source": [
    "# 不要執行\n",
    "# 奇怪的現象 (被吃了三個字)\n",
    "\n",
    "dic1 = [] # uni-gram\n",
    "for v in dictionary.itervalues():\n",
    "    dic1.append(v)\n",
    "print('uni-gram dictionary 共有',len(dic1),'個字')\n",
    "\n",
    "dic2 = [] #bi-gram\n",
    "for v in dictionary2.itervalues():\n",
    "    dic2.append(v)\n",
    "print('bi-gram dictionary 共有',len(dic2),'個字')\n",
    "\n",
    "print('\\n')\n",
    "\n",
    "print('uni-gram dic 比 bi-gram dictionary 多了',len(list(set(dic1)-set(dic2))),'個字')\n",
    "print(list(set(dic1) - set(dic2)))\n",
    "\n",
    "print('\\n')\n",
    "\n",
    "print('bi-gram dic 比 uni-gram dictionary 多了',len(list(set(dic2)-set(dic1))),'個字')\n",
    "print(list(set(dic2) - set(dic1)))"
   ]
  }
 ],
 "metadata": {
  "kernelspec": {
   "display_name": "Python 3",
   "language": "python",
   "name": "python3"
  },
  "language_info": {
   "codemirror_mode": {
    "name": "ipython",
    "version": 3
   },
   "file_extension": ".py",
   "mimetype": "text/x-python",
   "name": "python",
   "nbconvert_exporter": "python",
   "pygments_lexer": "ipython3",
   "version": "3.7.1"
  }
 },
 "nbformat": 4,
 "nbformat_minor": 2
}
