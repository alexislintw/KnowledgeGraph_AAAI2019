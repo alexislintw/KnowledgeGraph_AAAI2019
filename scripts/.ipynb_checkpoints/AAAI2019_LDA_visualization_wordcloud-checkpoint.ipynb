{
 "cells": [
  {
   "cell_type": "markdown",
   "metadata": {},
   "source": [
    "# 視覺化 LDA模型\n",
    "\n",
    "### 參考資料\n",
    "- https://www.machinelearningplus.com/nlp/topic-modeling-visualization-how-to-present-results-lda-models/\n",
    "- https://datartisan.gitbooks.io/begining-text-mining-with-python/%E7%AC%AC8%E7%AB%A0%20%E6%96%87%E6%9C%AC%E6%95%B0%E6%8D%AE%E5%8F%AF%E8%A7%86%E5%8C%96/8.2%20%E6%96%87%E6%9C%AC%E5%85%B3%E7%B3%BB%E5%8F%AF%E8%A7%86%E5%8C%96.html\n"
   ]
  },
  {
   "cell_type": "code",
   "execution_count": 1,
   "metadata": {},
   "outputs": [],
   "source": [
    "#!pip install pyldavis"
   ]
  },
  {
   "cell_type": "code",
   "execution_count": 22,
   "metadata": {},
   "outputs": [],
   "source": [
    "import os\n",
    "import numpy as np\n",
    "import pandas as pd\n",
    "from collections import Counter\n",
    "from enum import Enum\n",
    "from pprint import pprint\n",
    "\n",
    "from wordcloud import WordCloud, STOPWORDS, ImageColorGenerator\n",
    "import matplotlib.pyplot as plt\n",
    "import matplotlib.colors as mcolors\n",
    "cols = [color for name, color in mcolors.TABLEAU_COLORS.items()]\n",
    "\n",
    "import nltk\n",
    "from nltk.stem import WordNetLemmatizer\n",
    "wordnet_lemmatizer = WordNetLemmatizer()\n",
    "\n",
    "import gensim\n",
    "from gensim.utils import simple_preprocess\n",
    "from gensim.parsing.preprocessing import STOPWORDS\n",
    "from gensim import corpora, models\n",
    "\n",
    "import pyLDAvis\n",
    "import pyLDAvis.gensim\n",
    "from gensim.models.ldamodel import LdaModel"
   ]
  },
  {
   "cell_type": "markdown",
   "metadata": {},
   "source": [
    "## 自定義 data types and functions"
   ]
  },
  {
   "cell_type": "code",
   "execution_count": 3,
   "metadata": {},
   "outputs": [],
   "source": [
    "class ContentType(Enum):\n",
    "    TIT = 'title'\n",
    "    ABS = 'abstract'\n",
    "    AUT = 'author'\n",
    "    SEC = 'section'\n",
    "    \n",
    "def get_contents(content_type):\n",
    "    all_contents = []\n",
    "    dataset_path = '../dataset'\n",
    "    for file in os.listdir(dataset_path):\n",
    "        file_path = os.path.join(dataset_path, file)\n",
    "        if os.path.isfile(file_path):\n",
    "            with open(file_path) as f:  \n",
    "                line = f.readlines()\n",
    "                if content_type == ContentType.AUT:\n",
    "                    line = line[1]\n",
    "                elif content_type == ContentType.SEC:\n",
    "                    line = line[2]\n",
    "                elif content_type == ContentType.ABS:\n",
    "                    line = line[3]\n",
    "                else:\n",
    "                    line = line[0]\n",
    "                line = line.strip()\n",
    "                all_contents.append(line)\n",
    "        else:\n",
    "            print(file_path + ' does not exist.')\n",
    "    return all_contents\n",
    "\n",
    "\n",
    "def get_all_titles():\n",
    "    return get_contents(ContentType.TIT)\n",
    "\n",
    "def get_all_authors():        \n",
    "    return get_contents(ContentType.AUT)\n",
    "\n",
    "def get_all_sections():\n",
    "    return get_contents(ContentType.SEC)\n",
    "\n",
    "def get_all_abstracts():\n",
    "    return get_contents(ContentType.ABS)\n",
    "\n",
    "def preprocess(text):\n",
    "    result = []\n",
    "    for token in gensim.utils.simple_preprocess(text):\n",
    "        if token not in gensim.parsing.preprocessing.STOPWORDS and len(token) > 3:\n",
    "            token = wordnet_lemmatizer.lemmatize(token, pos='v')\n",
    "            token = wordnet_lemmatizer.lemmatize(token, pos='n')\n",
    "            result.append(token)\n",
    "    return result"
   ]
  },
  {
   "cell_type": "markdown",
   "metadata": {},
   "source": [
    "### 取出所有摘要"
   ]
  },
  {
   "cell_type": "code",
   "execution_count": 4,
   "metadata": {},
   "outputs": [
    {
     "name": "stdout",
     "output_type": "stream",
     "text": [
      "共 1343 篇論文\n",
      "\n"
     ]
    },
    {
     "data": {
      "text/html": [
       "<div>\n",
       "<style scoped>\n",
       "    .dataframe tbody tr th:only-of-type {\n",
       "        vertical-align: middle;\n",
       "    }\n",
       "\n",
       "    .dataframe tbody tr th {\n",
       "        vertical-align: top;\n",
       "    }\n",
       "\n",
       "    .dataframe thead th {\n",
       "        text-align: right;\n",
       "    }\n",
       "</style>\n",
       "<table border=\"1\" class=\"dataframe\">\n",
       "  <thead>\n",
       "    <tr style=\"text-align: right;\">\n",
       "      <th></th>\n",
       "      <th>abstract</th>\n",
       "      <th>index</th>\n",
       "    </tr>\n",
       "  </thead>\n",
       "  <tbody>\n",
       "    <tr>\n",
       "      <th>0</th>\n",
       "      <td>We consider the problem of actively eliciting ...</td>\n",
       "      <td>0</td>\n",
       "    </tr>\n",
       "    <tr>\n",
       "      <th>1</th>\n",
       "      <td>We investigate the task of distractor generati...</td>\n",
       "      <td>1</td>\n",
       "    </tr>\n",
       "    <tr>\n",
       "      <th>2</th>\n",
       "      <td>The most common representation formalisms for ...</td>\n",
       "      <td>2</td>\n",
       "    </tr>\n",
       "    <tr>\n",
       "      <th>3</th>\n",
       "      <td>Statistical relational learning models are pow...</td>\n",
       "      <td>3</td>\n",
       "    </tr>\n",
       "    <tr>\n",
       "      <th>4</th>\n",
       "      <td>Multimodal representation learning is gaining ...</td>\n",
       "      <td>4</td>\n",
       "    </tr>\n",
       "    <tr>\n",
       "      <th>5</th>\n",
       "      <td>Reinforcement learning (RL) has shown its adva...</td>\n",
       "      <td>5</td>\n",
       "    </tr>\n",
       "    <tr>\n",
       "      <th>6</th>\n",
       "      <td>Selecting appropriate tutoring help actions th...</td>\n",
       "      <td>6</td>\n",
       "    </tr>\n",
       "    <tr>\n",
       "      <th>7</th>\n",
       "      <td>Recognizing time expressions is a fundamental ...</td>\n",
       "      <td>7</td>\n",
       "    </tr>\n",
       "    <tr>\n",
       "      <th>8</th>\n",
       "      <td>When facing large-scale image datasets, online...</td>\n",
       "      <td>8</td>\n",
       "    </tr>\n",
       "    <tr>\n",
       "      <th>9</th>\n",
       "      <td>Temporal modeling in videos is a fundamental y...</td>\n",
       "      <td>9</td>\n",
       "    </tr>\n",
       "  </tbody>\n",
       "</table>\n",
       "</div>"
      ],
      "text/plain": [
       "                                            abstract  index\n",
       "0  We consider the problem of actively eliciting ...      0\n",
       "1  We investigate the task of distractor generati...      1\n",
       "2  The most common representation formalisms for ...      2\n",
       "3  Statistical relational learning models are pow...      3\n",
       "4  Multimodal representation learning is gaining ...      4\n",
       "5  Reinforcement learning (RL) has shown its adva...      5\n",
       "6  Selecting appropriate tutoring help actions th...      6\n",
       "7  Recognizing time expressions is a fundamental ...      7\n",
       "8  When facing large-scale image datasets, online...      8\n",
       "9  Temporal modeling in videos is a fundamental y...      9"
      ]
     },
     "execution_count": 4,
     "metadata": {},
     "output_type": "execute_result"
    }
   ],
   "source": [
    "contents = get_all_abstracts()\n",
    "print('共',len(contents),'篇論文\\n')\n",
    "\n",
    "documents = pd.DataFrame(data=contents,columns=['abstract'])\n",
    "documents['index'] = documents.index\n",
    "documents[:10]"
   ]
  },
  {
   "cell_type": "markdown",
   "metadata": {},
   "source": [
    "### 預處理的全部論文摘要"
   ]
  },
  {
   "cell_type": "code",
   "execution_count": 5,
   "metadata": {},
   "outputs": [
    {
     "data": {
      "text/plain": [
       "0    [consider, problem, actively, elicit, preferen...\n",
       "1    [investigate, task, distractor, generation, mu...\n",
       "2    [common, representation, formalism, plan, desc...\n",
       "3    [statistical, relational, learn, model, powerf...\n",
       "4    [multimodal, representation, learn, gain, deep...\n",
       "5    [reinforcement, learn, show, advantage, image,...\n",
       "6    [select, appropriate, tutor, help, action, acc...\n",
       "7    [recognize, time, expression, fundamental, imp...\n",
       "8    [face, large, scale, image, datasets, online, ...\n",
       "9    [temporal, model, video, fundamental, challeng...\n",
       "Name: abstract, dtype: object"
      ]
     },
     "execution_count": 5,
     "metadata": {},
     "output_type": "execute_result"
    }
   ],
   "source": [
    "processed_docs = documents['abstract'].map(preprocess)\n",
    "processed_docs[:10]"
   ]
  },
  {
   "cell_type": "markdown",
   "metadata": {},
   "source": [
    "## Dataset"
   ]
  },
  {
   "cell_type": "markdown",
   "metadata": {},
   "source": [
    "### 產生字典"
   ]
  },
  {
   "cell_type": "code",
   "execution_count": 6,
   "metadata": {},
   "outputs": [
    {
     "name": "stdout",
     "output_type": "stream",
     "text": [
      "共 6927 個字\n",
      "\n"
     ]
    }
   ],
   "source": [
    "dictionary = gensim.corpora.Dictionary(processed_docs)\n",
    "print('共',len(dictionary),'個字\\n')"
   ]
  },
  {
   "cell_type": "markdown",
   "metadata": {},
   "source": [
    "### 產生 bag of words corpus"
   ]
  },
  {
   "cell_type": "code",
   "execution_count": 7,
   "metadata": {},
   "outputs": [
    {
     "name": "stdout",
     "output_type": "stream",
     "text": [
      "共 1343 筆\n"
     ]
    }
   ],
   "source": [
    "bow_corpus = [dictionary.doc2bow(doc) for doc in processed_docs]\n",
    "print('共',len(bow_corpus),'筆')"
   ]
  },
  {
   "cell_type": "markdown",
   "metadata": {},
   "source": [
    "### 產生TF-IDF Corpus"
   ]
  },
  {
   "cell_type": "code",
   "execution_count": 8,
   "metadata": {},
   "outputs": [
    {
     "name": "stdout",
     "output_type": "stream",
     "text": [
      "共 1343 筆\n"
     ]
    }
   ],
   "source": [
    "tfidf = models.TfidfModel(bow_corpus)\n",
    "corpus_tfidf = tfidf[bow_corpus]\n",
    "print('共',len(corpus_tfidf),'筆')"
   ]
  },
  {
   "cell_type": "markdown",
   "metadata": {},
   "source": [
    "## Load LDA models"
   ]
  },
  {
   "cell_type": "code",
   "execution_count": 59,
   "metadata": {},
   "outputs": [
    {
     "name": "stderr",
     "output_type": "stream",
     "text": [
      "/Users/alexis/anaconda3/lib/python3.7/site-packages/smart_open/smart_open_lib.py:160: DeprecationWarning: inspect.getargspec() is deprecated, use inspect.signature() or inspect.getfullargspec()\n",
      "  args, varargs, keywords, defaults = inspect.getargspec(kallable)\n",
      "/Users/alexis/anaconda3/lib/python3.7/site-packages/smart_open/smart_open_lib.py:160: DeprecationWarning: inspect.getargspec() is deprecated, use inspect.signature() or inspect.getfullargspec()\n",
      "  args, varargs, keywords, defaults = inspect.getargspec(kallable)\n",
      "/Users/alexis/anaconda3/lib/python3.7/site-packages/smart_open/smart_open_lib.py:160: DeprecationWarning: inspect.getargspec() is deprecated, use inspect.signature() or inspect.getfullargspec()\n",
      "  args, varargs, keywords, defaults = inspect.getargspec(kallable)\n"
     ]
    }
   ],
   "source": [
    "num_topics = 5\n",
    "file_name = '../models/lda_tfidf_topic_' + str(num_topics) + '.model'\n",
    "lda_model = models.ldamodel.LdaModel.load(file_name)"
   ]
  },
  {
   "cell_type": "code",
   "execution_count": 55,
   "metadata": {},
   "outputs": [
    {
     "name": "stdout",
     "output_type": "stream",
     "text": [
      "Topic: 0\n",
      "Words: 0.001*\"mapf\" + 0.001*\"financial\" + 0.001*\"spot\" + 0.001*\"tutor\" + 0.001*\"diffusion\" + 0.000*\"turnover\" + 0.000*\"hurricane\" + 0.000*\"blame\" + 0.000*\"habitat\" + 0.000*\"compensatory\"\n",
      "\n",
      "Topic: 1\n",
      "Words: 0.003*\"model\" + 0.002*\"learn\" + 0.002*\"network\" + 0.002*\"data\" + 0.002*\"feature\" + 0.002*\"algorithm\" + 0.002*\"image\" + 0.002*\"method\" + 0.002*\"label\" + 0.002*\"task\"\n",
      "\n",
      "Topic: 2\n",
      "Words: 0.000*\"metrical\" + 0.000*\"quota\" + 0.000*\"vessel\" + 0.000*\"facet\" + 0.000*\"poll\" + 0.000*\"moea\" + 0.000*\"argumenthood\" + 0.000*\"ultrasound\" + 0.000*\"sans\" + 0.000*\"ticket\"\n",
      "\n"
     ]
    }
   ],
   "source": [
    "for idx, topic in lda_model.print_topics(-1):\n",
    "    print('Topic: {}\\nWords: {}\\n'.format(idx, topic))"
   ]
  },
  {
   "cell_type": "markdown",
   "metadata": {},
   "source": [
    "### 文字雲"
   ]
  },
  {
   "cell_type": "code",
   "execution_count": 47,
   "metadata": {},
   "outputs": [
    {
     "data": {
      "image/png": "[encoded data removed]",
      "text/plain": [
       "<Figure size 720x720 with 3 Axes>"
      ]
     },
     "metadata": {
      "needs_background": "light"
     },
     "output_type": "display_data"
    }
   ],
   "source": [
    "stop_words = STOPWORDS\n",
    "cloud = WordCloud(stopwords=stop_words,\n",
    "                  background_color='white',\n",
    "                  width=2500,\n",
    "                  height=1800,\n",
    "                  max_words=10,\n",
    "                  colormap='tab10',\n",
    "                  color_func=lambda *args, **kwargs: cols[i],\n",
    "                  prefer_horizontal=1.0)\n",
    "\n",
    "topics = lda_model.show_topics(formatted=False)\n",
    "\n",
    "fig,axes = plt.subplots(1, 3, figsize=(10,10), sharex=True, sharey=True)\n",
    "\n",
    "for i, ax in enumerate(axes.flatten()):\n",
    "    fig.add_subplot(ax)\n",
    "    topic_words = dict(topics[i][1])\n",
    "    cloud.generate_from_frequencies(topic_words, max_font_size=300)\n",
    "    plt.gca().imshow(cloud)\n",
    "    plt.gca().set_title('Topic ' + str(i), fontdict=dict(size=16))\n",
    "    plt.gca().axis('off')\n",
    "\n",
    "\n",
    "plt.subplots_adjust(wspace=0, hspace=0)\n",
    "plt.axis('off')\n",
    "plt.margins(x=0, y=0)\n",
    "plt.tight_layout()\n",
    "plt.show()"
   ]
  },
  {
   "cell_type": "markdown",
   "metadata": {},
   "source": [
    "### pyLDAvis\n",
    "\n",
    "- 左側為“主題距離地圖”，展示各個主題之間的差異，圖中帶有數字編號的圓形即代表各個主題，圓形的面積與該主題出現的可能性成正比，並且按照面積大小自動進行編號，\n",
    "- 右側為各個主題前30個最為相關的詞彙，對各個主題進行解釋說明，以水平柱狀圖的形式展示，藍色表示整體詞頻，紅色表示主題詞頻，"
   ]
  },
  {
   "cell_type": "code",
   "execution_count": 60,
   "metadata": {},
   "outputs": [
    {
     "name": "stderr",
     "output_type": "stream",
     "text": [
      "/Users/alexis/anaconda3/lib/python3.7/site-packages/pyLDAvis/_prepare.py:257: FutureWarning: Sorting because non-concatenation axis is not aligned. A future version\n",
      "of pandas will change to not sort by default.\n",
      "\n",
      "To accept the future behavior, pass 'sort=False'.\n",
      "\n",
      "To retain the current behavior and silence the warning, pass 'sort=True'.\n",
      "\n",
      "  return pd.concat([default_term_info] + list(topic_dfs))\n"
     ]
    },
    {
     "data": {
      "text/html": [
       "\n",
       "<link rel=\"stylesheet\" type=\"text/css\" href=\"https://cdn.rawgit.com/bmabey/pyLDAvis/files/ldavis.v1.0.0.css\">\n",
       "\n",
       "\n",
       "<div id=\"ldavis_el1606791628270005886297876\"></div>\n",
       "<script type=\"text/javascript\">\n",
       "\n",
       "var ldavis_el1606791628270005886297876_data = {\"mdsDat\": {\"x\": [-0.04156897829182598, -0.03600641026230413, -0.019593057664183136, 0.02614531238051588, 0.07102313383779736], \"y\": [-0.024066897811947888, 0.02567358434191143, 3.83927121583589e-05, -0.0009262519989310675, -0.0007188272431907712], \"topics\": [1, 2, 3, 4, 5], \"cluster\": [1, 1, 1, 1, 1], \"Freq\": [32.67409133911133, 29.725399017333984, 24.689916610717773, 9.264324188232422, 3.6462559700012207]}, \"tinfo\": {\"Category\": [\"Default\", \"Default\", \"Default\", \"Default\", \"Default\", \"Default\", \"Default\", \"Default\", \"Default\", \"Default\", \"Default\", \"Default\", \"Default\", \"Default\", \"Default\", \"Default\", \"Default\", \"Default\", \"Default\", \"Default\", \"Default\", \"Default\", \"Default\", \"Default\", \"Default\", \"Default\", \"Default\", \"Default\", \"Default\", \"Default\", \"Topic1\", \"Topic1\", \"Topic1\", \"Topic1\", \"Topic1\", \"Topic1\", \"Topic1\", \"Topic1\", \"Topic1\", \"Topic1\", \"Topic1\", \"Topic1\", \"Topic1\", \"Topic1\", \"Topic1\", \"Topic1\", \"Topic1\", \"Topic1\", \"Topic1\", \"Topic1\", \"Topic1\", \"Topic1\", \"Topic1\", \"Topic1\", \"Topic1\", \"Topic1\", \"Topic1\", \"Topic1\", \"Topic1\", \"Topic1\", \"Topic1\", \"Topic1\", \"Topic1\", \"Topic1\", \"Topic1\", \"Topic1\", \"Topic1\", \"Topic1\", \"Topic1\", \"Topic1\", \"Topic1\", \"Topic1\", \"Topic1\", \"Topic1\", \"Topic1\", \"Topic1\", \"Topic1\", \"Topic1\", \"Topic1\", \"Topic1\", \"Topic1\", \"Topic1\", \"Topic1\", \"Topic1\", \"Topic1\", \"Topic1\", \"Topic1\", \"Topic1\", \"Topic1\", \"Topic1\", \"Topic1\", \"Topic1\", \"Topic1\", \"Topic1\", \"Topic1\", \"Topic1\", \"Topic1\", \"Topic1\", \"Topic1\", \"Topic1\", \"Topic2\", \"Topic2\", \"Topic2\", \"Topic2\", \"Topic2\", \"Topic2\", \"Topic2\", \"Topic2\", \"Topic2\", \"Topic2\", \"Topic2\", \"Topic2\", \"Topic2\", \"Topic2\", \"Topic2\", \"Topic2\", \"Topic2\", \"Topic2\", \"Topic2\", \"Topic2\", \"Topic2\", \"Topic2\", \"Topic2\", \"Topic2\", \"Topic2\", \"Topic2\", \"Topic2\", \"Topic2\", \"Topic2\", \"Topic2\", \"Topic2\", \"Topic2\", \"Topic2\", \"Topic2\", \"Topic2\", \"Topic2\", \"Topic2\", \"Topic2\", \"Topic2\", \"Topic2\", \"Topic2\", \"Topic2\", \"Topic2\", \"Topic2\", \"Topic2\", \"Topic2\", \"Topic2\", \"Topic2\", \"Topic2\", \"Topic2\", \"Topic2\", \"Topic2\", \"Topic2\", \"Topic2\", \"Topic2\", \"Topic2\", \"Topic2\", \"Topic2\", \"Topic2\", \"Topic2\", \"Topic2\", \"Topic2\", \"Topic2\", \"Topic2\", \"Topic2\", \"Topic2\", \"Topic2\", \"Topic2\", \"Topic2\", \"Topic3\", \"Topic3\", \"Topic3\", \"Topic3\", \"Topic3\", \"Topic3\", \"Topic3\", \"Topic3\", \"Topic3\", \"Topic3\", \"Topic3\", \"Topic3\", \"Topic3\", \"Topic3\", \"Topic3\", \"Topic3\", \"Topic3\", \"Topic3\", \"Topic3\", \"Topic3\", \"Topic3\", \"Topic3\", \"Topic3\", \"Topic3\", \"Topic3\", \"Topic3\", \"Topic3\", \"Topic3\", \"Topic3\", \"Topic3\", \"Topic3\", \"Topic3\", \"Topic3\", \"Topic3\", \"Topic3\", \"Topic3\", \"Topic3\", \"Topic3\", \"Topic3\", \"Topic3\", \"Topic3\", \"Topic3\", \"Topic3\", \"Topic3\", \"Topic3\", \"Topic3\", \"Topic3\", \"Topic3\", \"Topic3\", \"Topic3\", \"Topic3\", \"Topic3\", \"Topic3\", \"Topic3\", \"Topic3\", \"Topic3\", \"Topic3\", \"Topic3\", \"Topic3\", \"Topic3\", \"Topic3\", \"Topic3\", \"Topic3\", \"Topic3\", \"Topic3\", \"Topic3\", \"Topic3\", \"Topic3\", \"Topic3\", \"Topic3\", \"Topic3\", \"Topic3\", \"Topic3\", \"Topic3\", \"Topic3\", \"Topic3\", \"Topic3\", \"Topic3\", \"Topic4\", \"Topic4\", \"Topic4\", \"Topic4\", \"Topic4\", \"Topic4\", \"Topic4\", \"Topic4\", \"Topic4\", \"Topic4\", \"Topic4\", \"Topic4\", \"Topic4\", \"Topic4\", \"Topic4\", \"Topic4\", \"Topic4\", \"Topic4\", \"Topic4\", \"Topic4\", \"Topic4\", \"Topic4\", \"Topic4\", \"Topic4\", \"Topic4\", \"Topic4\", \"Topic4\", \"Topic4\", \"Topic4\", \"Topic4\", \"Topic4\", \"Topic4\", \"Topic4\", \"Topic4\", \"Topic4\", \"Topic4\", \"Topic4\", \"Topic4\", \"Topic4\", \"Topic4\", \"Topic4\", \"Topic4\", \"Topic4\", \"Topic4\", \"Topic4\", \"Topic4\", \"Topic4\", \"Topic4\", \"Topic4\", \"Topic4\", \"Topic4\", \"Topic4\", \"Topic4\", \"Topic4\", \"Topic4\", \"Topic4\", \"Topic4\", \"Topic4\", \"Topic4\", \"Topic4\", \"Topic4\", \"Topic4\", \"Topic4\", \"Topic4\", \"Topic4\", \"Topic4\", \"Topic4\", \"Topic4\", \"Topic4\", \"Topic5\", \"Topic5\", \"Topic5\", \"Topic5\", \"Topic5\", \"Topic5\", \"Topic5\", \"Topic5\", \"Topic5\", \"Topic5\", \"Topic5\", \"Topic5\", \"Topic5\", \"Topic5\", \"Topic5\", \"Topic5\", \"Topic5\", \"Topic5\", \"Topic5\", \"Topic5\", \"Topic5\", \"Topic5\", \"Topic5\", \"Topic5\", \"Topic5\", \"Topic5\", \"Topic5\", \"Topic5\", \"Topic5\", \"Topic5\", \"Topic5\", \"Topic5\", \"Topic5\", \"Topic5\", \"Topic5\", \"Topic5\"], \"Freq\": [7.0, 11.0, 5.0, 6.0, 3.0, 1.0, 0.0, 1.0, 2.0, 3.0, 2.0, 1.0, 8.0, 4.0, 5.0, 1.0, 0.0, 7.0, 9.0, 5.0, 1.0, 1.0, 5.0, 0.0, 3.0, 2.0, 3.0, 1.0, 0.0, 0.0, 1.83182692527771, 5.847500801086426, 1.7343249320983887, 1.7645211219787598, 2.9476003646850586, 2.1189217567443848, 1.182510495185852, 1.4357476234436035, 2.9540553092956543, 1.0184133052825928, 2.306063175201416, 0.9718619585037231, 1.0472397804260254, 1.3656113147735596, 0.8505420684814453, 0.8513638377189636, 3.1843578815460205, 5.940545558929443, 0.8918527364730835, 1.5421863794326782, 1.023508071899414, 0.9981932640075684, 0.7936233878135681, 0.9884647727012634, 0.8816325068473816, 0.8638055920600891, 0.7380903363227844, 2.198293924331665, 1.0609121322631836, 1.067028522491455, 6.211329936981201, 1.3620296716690063, 3.207618474960327, 2.882488965988159, 3.511685848236084, 2.400691270828247, 2.39678692817688, 3.045346975326538, 2.6374573707580566, 4.813966751098633, 1.8142541646957397, 6.766735076904297, 6.7969160079956055, 4.464411735534668, 3.7216432094573975, 2.3045403957366943, 6.379994869232178, 6.473354816436768, 5.434678554534912, 4.771833419799805, 3.4985098838806152, 5.4932966232299805, 4.300118446350098, 4.3349480628967285, 5.830819606781006, 5.339681148529053, 5.390215873718262, 4.6537346839904785, 3.543159008026123, 3.6017801761627197, 3.668959617614746, 3.9435112476348877, 4.087762832641602, 4.077942848205566, 3.6689486503601074, 3.725285053253174, 3.608081579208374, 3.7406179904937744, 3.5590133666992188, 3.543882369995117, 2.483093738555908, 2.99520206451416, 1.7794228792190552, 1.5737119913101196, 1.7225817441940308, 0.9435715079307556, 2.1581923961639404, 0.9489985704421997, 2.581326723098755, 1.140154480934143, 1.5967265367507935, 1.8757045269012451, 1.416717529296875, 1.7444946765899658, 0.8393642902374268, 3.0661509037017822, 3.982149362564087, 1.1663565635681152, 2.450514078140259, 2.4824280738830566, 0.9495959877967834, 1.2309173345565796, 0.8111043572425842, 0.9037530422210693, 0.8448463082313538, 0.9749640822410583, 1.0352191925048828, 0.7273575663566589, 1.3962081670761108, 1.2887835502624512, 1.9830800294876099, 1.579932451248169, 1.9746061563491821, 1.3778586387634277, 2.8557987213134766, 4.193636417388916, 2.085108518600464, 2.801907777786255, 2.910236358642578, 4.076472282409668, 4.477866172790527, 3.8197124004364014, 4.611619472503662, 5.711773872375488, 4.068938255310059, 3.5533175468444824, 5.947281837463379, 3.4475584030151367, 3.9222967624664307, 5.039641857147217, 4.2824578285217285, 2.6242847442626953, 3.7300689220428467, 4.604598522186279, 3.5668649673461914, 3.7934436798095703, 4.284763813018799, 3.9907259941101074, 4.039687156677246, 3.992107629776001, 4.085740089416504, 3.235569715499878, 3.9557511806488037, 3.509044647216797, 3.392508029937744, 3.264626979827881, 3.3461334705352783, 3.344461441040039, 3.2359673976898193, 1.041420817375183, 0.9908989071846008, 0.8010531663894653, 1.060442328453064, 0.7840621471405029, 0.8661969304084778, 0.877923309803009, 0.7167208790779114, 0.7039517760276794, 0.768816351890564, 1.23513662815094, 0.9098853468894958, 0.8300251960754395, 0.9969767332077026, 0.7774578332901001, 0.6409435868263245, 0.8537527322769165, 1.6780486106872559, 1.1238678693771362, 0.6113483905792236, 0.7869621515274048, 0.5993638634681702, 0.5957745909690857, 0.5849291086196899, 0.5768159627914429, 0.56988126039505, 0.6133388876914978, 0.5658277869224548, 1.0183974504470825, 0.955765962600708, 0.8369463682174683, 1.0325311422348022, 1.5307945013046265, 0.8564412593841553, 2.2467238903045654, 1.1806212663650513, 1.1526737213134766, 1.4919652938842773, 1.3524303436279297, 1.7878856658935547, 2.416929006576538, 2.5557403564453125, 1.492944598197937, 3.0108580589294434, 3.8438310623168945, 1.8605247735977173, 1.7141698598861694, 2.780322313308716, 1.6599245071411133, 4.11739444732666, 2.0606191158294678, 3.533352851867676, 3.9490315914154053, 3.9831607341766357, 3.6718015670776367, 3.1416382789611816, 3.2076876163482666, 2.848579168319702, 3.218761444091797, 3.1304931640625, 2.3759303092956543, 2.4188220500946045, 2.1795341968536377, 2.172217845916748, 2.5344090461730957, 3.0874061584472656, 2.27644681930542, 2.9841856956481934, 2.473806381225586, 2.8311891555786133, 2.493277072906494, 2.2410435676574707, 2.1402525901794434, 2.3882367610931396, 2.2815685272216797, 2.2931711673736572, 2.3009023666381836, 2.303384780883789, 0.6518511176109314, 0.49434393644332886, 0.4152727425098419, 0.7881482839584351, 0.34227854013442993, 0.6693542003631592, 0.32514235377311707, 0.39014846086502075, 0.3125268816947937, 0.4944552183151245, 0.4321945309638977, 0.8221588134765625, 0.29746106266975403, 0.29401272535324097, 0.29792094230651855, 0.287680059671402, 0.3098938763141632, 0.2837572395801544, 0.3079143762588501, 0.31810832023620605, 0.29902511835098267, 0.45562517642974854, 0.2780836224555969, 0.3150482475757599, 0.2749710977077484, 0.2763596177101135, 0.2802498936653137, 0.5721323490142822, 0.2684348523616791, 0.2701992392539978, 0.4367990493774414, 0.3159780204296112, 0.449489563703537, 0.30866414308547974, 0.5617823004722595, 0.32349398732185364, 0.5032860636711121, 0.6373530626296997, 0.440468966960907, 1.484511375427246, 0.9606984257698059, 0.6529624462127686, 0.966977059841156, 0.43685778975486755, 0.43697890639305115, 0.46071961522102356, 0.7712198495864868, 1.172990083694458, 1.051298975944519, 0.6413307189941406, 0.5048311352729797, 0.7099595665931702, 0.825201690196991, 0.6147376894950867, 0.7048383355140686, 0.8437162041664124, 0.7205250263214111, 0.594398021697998, 0.6729714870452881, 0.7668085694313049, 0.6114470362663269, 0.5976736545562744, 0.6482277512550354, 0.6755279898643494, 0.6979336738586426, 0.6294608116149902, 0.6834892630577087, 0.6284598708152771, 0.6133171319961548, 0.373136043548584, 0.26832085847854614, 0.23407459259033203, 0.22511596977710724, 0.1900743544101715, 0.19043530523777008, 0.18616746366024017, 0.1811242550611496, 0.15980535745620728, 0.15743349492549896, 0.15638884902000427, 0.1549730896949768, 0.15404370427131653, 0.15198197960853577, 0.15025296807289124, 0.153463676571846, 0.14495332539081573, 0.14495304226875305, 0.1423873007297516, 0.16652651131153107, 0.14131799340248108, 0.1406417340040207, 0.14338453114032745, 0.1379229724407196, 0.1974496841430664, 0.15359243750572205, 0.12807922065258026, 0.12458508461713791, 0.12483706325292587, 0.1248193010687828, 0.1577892005443573, 0.1783725768327713, 0.15447619557380676, 0.15292543172836304, 0.15969327092170715, 0.14307013154029846], \"Term\": [\"cluster\", \"agent\", \"policy\", \"search\", \"logic\", \"option\", \"diffusion\", \"worker\", \"traffic\", \"explanation\", \"abstraction\", \"vehicle\", \"class\", \"preference\", \"entity\", \"puzzle\", \"subgoals\", \"answer\", \"video\", \"frame\", \"disease\", \"sketch\", \"reinforcement\", \"drug\", \"modal\", \"fair\", \"resource\", \"compression\", \"wcsps\", \"blameworthiness\", \"saliency\", \"cluster\", \"ground\", \"dropout\", \"caption\", \"fairness\", \"specificity\", \"color\", \"segmentation\", \"swap\", \"shoot\", \"envy\", \"portfolio\", \"decode\", \"encoders\", \"surveillance\", \"shape\", \"class\", \"sensitivity\", \"cloud\", \"minority\", \"covariance\", \"multiplicative\", \"fisher\", \"synonym\", \"imbalanced\", \"automl\", \"lstm\", \"graphical\", \"pseudo\", \"video\", \"spectral\", \"metric\", \"region\", \"classifier\", \"generative\", \"decoder\", \"frame\", \"kernel\", \"object\", \"variational\", \"label\", \"image\", \"classification\", \"loss\", \"encoder\", \"feature\", \"learn\", \"train\", \"representation\", \"instance\", \"method\", \"sample\", \"word\", \"model\", \"data\", \"network\", \"task\", \"datasets\", \"action\", \"framework\", \"information\", \"problem\", \"approach\", \"performance\", \"neural\", \"propose\", \"algorithm\", \"text\", \"embed\", \"modal\", \"explanation\", \"opinion\", \"verification\", \"assignment\", \"talk\", \"hash\", \"gnns\", \"logic\", \"sketch\", \"schedule\", \"table\", \"satisfiability\", \"argument\", \"molecule\", \"face\", \"entity\", \"mention\", \"story\", \"extraction\", \"body\", \"comprehension\", \"diagnose\", \"parser\", \"trust\", \"session\", \"minimal\", \"autoregressive\", \"formula\", \"argumentation\", \"alignment\", \"recommender\", \"modality\", \"couple\", \"reason\", \"answer\", \"cross\", \"selection\", \"rule\", \"relation\", \"user\", \"question\", \"graph\", \"feature\", \"text\", \"prediction\", \"model\", \"semantic\", \"knowledge\", \"data\", \"domain\", \"interaction\", \"base\", \"network\", \"time\", \"information\", \"image\", \"approach\", \"algorithm\", \"task\", \"method\", \"temporal\", \"learn\", \"representation\", \"multi\", \"word\", \"problem\", \"train\", \"label\", \"multilingual\", \"tracker\", \"ethical\", \"welfare\", \"spot\", \"monotone\", \"crowd\", \"hyper\", \"gaze\", \"participant\", \"demonstration\", \"german\", \"modular\", \"discourse\", \"crowdsourcing\", \"park\", \"child\", \"english\", \"intelligent\", \"nonverbal\", \"learnability\", \"temperature\", \"dialog\", \"mirror\", \"clone\", \"aesthetic\", \"log\", \"conceptual\", \"submodular\", \"vertex\", \"interpretation\", \"inverse\", \"robot\", \"transferable\", \"reward\", \"life\", \"paraphrase\", \"track\", \"review\", \"environment\", \"policy\", \"constraint\", \"hide\", \"target\", \"agent\", \"preference\", \"estimation\", \"function\", \"heuristic\", \"network\", \"objective\", \"algorithm\", \"learn\", \"model\", \"data\", \"domain\", \"problem\", \"sample\", \"train\", \"approach\", \"game\", \"decision\", \"source\", \"optimization\", \"deep\", \"label\", \"machine\", \"method\", \"attention\", \"task\", \"user\", \"human\", \"solution\", \"graph\", \"object\", \"structure\", \"neural\", \"image\", \"puzzle\", \"wager\", \"interview\", \"worker\", \"metrical\", \"vehicle\", \"keyframes\", \"vessel\", \"pamc\", \"restriction\", \"subtask\", \"option\", \"duel\", \"hypernymy\", \"videoqa\", \"mips\", \"appliance\", \"pianist\", \"transaction\", \"apps\", \"facet\", \"financial\", \"maritime\", \"asynchronous\", \"homomorphism\", \"impression\", \"argumenthood\", \"compression\", \"elps\", \"persuasion\", \"profit\", \"satellite\", \"division\", \"observer\", \"regret\", \"solitaire\", \"prune\", \"abstraction\", \"symbolic\", \"agent\", \"policy\", \"traffic\", \"search\", \"mapf\", \"manipulation\", \"platform\", \"reinforcement\", \"algorithm\", \"problem\", \"resource\", \"bandit\", \"mechanism\", \"time\", \"tree\", \"scale\", \"task\", \"action\", \"preference\", \"prediction\", \"learn\", \"compute\", \"frame\", \"temporal\", \"approach\", \"network\", \"decision\", \"model\", \"state\", \"user\", \"diffusion\", \"subgoals\", \"wcsps\", \"drug\", \"turnover\", \"quota\", \"hurricane\", \"hyperbolic\", \"dehrl\", \"infection\", \"imdp\", \"back\", \"humor\", \"parkinson\", \"dwinn\", \"antonym\", \"nptns\", \"convnets\", \"kidney\", \"toolkit\", \"connectome\", \"lime\", \"provenance\", \"medication\", \"truthful\", \"pagnet\", \"cash\", \"bpds\", \"inferential\", \"datalogmtl\", \"isomorphism\", \"blameworthiness\", \"headline\", \"repair\", \"disease\", \"exchange\"], \"Total\": [7.0, 11.0, 5.0, 6.0, 3.0, 1.0, 0.0, 1.0, 2.0, 3.0, 2.0, 1.0, 8.0, 4.0, 5.0, 1.0, 0.0, 7.0, 9.0, 5.0, 1.0, 1.0, 5.0, 0.0, 3.0, 2.0, 3.0, 1.0, 0.0, 0.0, 2.2585344314575195, 7.2397661209106445, 2.1803646087646484, 2.2361762523651123, 3.7394111156463623, 2.712108612060547, 1.5321491956710815, 1.8714313507080078, 3.969641923904419, 1.3814119100570679, 3.1729989051818848, 1.3389203548431396, 1.4600731134414673, 1.9042959213256836, 1.2027443647384644, 1.2073041200637817, 4.5544633865356445, 8.507244110107422, 1.2812515497207642, 2.226555585861206, 1.478498935699463, 1.4435210227966309, 1.1490437984466553, 1.431743860244751, 1.2835596799850464, 1.2617212533950806, 1.0822337865829468, 3.246840715408325, 1.567372441291809, 1.5779011249542236, 9.441917419433594, 2.028592348098755, 4.973848342895508, 4.640097141265869, 5.76314115524292, 3.849787473678589, 3.861117362976074, 5.076192855834961, 4.339865207672119, 8.60255241394043, 2.8548402786254883, 13.348884582519531, 13.66940689086914, 8.843074798583984, 7.191051006317139, 3.9203743934631348, 14.603500366210938, 15.188668251037598, 12.383288383483887, 10.41668701171875, 6.839460372924805, 13.194597244262695, 9.669071197509766, 9.888108253479004, 16.489788055419922, 14.419127464294434, 14.855006217956543, 12.36380386352539, 7.679211616516113, 7.990907669067383, 8.81523609161377, 10.49874496459961, 11.736342430114746, 11.91726016998291, 9.133580207824707, 9.834683418273926, 8.872553825378418, 12.535616874694824, 9.346100807189941, 8.595314025878906, 3.1150121688842773, 3.7934868335723877, 2.2706503868103027, 2.0634446144104004, 2.3565244674682617, 1.295023798942566, 2.9727582931518555, 1.3097420930862427, 3.5784811973571777, 1.5835819244384766, 2.236009120941162, 2.6285111904144287, 1.9894448518753052, 2.464280605316162, 1.1906040906906128, 4.375842094421387, 5.694034099578857, 1.6705912351608276, 3.5547542572021484, 3.6177990436553955, 1.3855842351913452, 1.8127316236495972, 1.1947840452194214, 1.3329808712005615, 1.2511818408966064, 1.4441571235656738, 1.5396443605422974, 1.0848653316497803, 2.0849449634552, 1.9256607294082642, 3.045449733734131, 2.446824789047241, 3.1143205165863037, 2.115482807159424, 4.811877250671387, 7.567502021789551, 3.4497063159942627, 4.981892108917236, 5.247029781341553, 8.084210395812988, 9.47442626953125, 7.834860801696777, 10.058823585510254, 14.603500366210938, 9.346100807189941, 7.774812698364258, 16.489788055419922, 7.492005825042725, 9.120424270629883, 14.419127464294434, 11.247661590576172, 5.071219444274902, 9.934981346130371, 14.855006217956543, 9.268853187561035, 10.49874496459961, 13.66940689086914, 11.91726016998291, 12.535616874694824, 12.36380386352539, 13.194597244262695, 7.767223834991455, 15.188668251037598, 10.41668701171875, 9.259977340698242, 9.888108253479004, 11.736342430114746, 12.383288383483887, 13.348884582519531, 1.4058504104614258, 1.400114893913269, 1.163909912109375, 1.5467822551727295, 1.1468743085861206, 1.2951322793960571, 1.3210018873214722, 1.0795320272445679, 1.0667667388916016, 1.1749242544174194, 1.891411304473877, 1.4084962606430054, 1.2867605686187744, 1.5531588792800903, 1.2163591384887695, 1.003758192062378, 1.3445342779159546, 2.6452810764312744, 1.7870349884033203, 0.9741734862327576, 1.262280821800232, 0.9621782898902893, 0.9588545560836792, 0.9477474689483643, 0.9396374225616455, 0.9327023029327393, 1.0085734128952026, 0.9395416975021362, 1.6914756298065186, 1.5917514562606812, 1.3988666534423828, 1.7469102144241333, 2.6593964099884033, 1.436944842338562, 4.122447490692139, 2.043342351913452, 2.068505048751831, 2.8520257472991943, 2.5399084091186523, 3.630241632461548, 5.471521377563477, 5.932444095611572, 3.0289225578308105, 8.158617973327637, 11.513727188110352, 4.213564395904541, 3.7418360710144043, 7.742926597595215, 3.591501474380493, 14.855006217956543, 5.246590614318848, 12.535616874694824, 15.188668251037598, 16.489788055419922, 14.419127464294434, 11.247661590576172, 11.736342430114746, 9.669071197509766, 12.383288383483887, 11.91726016998291, 7.167574882507324, 7.449535369873047, 6.126890182495117, 6.258233547210693, 8.832253456115723, 13.348884582519531, 7.154724597930908, 13.194597244262695, 8.812994003295898, 12.36380386352539, 9.47442626953125, 7.245447635650635, 6.3358354568481445, 10.058823585510254, 8.60255241394043, 8.949911117553711, 9.834683418273926, 13.66940689086914, 1.1785331964492798, 0.9064744114875793, 0.887915313243866, 1.7003408670425415, 0.7541873455047607, 1.4969896078109741, 0.7375323176383972, 0.8970227241516113, 0.7247701287269592, 1.1538634300231934, 1.0168709754943848, 1.946636438369751, 0.709364116191864, 0.7059220671653748, 0.7193318009376526, 0.6995819807052612, 0.7552036046981812, 0.6956612467765808, 0.7569372057914734, 0.7832313179969788, 0.7376072406768799, 1.1249319314956665, 0.6902760863304138, 0.7830092310905457, 0.6868748664855957, 0.6903489232063293, 0.7060451507568359, 1.4431816339492798, 0.6805563569068909, 0.6852222681045532, 1.1378941535949707, 0.8093653917312622, 1.2499353885650635, 0.7989435195922852, 1.8315281867980957, 0.8640962243080139, 1.699366807937622, 2.6607213020324707, 1.442922830581665, 11.513727188110352, 5.471521377563477, 2.910665273666382, 6.28380012512207, 1.4943715333938599, 1.5073368549346924, 1.6806493997573853, 5.126519203186035, 12.535616874694824, 11.736342430114746, 3.905590534210205, 2.2958502769470215, 5.640467643737793, 9.268853187561035, 4.046395778656006, 6.227450370788574, 12.36380386352539, 7.990907669067383, 4.213564395904541, 7.774812698364258, 15.188668251037598, 5.321493625640869, 5.076192855834961, 7.767223834991455, 11.91726016998291, 14.855006217956543, 7.449535369873047, 16.489788055419922, 8.514452934265137, 9.47442626953125, 0.8706744909286499, 0.733778178691864, 0.6848869919776917, 0.7451584935188293, 0.6296218633651733, 0.6309205293655396, 0.62574702501297, 0.6591311097145081, 0.6012657880783081, 0.5998312830924988, 0.602418065071106, 0.5980783104896545, 0.5949751138687134, 0.5920826196670532, 0.5923316478729248, 0.6091758012771606, 0.5895751714706421, 0.5895757079124451, 0.5858253240585327, 0.6901578307151794, 0.5866308212280273, 0.5909269452095032, 0.6036314368247986, 0.5809895396232605, 0.8403981328010559, 0.6708040237426758, 0.5704501867294312, 0.5661013126373291, 0.5698771476745605, 0.570612370967865, 0.7619214057922363, 0.9114660620689392, 0.9539381265640259, 0.9469041228294373, 1.434445858001709, 0.8214598894119263], \"loglift\": [30.0, 29.0, 28.0, 27.0, 26.0, 25.0, 24.0, 23.0, 22.0, 21.0, 20.0, 19.0, 18.0, 17.0, 16.0, 15.0, 14.0, 13.0, 12.0, 11.0, 10.0, 9.0, 8.0, 7.0, 6.0, 5.0, 4.0, 3.0, 2.0, 1.0, 0.9092000126838684, 0.9049999713897705, 0.8896999955177307, 0.8816999793052673, 0.8806999921798706, 0.8718000054359436, 0.8596000075340271, 0.853600025177002, 0.8230999708175659, 0.8137000203132629, 0.7994999885559082, 0.7982000112533569, 0.786300003528595, 0.7860999703407288, 0.7720999717712402, 0.7692999839782715, 0.760699987411499, 0.7595000267028809, 0.7562999725341797, 0.7512999773025513, 0.7508000135421753, 0.7497000098228455, 0.7484999895095825, 0.7480999827384949, 0.7429999709129333, 0.7397000193595886, 0.7358999848365784, 0.728600025177002, 0.7282999753952026, 0.727400004863739, 0.6998000144958496, 0.7202000021934509, 0.6798999905586243, 0.6424999833106995, 0.623199999332428, 0.6463000178337097, 0.6417999863624573, 0.6075999736785889, 0.6205999851226807, 0.538100004196167, 0.6651999950408936, 0.4392000138759613, 0.41990000009536743, 0.4350999891757965, 0.45989999175071716, 0.5873000025749207, 0.2904999852180481, 0.26570001244544983, 0.29499998688697815, 0.3379000127315521, 0.448199987411499, 0.24230000376701355, 0.3082999885082245, 0.2939999997615814, 0.07900000363588333, 0.12520000338554382, 0.10480000078678131, 0.14149999618530273, 0.3450999855995178, 0.32170000672340393, 0.24199999868869781, 0.13940000534057617, 0.06390000134706497, 0.04619999974966049, 0.20649999380111694, 0.1477999985218048, 0.21879999339580536, -0.09070000052452087, 0.15309999883174896, 0.23260000348091125, 0.9864000082015991, 0.9768999814987183, 0.9693999886512756, 0.9422000050544739, 0.8998000025749207, 0.8966000080108643, 0.8928999900817871, 0.890999972820282, 0.8865000009536743, 0.8845999836921692, 0.8763999938964844, 0.8756999969482422, 0.8737000226974487, 0.8676999807357788, 0.8636000156402588, 0.8575000166893005, 0.8555999994277954, 0.8539000153541565, 0.8411999940872192, 0.8364999890327454, 0.8353000283241272, 0.8260999917984009, 0.8258000016212463, 0.8245999813079834, 0.8205000162124634, 0.8202999830245972, 0.8162000179290771, 0.8133999705314636, 0.8122000098228455, 0.8116000294685364, 0.7842000126838684, 0.7757999897003174, 0.7574999928474426, 0.7843999862670898, 0.6913999915122986, 0.6229000091552734, 0.7096999883651733, 0.6377000212669373, 0.6237000226974487, 0.5285000205039978, 0.46369999647140503, 0.49480000138282776, 0.4332999885082245, 0.274399995803833, 0.3815999925136566, 0.4302000105381012, 0.19339999556541443, 0.43700000643730164, 0.3693000078201294, 0.16189999878406525, 0.2475000023841858, 0.5544000267982483, 0.23350000381469727, 0.04190000146627426, 0.2581999897956848, 0.19519999623298645, 0.05310000106692314, 0.11919999867677689, 0.08079999685287476, 0.08269999921321869, 0.04089999943971634, 0.3375000059604645, -0.13220000267028809, 0.1251000016927719, 0.20900000631809235, 0.10499999672174454, -0.04170000180602074, -0.09589999914169312, -0.20389999449253082, 1.0987000465393066, 1.0530999898910522, 1.0252000093460083, 1.021299958229065, 1.0184999704360962, 0.9965000152587891, 0.9901999831199646, 0.9891999959945679, 0.9830999970436096, 0.9746999740600586, 0.972599983215332, 0.9617999792098999, 0.9603000283241272, 0.9555000066757202, 0.951200008392334, 0.9502000212669373, 0.944599986076355, 0.9435999989509583, 0.9350000023841858, 0.9329000115394592, 0.9262999892234802, 0.9254000186920166, 0.9229000210762024, 0.9161999821662903, 0.9107999801635742, 0.9060999751091003, 0.9014000296592712, 0.891700029373169, 0.8913999795913696, 0.888700008392334, 0.8851000070571899, 0.8729000091552734, 0.8464999794960022, 0.8812999725341797, 0.7918000221252441, 0.8501999974250793, 0.8140000104904175, 0.7508000135421753, 0.7685999870300293, 0.690500020980835, 0.5817000269889832, 0.5566999912261963, 0.6912999749183655, 0.4018999934196472, 0.30169999599456787, 0.5813000202178955, 0.6180999875068665, 0.37459999322891235, 0.6269999742507935, 0.11569999903440475, 0.4641999900341034, 0.1324000060558319, 0.05169999971985817, -0.021900000050663948, 0.030899999663233757, 0.1234000027179718, 0.10159999877214432, 0.17669999599456787, 0.05139999836683273, 0.06199999898672104, 0.2946000099182129, 0.27390000224113464, 0.365200012922287, 0.34060001373291016, 0.15029999613761902, -0.06530000269412994, 0.25360000133514404, -0.0877000018954277, 0.1282999962568283, -0.07530000060796738, 0.06379999965429306, 0.22529999911785126, 0.31349998712539673, -0.03909999877214432, 0.07159999758005142, 0.03709999844431877, -0.05380000174045563, -0.38199999928474426, 1.7868000268936157, 1.7726999521255493, 1.6190999746322632, 1.6101000308990479, 1.5889999866485596, 1.5741000175476074, 1.559999942779541, 1.5463999509811401, 1.5377999544143677, 1.531599998474121, 1.5233999490737915, 1.5170999765396118, 1.5098999738693237, 1.503100037574768, 1.497499942779541, 1.490399956703186, 1.4881999492645264, 1.482300043106079, 1.4795000553131104, 1.4780000448226929, 1.476099967956543, 1.4752000570297241, 1.4697999954223633, 1.4686000347137451, 1.4635000228881836, 1.4635000228881836, 1.4550000429153442, 1.4537999629974365, 1.448699951171875, 1.4484000205993652, 1.4214999675750732, 1.4384000301361084, 1.3562999963760376, 1.4279999732971191, 1.1971999406814575, 1.3964999914169312, 1.1620999574661255, 0.949999988079071, 1.1923999786376953, 0.3305000066757202, 0.6392999887466431, 0.8844000101089478, 0.5073999762535095, 1.1490999460220337, 1.1407999992370605, 1.0849000215530396, 0.4848000109195709, 0.009999999776482582, -0.03370000049471855, 0.5723999738693237, 0.8644000291824341, 0.30649998784065247, -0.039799999445676804, 0.49459999799728394, 0.20020000636577606, -0.30570000410079956, -0.02710000053048134, 0.4205000102519989, -0.06790000200271606, -0.6071000099182129, 0.21529999375343323, 0.23970000445842743, -0.10440000146627426, -0.4912000000476837, -0.6790000200271606, -0.09200000017881393, -0.8043000102043152, -0.2272000014781952, -0.35850000381469727, 2.464099884033203, 2.3053998947143555, 2.2379000186920166, 2.114500045776367, 2.113800048828125, 2.113600015640259, 2.0992000102996826, 2.019700050354004, 1.9864000082015991, 1.9737999439239502, 1.9629000425338745, 1.9609999656677246, 1.9601999521255493, 1.9515999555587769, 1.9397000074386597, 1.932800054550171, 1.9084999561309814, 1.9084999561309814, 1.8969999551773071, 1.8897000551223755, 1.888100028038025, 1.8760000467300415, 1.8739999532699585, 1.8733999729156494, 1.8631000518798828, 1.8372999429702759, 1.8177000284194946, 1.797700047492981, 1.7930999994277954, 1.791599988937378, 1.736899971961975, 1.680299997329712, 1.4909000396728516, 1.4881999492645264, 1.1161999702453613, 1.5636999607086182], \"logprob\": [30.0, 29.0, 28.0, 27.0, 26.0, 25.0, 24.0, 23.0, 22.0, 21.0, 20.0, 19.0, 18.0, 17.0, 16.0, 15.0, 14.0, 13.0, 12.0, 11.0, 10.0, 9.0, 8.0, 7.0, 6.0, 5.0, 4.0, 3.0, 2.0, 1.0, -7.257999897003174, -6.097300052642822, -7.312699794769287, -7.295499801635742, -6.782400131225586, -7.112500190734863, -7.695700168609619, -7.501699924468994, -6.780200004577637, -7.845099925994873, -7.0278000831604, -7.891900062561035, -7.817200183868408, -7.551799774169922, -8.025199890136719, -8.024299621582031, -6.705100059509277, -6.081600189208984, -7.977799892425537, -7.430200099945068, -7.840099811553955, -7.865200042724609, -8.094499588012695, -7.875, -7.989299774169922, -8.00979995727539, -8.166999816894531, -7.075699806213379, -7.804200172424316, -7.798500061035156, -6.0370001792907715, -7.5543999671936035, -6.697800159454346, -6.804699897766113, -6.6072998046875, -6.987599849700928, -6.989200115203857, -6.74970006942749, -6.893499851226807, -6.291800022125244, -7.2677001953125, -5.951300144195557, -5.946899890899658, -6.367199897766113, -6.549200057983398, -7.028500080108643, -6.010200023651123, -5.995699882507324, -6.170599937438965, -6.300600051879883, -6.611000061035156, -6.159800052642822, -6.404699802398682, -6.396599769592285, -6.100200176239014, -6.188199996948242, -6.178800106048584, -6.325699806213379, -6.598299980163574, -6.581900119781494, -6.563399791717529, -6.491300106048584, -6.455399990081787, -6.457799911499023, -6.563499927520752, -6.5482001304626465, -6.5802001953125, -6.544099807739258, -6.593900203704834, -6.598100185394287, -6.859300136566162, -6.671800136566162, -7.192500114440918, -7.315299987792969, -7.224999904632568, -7.826900005340576, -6.999499797821045, -7.821100234985352, -6.820499897003174, -7.637599945068359, -7.30079984664917, -7.139800071716309, -7.420400142669678, -7.212299823760986, -7.943900108337402, -6.648399829864502, -6.38700008392334, -7.6149001121521, -6.872499942779541, -6.859499931335449, -7.820499897003174, -7.560999870300293, -7.978099822998047, -7.869999885559082, -7.937399864196777, -7.794099807739258, -7.7342000007629395, -8.0871000289917, -7.434999942779541, -7.515100002288818, -7.084099769592285, -7.311399936676025, -7.088399887084961, -7.448200225830078, -6.719399929046631, -6.33519983291626, -7.033999919891357, -6.738500118255615, -6.700500011444092, -6.363500118255615, -6.269599914550781, -6.428599834442139, -6.240200042724609, -6.026199817657471, -6.3653998374938965, -6.500899791717529, -5.985799789428711, -6.531099796295166, -6.402100086212158, -6.151400089263916, -6.314199924468994, -6.803999900817871, -6.452400207519531, -6.241700172424316, -6.497099876403809, -6.435500144958496, -6.313700199127197, -6.384799957275391, -6.372600078582764, -6.384500026702881, -6.361299991607666, -6.594600200653076, -6.393599987030029, -6.513400077819824, -6.5472002029418945, -6.585599899291992, -6.560999870300293, -6.561500072479248, -6.594399929046631, -7.542600154876709, -7.592299938201904, -7.804999828338623, -7.524499893188477, -7.826399803161621, -7.726799964904785, -7.713399887084961, -7.916200160980225, -7.934199810028076, -7.846099853515625, -7.372000217437744, -7.677599906921387, -7.769499778747559, -7.58620023727417, -7.83489990234375, -8.027999877929688, -7.741300106048584, -7.065499782562256, -7.466400146484375, -8.075300216674805, -7.822700023651123, -8.095100402832031, -8.101099967956543, -8.119400024414062, -8.133399963378906, -8.145500183105469, -8.071999549865723, -8.152600288391113, -7.564899921417236, -7.628399848937988, -7.761199951171875, -7.551199913024902, -7.157400131225586, -7.738100051879883, -6.77370023727417, -7.417099952697754, -7.441100120544434, -7.18310022354126, -7.281300067901611, -7.002099990844727, -6.700699806213379, -6.644800186157227, -7.182400226593018, -6.480899810791016, -6.236700057983398, -6.962299823760986, -7.0441999435424805, -6.5605998039245605, -7.076399803161621, -6.167900085449219, -6.860199928283691, -6.320899963378906, -6.209700107574463, -6.201099872589111, -6.28249979019165, -6.438399791717529, -6.417600154876709, -6.536300182342529, -6.4141998291015625, -6.441999912261963, -6.717800140380859, -6.699900150299072, -6.804100036621094, -6.807400226593018, -6.653200149536133, -6.4558000564575195, -6.7606000900268555, -6.489799976348877, -6.6774001121521, -6.542500019073486, -6.669600009918213, -6.776199817657471, -6.822199821472168, -6.712600231170654, -6.758299827575684, -6.753200054168701, -6.749899864196777, -6.748799800872803, -7.030900001525879, -7.307499885559082, -7.481800079345703, -6.841000080108643, -7.675099849700928, -7.00439977645874, -7.726399898529053, -7.5441999435424805, -7.765999794006348, -7.307199954986572, -7.441800117492676, -6.798799991607666, -7.815400123596191, -7.827099800109863, -7.813899993896484, -7.848899841308594, -7.774499893188477, -7.862599849700928, -7.780900001525879, -7.748300075531006, -7.810200214385986, -7.388999938964844, -7.882800102233887, -7.757999897003174, -7.894000053405762, -7.888999938964844, -7.875, -7.161300182342529, -7.918099880218506, -7.911499977111816, -7.43120002746582, -7.755000114440918, -7.402599811553955, -7.77839994430542, -7.179599761962891, -7.731500148773193, -7.2895002365112305, -7.053400039672852, -7.422900199890137, -6.207900047302246, -6.64300012588501, -7.029200077056885, -6.636499881744385, -7.431099891662598, -7.430799961090088, -7.377900123596191, -6.86269998550415, -6.443399906158447, -6.5528998374938965, -7.0472002029418945, -7.286499977111816, -6.945499897003174, -6.795100212097168, -7.0894999504089355, -6.952700138092041, -6.772900104522705, -6.930699825286865, -7.123199939727783, -6.999000072479248, -6.868500232696533, -7.094900131225586, -7.117700099945068, -7.036499977111816, -6.995200157165527, -6.962600231170654, -7.065800189971924, -6.983500003814697, -7.067399978637695, -7.091800212860107, -6.656300067901611, -6.986000061035156, -7.122600078582764, -7.161600112915039, -7.3308000564575195, -7.32889986038208, -7.351600170135498, -7.379000186920166, -7.504300117492676, -7.519199848175049, -7.525899887084961, -7.534999847412109, -7.540999889373779, -7.554500102996826, -7.565899848937988, -7.5447998046875, -7.601799964904785, -7.601799964904785, -7.619699954986572, -7.463099956512451, -7.627200126647949, -7.631999969482422, -7.61269998550415, -7.651500225067139, -7.292699813842773, -7.543900012969971, -7.725599765777588, -7.753200054168701, -7.751200199127197, -7.751399993896484, -7.517000198364258, -7.394400119781494, -7.5381999015808105, -7.548299789428711, -7.505000114440918, -7.6149001121521]}, \"token.table\": {\"Topic\": [2, 3, 4, 1, 2, 3, 4, 3, 1, 2, 3, 4, 1, 2, 3, 4, 1, 2, 1, 2, 3, 1, 2, 3, 4, 2, 2, 2, 1, 2, 3, 1, 2, 1, 3, 4, 1, 2, 3, 4, 2, 1, 3, 1, 2, 3, 1, 2, 3, 1, 2, 3, 3, 1, 1, 2, 3, 1, 2, 4, 1, 2, 3, 4, 3, 1, 2, 3, 2, 1, 1, 2, 3, 3, 1, 2, 3, 1, 2, 3, 1, 2, 3, 4, 1, 1, 2, 3, 1, 2, 3, 4, 3, 2, 3, 3, 2, 1, 2, 3, 1, 1, 2, 3, 1, 2, 3, 1, 2, 3, 1, 2, 3, 1, 2, 3, 1, 1, 2, 3, 3, 2, 1, 2, 1, 2, 3, 1, 1, 1, 2, 3, 1, 2, 1, 3, 4, 1, 2, 3, 4, 1, 2, 3, 4, 1, 2, 3, 4, 3, 1, 2, 3, 2, 1, 2, 3, 1, 1, 2, 2, 3, 1, 2, 3, 1, 2, 3, 3, 1, 2, 3, 1, 1, 2, 3, 1, 2, 3, 3, 1, 2, 3, 3, 3, 1, 2, 1, 2, 3, 1, 2, 3, 1, 2, 3, 4, 3, 3, 3, 2, 4, 1, 2, 3, 1, 2, 1, 2, 3, 3, 1, 2, 3, 4, 2, 1, 2, 3, 4, 1, 2, 3, 2, 1, 3, 2, 1, 2, 1, 2, 3, 4, 3, 2, 3, 1, 2, 3, 4, 3, 1, 1, 2, 3, 4, 1, 2, 3, 4, 3, 1, 2, 3, 1, 2, 3, 2, 1, 2, 3, 2, 4, 1, 3, 3, 2, 3, 1, 2, 3, 4, 3, 1, 2, 3, 4, 1, 1, 2, 3, 4, 2, 3, 4, 1, 2, 3, 4, 1, 2, 3, 4, 1, 4, 1, 2, 3, 1, 2, 3, 2, 1, 2, 3, 2, 4, 1, 2, 3, 4, 1, 2, 3, 1, 2, 3, 1, 2, 3, 4, 1, 3, 1, 2, 3, 3, 1, 2, 3, 1, 1, 2, 3, 2, 1, 2, 3, 4, 2, 1, 2, 3, 4, 1, 1, 2, 3, 1, 2, 3, 1, 2, 1, 2, 1, 2, 1, 2, 3, 1, 2, 3, 1, 1, 3, 1, 2, 3, 4, 1, 2, 1, 2, 3, 3, 1, 1, 3, 1, 2, 2, 1, 2, 3, 1, 2, 3, 4, 3, 1, 2, 3, 4, 1, 2, 3, 1, 2, 3, 4, 2, 3, 3, 2, 3, 4, 1, 2, 3, 3, 1, 2, 3, 4, 2, 1, 2, 3, 4, 1, 2, 4, 2, 3, 1, 2, 3, 4, 3, 1, 2, 3, 1, 4], \"Freq\": [0.37583792209625244, 0.37583792209625244, 0.37583792209625244, 0.5005689263343811, 0.12514223158359528, 0.25028446316719055, 0.12514223158359528, 1.0721534490585327, 0.260558545589447, 0.260558545589447, 0.3474113941192627, 0.08685284852981567, 0.3190908133983612, 0.3190908133983612, 0.3190908133983612, 0.0797727033495903, 0.3283587396144867, 0.6567174792289734, 0.1321440041065216, 0.5285760164260864, 0.2642880082130432, 0.3356476128101349, 0.3356476128101349, 0.25173571705818176, 0.08391190320253372, 0.8115958571434021, 0.519302248954773, 0.8487074971199036, 0.3404064476490021, 0.3404064476490021, 0.22693763673305511, 0.9240147471427917, 0.921773374080658, 0.4355684816837311, 0.4355684816837311, 0.4355684816837311, 0.30196332931518555, 0.40261775255203247, 0.20130887627601624, 0.10065443813800812, 0.7217172384262085, 0.8022653460502625, 0.7437519431114197, 0.7052812576293945, 0.11754687875509262, 0.11754687875509262, 0.4523313641548157, 0.22616568207740784, 0.22616568207740784, 0.6940659284591675, 0.17351648211479187, 0.17351648211479187, 1.0642403364181519, 0.8982483744621277, 0.8287560343742371, 0.13812601566314697, 0.13812601566314697, 0.5343503355979919, 0.5516536235809326, 0.6929134726524353, 0.3758343458175659, 0.3758343458175659, 0.18791717290878296, 0.18791717290878296, 1.0643486976623535, 0.3371291756629944, 0.1685645878314972, 0.505693793296814, 0.47270533442497253, 0.6927505731582642, 0.2898797392845154, 0.5797594785690308, 0.7570011615753174, 0.8221256136894226, 0.3467616140842438, 0.3467616140842438, 0.27740928530693054, 0.5208867788314819, 0.26044338941574097, 0.13022169470787048, 0.2684731185436249, 0.2684731185436249, 0.2684731185436249, 0.13423655927181244, 0.5251284837722778, 0.5179847478866577, 0.25899237394332886, 0.25899237394332886, 0.33966416120529175, 0.22644278407096863, 0.33966416120529175, 0.11322139203548431, 0.5287057161331177, 0.8369713425636292, 1.0429110527038574, 0.6438491344451904, 0.6971333026885986, 0.2667221128940582, 0.35562947392463684, 0.2667221128940582, 0.8943839073181152, 0.46536985039711, 0.3490273952484131, 0.232684925198555, 0.5101553797721863, 0.25507768988609314, 0.25507768988609314, 0.8314318656921387, 0.3780316710472107, 0.7560633420944214, 0.17562241852283478, 0.7024896740913391, 0.17562241852283478, 0.2754637598991394, 0.2754637598991394, 0.5509275197982788, 0.7468703985214233, 0.2672484815120697, 0.2672484815120697, 0.5344969630241394, 0.8591729998588562, 0.7908291816711426, 0.27641114592552185, 0.5528222918510437, 0.22852744162082672, 0.6855823397636414, 0.22852744162082672, 0.7883573174476624, 0.7374336123466492, 0.4108603894710541, 0.4108603894710541, 0.1369534730911255, 0.6984489560127258, 0.4796289801597595, 0.590994119644165, 0.19699802994728088, 0.19699802994728088, 0.4537598192691803, 0.3403198719024658, 0.22687990963459015, 0.11343995481729507, 0.3874503970146179, 0.1291501373052597, 0.3874503970146179, 0.1291501373052597, 0.27903440594673157, 0.27903440594673157, 0.27903440594673157, 0.13951720297336578, 0.9374120831489563, 0.5195091962814331, 0.25975459814071655, 0.7099770307540894, 0.7635090947151184, 0.2982456088066101, 0.49707603454589844, 0.19883041083812714, 0.6380104422569275, 0.9172777533531189, 0.6727758646011353, 0.278435081243515, 0.55687016248703, 0.33015039563179016, 0.33015039563179016, 0.33015039563179016, 0.2760353982448578, 0.4140530824661255, 0.2760353982448578, 0.9263272881507874, 0.5120924711227417, 0.29262426495552063, 0.14631213247776031, 0.7925680875778198, 0.3809979259967804, 0.3809979259967804, 0.1904989629983902, 0.4386310875415802, 0.29242074489593506, 0.14621037244796753, 0.5595861077308655, 0.19719122350215912, 0.5915737152099609, 0.19719122350215912, 0.7148644328117371, 0.5724392533302307, 0.6912657022476196, 0.23042190074920654, 0.3289320766925812, 0.4385761022567749, 0.21928805112838745, 0.5243883728981018, 0.22473788261413574, 0.22473788261413574, 0.3950313329696655, 0.26335424184799194, 0.26335424184799194, 0.06583856046199799, 0.7922167181968689, 0.48939424753189087, 0.9914994835853577, 0.8383445143699646, 0.27944815158843994, 0.5562469363212585, 0.2781234681606293, 0.13906173408031464, 0.6159834265708923, 0.30799171328544617, 0.41930335760116577, 0.27953556180000305, 0.27953556180000305, 0.6691776514053345, 0.35458052158355713, 0.35458052158355713, 0.17729026079177856, 0.17729026079177856, 0.5985904932022095, 0.37894296646118164, 0.3031543791294098, 0.22736579179763794, 0.07578859478235245, 0.603154718875885, 0.20105156302452087, 0.20105156302452087, 0.6495006680488586, 0.6763616800308228, 1.05513334274292, 0.6420520544052124, 0.32109731435775757, 0.6421946287155151, 0.3638615608215332, 0.3638615608215332, 0.24257437884807587, 0.06064359471201897, 0.7771453261375427, 0.8399097919464111, 0.7721219062805176, 0.3239748775959015, 0.3239748775959015, 0.21598325669765472, 0.10799162834882736, 0.7113132476806641, 0.8702888488769531, 0.3365868628025055, 0.3365868628025055, 0.26926949620246887, 0.06731737405061722, 0.40672382712364197, 0.3050428628921509, 0.20336191356182098, 0.10168095678091049, 1.0265111923217773, 0.5812228322029114, 0.11624456942081451, 0.23248913884162903, 0.3811999261379242, 0.1905999630689621, 0.3811999261379242, 0.8808048963546753, 0.31957900524139404, 0.15978950262069702, 0.31957900524139404, 0.513706624507904, 0.513706624507904, 0.48344093561172485, 0.48344093561172485, 0.9962558746337891, 0.7501983046531677, 0.8511186838150024, 0.43794435262680054, 0.3284582793712616, 0.21897217631340027, 0.10948608815670013, 0.5950080752372742, 0.18276453018188477, 0.18276453018188477, 0.36552906036376953, 0.18276453018188477, 0.6848971843719482, 0.2572409212589264, 0.5144818425178528, 0.2572409212589264, 0.1286204606294632, 0.23732875287532806, 0.47465750575065613, 0.23732875287532806, 0.34082168340682983, 0.25561627745628357, 0.25561627745628357, 0.08520542085170746, 0.450828492641449, 0.33812135457992554, 0.2254142463207245, 0.5884544849395752, 0.6337532997131348, 0.8485123515129089, 0.2552693784236908, 0.5105387568473816, 0.2552693784236908, 0.2078191041946411, 0.6234573125839233, 0.2078191041946411, 0.8173858523368835, 0.6465381979942322, 0.2155127227306366, 0.2155127227306366, 0.5459921360015869, 0.5459921360015869, 0.3901282548904419, 0.19506412744522095, 0.3901282548904419, 0.19506412744522095, 0.2473958432674408, 0.4947916865348816, 0.1236979216337204, 0.4799990653991699, 0.3839992582798004, 0.1919996291399002, 0.2560432255268097, 0.5120864510536194, 0.2560432255268097, 0.2560432255268097, 0.3937149941921234, 0.3937149941921234, 0.24257434904575348, 0.24257434904575348, 0.48514869809150696, 0.7520503401756287, 0.19058401882648468, 0.5717520713806152, 0.19058401882648468, 0.8855299949645996, 0.4136902093887329, 0.20684510469436646, 0.3102676570415497, 0.5026527643203735, 0.3211587071418762, 0.3211587071418762, 0.1605793535709381, 0.1605793535709381, 0.8944507241249084, 0.15913936495780945, 0.47741812467575073, 0.3182787299156189, 0.15913936495780945, 0.7557356953620911, 0.2007269412279129, 0.6021808385848999, 0.2007269412279129, 0.40042680501937866, 0.40042680501937866, 0.13347560167312622, 0.7804868817329407, 0.6924454569816589, 0.6586945056915283, 0.21956484019756317, 0.6303185224533081, 0.631479799747467, 0.31566476821899414, 0.15783238410949707, 0.31566476821899414, 0.3264298737049103, 0.3264298737049103, 0.3264298737049103, 0.6526779532432556, 0.4929526746273041, 0.8719351291656494, 0.35234206914901733, 0.35234206914901733, 0.23489472270011902, 0.11744736135005951, 0.28131338953971863, 0.5626267790794373, 0.33519884943962097, 0.33519884943962097, 0.2234659045934677, 0.5911997556686401, 0.8282917141914368, 0.7238970398902893, 0.693037748336792, 0.7790833711624146, 0.7608870267868042, 0.7721865773200989, 0.24513955414295197, 0.36770933866500854, 0.36770933866500854, 0.40440627932548523, 0.3235250413417816, 0.24264377355575562, 0.0808812603354454, 1.0393084287643433, 0.3862383961677551, 0.3862383961677551, 0.1287461221218109, 0.1287461221218109, 0.4279859662055969, 0.4279859662055969, 0.21399298310279846, 0.3236646354198456, 0.43155285716056824, 0.21577642858028412, 0.10788821429014206, 0.35062795877456665, 0.35062795877456665, 0.7142270803451538, 0.6871281266212463, 0.34356406331062317, 0.34356406331062317, 0.40376996994018555, 0.24226197600364685, 0.24226197600364685, 0.6959209442138672, 0.4942670166492462, 0.2471335083246231, 0.2471335083246231, 0.2471335083246231, 0.7992443442344666, 0.21109457314014435, 0.4221891462802887, 0.21109457314014435, 0.10554728657007217, 0.7005645632743835, 0.3502822816371918, 0.6680073142051697, 0.9692530632019043, 0.6282387971878052, 0.6354641318321228, 0.10591068863868713, 0.10591068863868713, 0.10591068863868713, 0.6465033888816833, 0.40452632308006287, 0.30339473485946655, 0.20226316154003143, 0.5881173610687256, 0.5881173610687256], \"Term\": [\"abstraction\", \"abstraction\", \"abstraction\", \"action\", \"action\", \"action\", \"action\", \"aesthetic\", \"agent\", \"agent\", \"agent\", \"agent\", \"algorithm\", \"algorithm\", \"algorithm\", \"algorithm\", \"alignment\", \"alignment\", \"answer\", \"answer\", \"answer\", \"approach\", \"approach\", \"approach\", \"approach\", \"argument\", \"argumentation\", \"assignment\", \"attention\", \"attention\", \"attention\", \"automl\", \"autoregressive\", \"bandit\", \"bandit\", \"bandit\", \"base\", \"base\", \"base\", \"base\", \"body\", \"caption\", \"child\", \"class\", \"class\", \"class\", \"classification\", \"classification\", \"classification\", \"classifier\", \"classifier\", \"classifier\", \"clone\", \"cloud\", \"cluster\", \"cluster\", \"cluster\", \"color\", \"comprehension\", \"compression\", \"compute\", \"compute\", \"compute\", \"compute\", \"conceptual\", \"constraint\", \"constraint\", \"constraint\", \"couple\", \"covariance\", \"cross\", \"cross\", \"crowd\", \"crowdsourcing\", \"data\", \"data\", \"data\", \"datasets\", \"datasets\", \"datasets\", \"decision\", \"decision\", \"decision\", \"decision\", \"decode\", \"decoder\", \"decoder\", \"decoder\", \"deep\", \"deep\", \"deep\", \"deep\", \"demonstration\", \"diagnose\", \"dialog\", \"discourse\", \"disease\", \"domain\", \"domain\", \"domain\", \"dropout\", \"embed\", \"embed\", \"embed\", \"encoder\", \"encoder\", \"encoder\", \"encoders\", \"english\", \"english\", \"entity\", \"entity\", \"entity\", \"environment\", \"environment\", \"environment\", \"envy\", \"estimation\", \"estimation\", \"estimation\", \"ethical\", \"explanation\", \"extraction\", \"extraction\", \"face\", \"face\", \"face\", \"fair\", \"fairness\", \"feature\", \"feature\", \"feature\", \"fisher\", \"formula\", \"frame\", \"frame\", \"frame\", \"framework\", \"framework\", \"framework\", \"framework\", \"function\", \"function\", \"function\", \"function\", \"game\", \"game\", \"game\", \"game\", \"gaze\", \"generative\", \"generative\", \"german\", \"gnns\", \"graph\", \"graph\", \"graph\", \"graphical\", \"ground\", \"hash\", \"heuristic\", \"heuristic\", \"hide\", \"hide\", \"hide\", \"human\", \"human\", \"human\", \"hyper\", \"image\", \"image\", \"image\", \"imbalanced\", \"information\", \"information\", \"information\", \"instance\", \"instance\", \"instance\", \"intelligent\", \"interaction\", \"interaction\", \"interaction\", \"interpretation\", \"inverse\", \"kernel\", \"kernel\", \"knowledge\", \"knowledge\", \"knowledge\", \"label\", \"label\", \"label\", \"learn\", \"learn\", \"learn\", \"learn\", \"learnability\", \"life\", \"log\", \"logic\", \"logic\", \"loss\", \"loss\", \"loss\", \"lstm\", \"lstm\", \"machine\", \"machine\", \"machine\", \"mapf\", \"mechanism\", \"mechanism\", \"mechanism\", \"mechanism\", \"mention\", \"method\", \"method\", \"method\", \"method\", \"metric\", \"metric\", \"metric\", \"minimal\", \"minority\", \"mirror\", \"modal\", \"modality\", \"modality\", \"model\", \"model\", \"model\", \"model\", \"modular\", \"molecule\", \"monotone\", \"multi\", \"multi\", \"multi\", \"multi\", \"multilingual\", \"multiplicative\", \"network\", \"network\", \"network\", \"network\", \"neural\", \"neural\", \"neural\", \"neural\", \"nonverbal\", \"object\", \"object\", \"object\", \"objective\", \"objective\", \"objective\", \"opinion\", \"optimization\", \"optimization\", \"optimization\", \"option\", \"option\", \"paraphrase\", \"paraphrase\", \"park\", \"parser\", \"participant\", \"performance\", \"performance\", \"performance\", \"performance\", \"platform\", \"policy\", \"policy\", \"policy\", \"policy\", \"portfolio\", \"prediction\", \"prediction\", \"prediction\", \"prediction\", \"preference\", \"preference\", \"preference\", \"problem\", \"problem\", \"problem\", \"problem\", \"propose\", \"propose\", \"propose\", \"prune\", \"pseudo\", \"puzzle\", \"question\", \"question\", \"question\", \"reason\", \"reason\", \"reason\", \"recommender\", \"region\", \"region\", \"region\", \"regret\", \"regret\", \"reinforcement\", \"reinforcement\", \"reinforcement\", \"reinforcement\", \"relation\", \"relation\", \"relation\", \"representation\", \"representation\", \"representation\", \"resource\", \"resource\", \"resource\", \"resource\", \"review\", \"review\", \"reward\", \"reward\", \"reward\", \"robot\", \"rule\", \"rule\", \"rule\", \"saliency\", \"sample\", \"sample\", \"sample\", \"satisfiability\", \"scale\", \"scale\", \"scale\", \"scale\", \"schedule\", \"search\", \"search\", \"search\", \"search\", \"segmentation\", \"selection\", \"selection\", \"selection\", \"semantic\", \"semantic\", \"semantic\", \"sensitivity\", \"session\", \"shape\", \"shape\", \"shoot\", \"sketch\", \"solution\", \"solution\", \"solution\", \"source\", \"source\", \"source\", \"specificity\", \"spectral\", \"spot\", \"state\", \"state\", \"state\", \"state\", \"story\", \"story\", \"structure\", \"structure\", \"structure\", \"submodular\", \"surveillance\", \"swap\", \"symbolic\", \"synonym\", \"table\", \"talk\", \"target\", \"target\", \"target\", \"task\", \"task\", \"task\", \"task\", \"temperature\", \"temporal\", \"temporal\", \"temporal\", \"temporal\", \"text\", \"text\", \"text\", \"time\", \"time\", \"time\", \"time\", \"track\", \"track\", \"tracker\", \"traffic\", \"traffic\", \"traffic\", \"train\", \"train\", \"train\", \"transferable\", \"tree\", \"tree\", \"tree\", \"tree\", \"trust\", \"user\", \"user\", \"user\", \"user\", \"variational\", \"variational\", \"vehicle\", \"verification\", \"vertex\", \"video\", \"video\", \"video\", \"video\", \"welfare\", \"word\", \"word\", \"word\", \"worker\", \"worker\"]}, \"R\": 30, \"lambda.step\": 0.01, \"plot.opts\": {\"xlab\": \"PC1\", \"ylab\": \"PC2\"}, \"topic.order\": [4, 1, 2, 3, 5]};\n",
       "\n",
       "function LDAvis_load_lib(url, callback){\n",
       "  var s = document.createElement('script');\n",
       "  s.src = url;\n",
       "  s.async = true;\n",
       "  s.onreadystatechange = s.onload = callback;\n",
       "  s.onerror = function(){console.warn(\"failed to load library \" + url);};\n",
       "  document.getElementsByTagName(\"head\")[0].appendChild(s);\n",
       "}\n",
       "\n",
       "if(typeof(LDAvis) !== \"undefined\"){\n",
       "   // already loaded: just create the visualization\n",
       "   !function(LDAvis){\n",
       "       new LDAvis(\"#\" + \"ldavis_el1606791628270005886297876\", ldavis_el1606791628270005886297876_data);\n",
       "   }(LDAvis);\n",
       "}else if(typeof define === \"function\" && define.amd){\n",
       "   // require.js is available: use it to load d3/LDAvis\n",
       "   require.config({paths: {d3: \"https://cdnjs.cloudflare.com/ajax/libs/d3/3.5.5/d3.min\"}});\n",
       "   require([\"d3\"], function(d3){\n",
       "      window.d3 = d3;\n",
       "      LDAvis_load_lib(\"https://cdn.rawgit.com/bmabey/pyLDAvis/files/ldavis.v1.0.0.js\", function(){\n",
       "        new LDAvis(\"#\" + \"ldavis_el1606791628270005886297876\", ldavis_el1606791628270005886297876_data);\n",
       "      });\n",
       "    });\n",
       "}else{\n",
       "    // require.js not available: dynamically load d3 & LDAvis\n",
       "    LDAvis_load_lib(\"https://cdnjs.cloudflare.com/ajax/libs/d3/3.5.5/d3.min.js\", function(){\n",
       "         LDAvis_load_lib(\"https://cdn.rawgit.com/bmabey/pyLDAvis/files/ldavis.v1.0.0.js\", function(){\n",
       "                 new LDAvis(\"#\" + \"ldavis_el1606791628270005886297876\", ldavis_el1606791628270005886297876_data);\n",
       "            })\n",
       "         });\n",
       "}\n",
       "</script>"
      ],
      "text/plain": [
       "<IPython.core.display.HTML object>"
      ]
     },
     "execution_count": 60,
     "metadata": {},
     "output_type": "execute_result"
    }
   ],
   "source": [
    "vis_data = pyLDAvis.gensim.prepare(lda_model, corpus_tfidf, dictionary)\n",
    "# 在 notebook 中显示可视化结果，需要调用 display 方法，或者执行 “pyLDAvis.enable_notebook()” ，即可在 notebook 中自动展示可视化结果，无需再调用 display\n",
    "pyLDAvis.display(vis_data)"
   ]
  },
  {
   "cell_type": "code",
   "execution_count": null,
   "metadata": {},
   "outputs": [],
   "source": []
  }
 ],
 "metadata": {
  "kernelspec": {
   "display_name": "Python 3",
   "language": "python",
   "name": "python3"
  },
  "language_info": {
   "codemirror_mode": {
    "name": "ipython",
    "version": 3
   },
   "file_extension": ".py",
   "mimetype": "text/x-python",
   "name": "python",
   "nbconvert_exporter": "python",
   "pygments_lexer": "ipython3",
   "version": "3.7.1"
  }
 },
 "nbformat": 4,
 "nbformat_minor": 2
}
