{
 "cells": [
  {
   "cell_type": "markdown",
   "metadata": {},
   "source": [
    "# 視覺化 LDA模型\n",
    "\n",
    "### 參考資料\n",
    "- https://www.machinelearningplus.com/nlp/topic-modeling-visualization-how-to-present-results-lda-models/\n",
    "- https://datartisan.gitbooks.io/begining-text-mining-with-python/%E7%AC%AC8%E7%AB%A0%20%E6%96%87%E6%9C%AC%E6%95%B0%E6%8D%AE%E5%8F%AF%E8%A7%86%E5%8C%96/8.2%20%E6%96%87%E6%9C%AC%E5%85%B3%E7%B3%BB%E5%8F%AF%E8%A7%86%E5%8C%96.html\n"
   ]
  },
  {
   "cell_type": "code",
   "execution_count": 1,
   "metadata": {},
   "outputs": [],
   "source": [
    "#!pip install pyldavis"
   ]
  },
  {
   "cell_type": "code",
   "execution_count": 22,
   "metadata": {},
   "outputs": [],
   "source": [
    "import os\n",
    "import numpy as np\n",
    "import pandas as pd\n",
    "from collections import Counter\n",
    "from enum import Enum\n",
    "from pprint import pprint\n",
    "\n",
    "from wordcloud import WordCloud, STOPWORDS, ImageColorGenerator\n",
    "import matplotlib.pyplot as plt\n",
    "import matplotlib.colors as mcolors\n",
    "cols = [color for name, color in mcolors.TABLEAU_COLORS.items()]\n",
    "\n",
    "import nltk\n",
    "from nltk.stem import WordNetLemmatizer\n",
    "wordnet_lemmatizer = WordNetLemmatizer()\n",
    "\n",
    "import gensim\n",
    "from gensim.utils import simple_preprocess\n",
    "from gensim.parsing.preprocessing import STOPWORDS\n",
    "from gensim import corpora, models\n",
    "\n",
    "import pyLDAvis\n",
    "import pyLDAvis.gensim\n",
    "from gensim.models.ldamodel import LdaModel"
   ]
  },
  {
   "cell_type": "markdown",
   "metadata": {},
   "source": [
    "## 自定義 data types and functions"
   ]
  },
  {
   "cell_type": "code",
   "execution_count": 3,
   "metadata": {},
   "outputs": [],
   "source": [
    "class ContentType(Enum):\n",
    "    TIT = 'title'\n",
    "    ABS = 'abstract'\n",
    "    AUT = 'author'\n",
    "    SEC = 'section'\n",
    "    \n",
    "def get_contents(content_type):\n",
    "    all_contents = []\n",
    "    dataset_path = '../dataset'\n",
    "    for file in os.listdir(dataset_path):\n",
    "        file_path = os.path.join(dataset_path, file)\n",
    "        if os.path.isfile(file_path):\n",
    "            with open(file_path) as f:  \n",
    "                line = f.readlines()\n",
    "                if content_type == ContentType.AUT:\n",
    "                    line = line[1]\n",
    "                elif content_type == ContentType.SEC:\n",
    "                    line = line[2]\n",
    "                elif content_type == ContentType.ABS:\n",
    "                    line = line[3]\n",
    "                else:\n",
    "                    line = line[0]\n",
    "                line = line.strip()\n",
    "                all_contents.append(line)\n",
    "        else:\n",
    "            print(file_path + ' does not exist.')\n",
    "    return all_contents\n",
    "\n",
    "\n",
    "def get_all_titles():\n",
    "    return get_contents(ContentType.TIT)\n",
    "\n",
    "def get_all_authors():        \n",
    "    return get_contents(ContentType.AUT)\n",
    "\n",
    "def get_all_sections():\n",
    "    return get_contents(ContentType.SEC)\n",
    "\n",
    "def get_all_abstracts():\n",
    "    return get_contents(ContentType.ABS)\n",
    "\n",
    "def preprocess(text):\n",
    "    result = []\n",
    "    for token in gensim.utils.simple_preprocess(text):\n",
    "        if token not in gensim.parsing.preprocessing.STOPWORDS and len(token) > 3:\n",
    "            token = wordnet_lemmatizer.lemmatize(token, pos='v')\n",
    "            token = wordnet_lemmatizer.lemmatize(token, pos='n')\n",
    "            result.append(token)\n",
    "    return result"
   ]
  },
  {
   "cell_type": "markdown",
   "metadata": {},
   "source": [
    "### 取出所有摘要"
   ]
  },
  {
   "cell_type": "code",
   "execution_count": 4,
   "metadata": {},
   "outputs": [
    {
     "name": "stdout",
     "output_type": "stream",
     "text": [
      "共 1343 篇論文\n",
      "\n"
     ]
    },
    {
     "data": {
      "text/html": [
       "<div>\n",
       "<style scoped>\n",
       "    .dataframe tbody tr th:only-of-type {\n",
       "        vertical-align: middle;\n",
       "    }\n",
       "\n",
       "    .dataframe tbody tr th {\n",
       "        vertical-align: top;\n",
       "    }\n",
       "\n",
       "    .dataframe thead th {\n",
       "        text-align: right;\n",
       "    }\n",
       "</style>\n",
       "<table border=\"1\" class=\"dataframe\">\n",
       "  <thead>\n",
       "    <tr style=\"text-align: right;\">\n",
       "      <th></th>\n",
       "      <th>abstract</th>\n",
       "      <th>index</th>\n",
       "    </tr>\n",
       "  </thead>\n",
       "  <tbody>\n",
       "    <tr>\n",
       "      <th>0</th>\n",
       "      <td>We consider the problem of actively eliciting ...</td>\n",
       "      <td>0</td>\n",
       "    </tr>\n",
       "    <tr>\n",
       "      <th>1</th>\n",
       "      <td>We investigate the task of distractor generati...</td>\n",
       "      <td>1</td>\n",
       "    </tr>\n",
       "    <tr>\n",
       "      <th>2</th>\n",
       "      <td>The most common representation formalisms for ...</td>\n",
       "      <td>2</td>\n",
       "    </tr>\n",
       "    <tr>\n",
       "      <th>3</th>\n",
       "      <td>Statistical relational learning models are pow...</td>\n",
       "      <td>3</td>\n",
       "    </tr>\n",
       "    <tr>\n",
       "      <th>4</th>\n",
       "      <td>Multimodal representation learning is gaining ...</td>\n",
       "      <td>4</td>\n",
       "    </tr>\n",
       "    <tr>\n",
       "      <th>5</th>\n",
       "      <td>Reinforcement learning (RL) has shown its adva...</td>\n",
       "      <td>5</td>\n",
       "    </tr>\n",
       "    <tr>\n",
       "      <th>6</th>\n",
       "      <td>Selecting appropriate tutoring help actions th...</td>\n",
       "      <td>6</td>\n",
       "    </tr>\n",
       "    <tr>\n",
       "      <th>7</th>\n",
       "      <td>Recognizing time expressions is a fundamental ...</td>\n",
       "      <td>7</td>\n",
       "    </tr>\n",
       "    <tr>\n",
       "      <th>8</th>\n",
       "      <td>When facing large-scale image datasets, online...</td>\n",
       "      <td>8</td>\n",
       "    </tr>\n",
       "    <tr>\n",
       "      <th>9</th>\n",
       "      <td>Temporal modeling in videos is a fundamental y...</td>\n",
       "      <td>9</td>\n",
       "    </tr>\n",
       "  </tbody>\n",
       "</table>\n",
       "</div>"
      ],
      "text/plain": [
       "                                            abstract  index\n",
       "0  We consider the problem of actively eliciting ...      0\n",
       "1  We investigate the task of distractor generati...      1\n",
       "2  The most common representation formalisms for ...      2\n",
       "3  Statistical relational learning models are pow...      3\n",
       "4  Multimodal representation learning is gaining ...      4\n",
       "5  Reinforcement learning (RL) has shown its adva...      5\n",
       "6  Selecting appropriate tutoring help actions th...      6\n",
       "7  Recognizing time expressions is a fundamental ...      7\n",
       "8  When facing large-scale image datasets, online...      8\n",
       "9  Temporal modeling in videos is a fundamental y...      9"
      ]
     },
     "execution_count": 4,
     "metadata": {},
     "output_type": "execute_result"
    }
   ],
   "source": [
    "contents = get_all_abstracts()\n",
    "print('共',len(contents),'篇論文\\n')\n",
    "\n",
    "documents = pd.DataFrame(data=contents,columns=['abstract'])\n",
    "documents['index'] = documents.index\n",
    "documents[:10]"
   ]
  },
  {
   "cell_type": "markdown",
   "metadata": {},
   "source": [
    "### 預處理的全部論文摘要"
   ]
  },
  {
   "cell_type": "code",
   "execution_count": 5,
   "metadata": {},
   "outputs": [
    {
     "data": {
      "text/plain": [
       "0    [consider, problem, actively, elicit, preferen...\n",
       "1    [investigate, task, distractor, generation, mu...\n",
       "2    [common, representation, formalism, plan, desc...\n",
       "3    [statistical, relational, learn, model, powerf...\n",
       "4    [multimodal, representation, learn, gain, deep...\n",
       "5    [reinforcement, learn, show, advantage, image,...\n",
       "6    [select, appropriate, tutor, help, action, acc...\n",
       "7    [recognize, time, expression, fundamental, imp...\n",
       "8    [face, large, scale, image, datasets, online, ...\n",
       "9    [temporal, model, video, fundamental, challeng...\n",
       "Name: abstract, dtype: object"
      ]
     },
     "execution_count": 5,
     "metadata": {},
     "output_type": "execute_result"
    }
   ],
   "source": [
    "processed_docs = documents['abstract'].map(preprocess)\n",
    "processed_docs[:10]"
   ]
  },
  {
   "cell_type": "markdown",
   "metadata": {},
   "source": [
    "## Dataset"
   ]
  },
  {
   "cell_type": "markdown",
   "metadata": {},
   "source": [
    "### 產生字典"
   ]
  },
  {
   "cell_type": "code",
   "execution_count": 6,
   "metadata": {},
   "outputs": [
    {
     "name": "stdout",
     "output_type": "stream",
     "text": [
      "共 6927 個字\n",
      "\n"
     ]
    }
   ],
   "source": [
    "dictionary = gensim.corpora.Dictionary(processed_docs)\n",
    "print('共',len(dictionary),'個字\\n')"
   ]
  },
  {
   "cell_type": "markdown",
   "metadata": {},
   "source": [
    "### 產生 bag of words corpus"
   ]
  },
  {
   "cell_type": "code",
   "execution_count": 7,
   "metadata": {},
   "outputs": [
    {
     "name": "stdout",
     "output_type": "stream",
     "text": [
      "共 1343 筆\n"
     ]
    }
   ],
   "source": [
    "bow_corpus = [dictionary.doc2bow(doc) for doc in processed_docs]\n",
    "print('共',len(bow_corpus),'筆')"
   ]
  },
  {
   "cell_type": "markdown",
   "metadata": {},
   "source": [
    "### 產生TF-IDF Corpus"
   ]
  },
  {
   "cell_type": "code",
   "execution_count": 8,
   "metadata": {},
   "outputs": [
    {
     "name": "stdout",
     "output_type": "stream",
     "text": [
      "共 1343 筆\n"
     ]
    }
   ],
   "source": [
    "tfidf = models.TfidfModel(bow_corpus)\n",
    "corpus_tfidf = tfidf[bow_corpus]\n",
    "print('共',len(corpus_tfidf),'筆')"
   ]
  },
  {
   "cell_type": "markdown",
   "metadata": {},
   "source": [
    "## Load LDA models"
   ]
  },
  {
   "cell_type": "code",
   "execution_count": 70,
   "metadata": {},
   "outputs": [
    {
     "name": "stderr",
     "output_type": "stream",
     "text": [
      "/Users/alexis/anaconda3/lib/python3.7/site-packages/smart_open/smart_open_lib.py:160: DeprecationWarning: inspect.getargspec() is deprecated, use inspect.signature() or inspect.getfullargspec()\n",
      "  args, varargs, keywords, defaults = inspect.getargspec(kallable)\n",
      "/Users/alexis/anaconda3/lib/python3.7/site-packages/smart_open/smart_open_lib.py:160: DeprecationWarning: inspect.getargspec() is deprecated, use inspect.signature() or inspect.getfullargspec()\n",
      "  args, varargs, keywords, defaults = inspect.getargspec(kallable)\n",
      "/Users/alexis/anaconda3/lib/python3.7/site-packages/smart_open/smart_open_lib.py:160: DeprecationWarning: inspect.getargspec() is deprecated, use inspect.signature() or inspect.getfullargspec()\n",
      "  args, varargs, keywords, defaults = inspect.getargspec(kallable)\n"
     ]
    }
   ],
   "source": [
    "num_topics = '10'\n",
    "file_name = '../models/lda_bigram_tfidf_topic_' + num_topics + '.model'\n",
    "lda_model = models.ldamodel.LdaModel.load(file_name)"
   ]
  },
  {
   "cell_type": "markdown",
   "metadata": {},
   "source": [
    "### pyLDAvis\n",
    "\n",
    "- 左側為“主題距離地圖”，展示各個主題之間的差異，圖中帶有數字編號的圓形即代表各個主題，圓形的面積與該主題出現的可能性成正比，並且按照面積大小自動進行編號，\n",
    "- 右側為各個主題前30個最為相關的詞彙，對各個主題進行解釋說明，以水平柱狀圖的形式展示，藍色表示整體詞頻，紅色表示主題詞頻，"
   ]
  },
  {
   "cell_type": "code",
   "execution_count": 71,
   "metadata": {},
   "outputs": [
    {
     "name": "stderr",
     "output_type": "stream",
     "text": [
      "/Users/alexis/anaconda3/lib/python3.7/site-packages/pyLDAvis/_prepare.py:257: FutureWarning: Sorting because non-concatenation axis is not aligned. A future version\n",
      "of pandas will change to not sort by default.\n",
      "\n",
      "To accept the future behavior, pass 'sort=False'.\n",
      "\n",
      "To retain the current behavior and silence the warning, pass 'sort=True'.\n",
      "\n",
      "  return pd.concat([default_term_info] + list(topic_dfs))\n"
     ]
    },
    {
     "data": {
      "text/html": [
       "\n",
       "<link rel=\"stylesheet\" type=\"text/css\" href=\"https://cdn.rawgit.com/bmabey/pyLDAvis/files/ldavis.v1.0.0.css\">\n",
       "\n",
       "\n",
       "<div id=\"ldavis_el1606745906115766072936187\"></div>\n",
       "<script type=\"text/javascript\">\n",
       "\n",
       "var ldavis_el1606745906115766072936187_data = {\"mdsDat\": {\"x\": [-0.16143200700607968, -0.029728039798189266, -0.02273461091072369, -0.02105037627998383, 0.000765199926758951, 0.027054306465453586, 0.04485161979473976, 0.044834998620639756, 0.05736848168882544, 0.06007042749855889], \"y\": [-0.001865901076487776, 0.040742624971171024, -0.03993558306508075, 0.007754026619124975, -0.007449428744724201, -0.0027215671236224, 0.004079148422886465, -0.006487475954743169, 0.00034653998798277977, 0.005537615963493083], \"topics\": [1, 2, 3, 4, 5, 6, 7, 8, 9, 10], \"cluster\": [1, 1, 1, 1, 1, 1, 1, 1, 1, 1], \"Freq\": [59.86811447143555, 6.608295440673828, 6.405454635620117, 5.532040596008301, 4.660282135009766, 3.8270599842071533, 3.4004409313201904, 3.3567752838134766, 3.232835292816162, 3.108708620071411]}, \"tinfo\": {\"Category\": [\"Default\", \"Default\", \"Default\", \"Default\", \"Default\", \"Default\", \"Default\", \"Default\", \"Default\", \"Default\", \"Default\", \"Default\", \"Default\", \"Default\", \"Default\", \"Default\", \"Default\", \"Default\", \"Default\", \"Default\", \"Default\", \"Default\", \"Default\", \"Default\", \"Default\", \"Default\", \"Default\", \"Default\", \"Default\", \"Default\", \"Topic1\", \"Topic1\", \"Topic1\", \"Topic1\", \"Topic1\", \"Topic1\", \"Topic1\", \"Topic1\", \"Topic1\", \"Topic1\", \"Topic1\", \"Topic1\", \"Topic1\", \"Topic1\", \"Topic1\", \"Topic1\", \"Topic1\", \"Topic1\", \"Topic1\", \"Topic1\", \"Topic1\", \"Topic1\", \"Topic1\", \"Topic1\", \"Topic1\", \"Topic1\", \"Topic1\", \"Topic1\", \"Topic1\", \"Topic1\", \"Topic1\", \"Topic1\", \"Topic1\", \"Topic1\", \"Topic1\", \"Topic1\", \"Topic1\", \"Topic1\", \"Topic1\", \"Topic1\", \"Topic1\", \"Topic1\", \"Topic1\", \"Topic1\", \"Topic1\", \"Topic1\", \"Topic1\", \"Topic1\", \"Topic1\", \"Topic1\", \"Topic1\", \"Topic1\", \"Topic1\", \"Topic1\", \"Topic1\", \"Topic1\", \"Topic1\", \"Topic1\", \"Topic1\", \"Topic1\", \"Topic1\", \"Topic1\", \"Topic1\", \"Topic1\", \"Topic2\", \"Topic2\", \"Topic2\", \"Topic2\", \"Topic2\", \"Topic2\", \"Topic2\", \"Topic2\", \"Topic2\", \"Topic2\", \"Topic2\", \"Topic2\", \"Topic2\", \"Topic2\", \"Topic2\", \"Topic2\", \"Topic2\", \"Topic2\", \"Topic2\", \"Topic2\", \"Topic2\", \"Topic2\", \"Topic2\", \"Topic2\", \"Topic2\", \"Topic2\", \"Topic2\", \"Topic2\", \"Topic2\", \"Topic2\", \"Topic2\", \"Topic2\", \"Topic2\", \"Topic2\", \"Topic2\", \"Topic2\", \"Topic2\", \"Topic2\", \"Topic2\", \"Topic2\", \"Topic2\", \"Topic2\", \"Topic2\", \"Topic2\", \"Topic2\", \"Topic2\", \"Topic2\", \"Topic2\", \"Topic2\", \"Topic2\", \"Topic2\", \"Topic2\", \"Topic2\", \"Topic2\", \"Topic2\", \"Topic2\", \"Topic2\", \"Topic2\", \"Topic2\", \"Topic2\", \"Topic2\", \"Topic2\", \"Topic2\", \"Topic2\", \"Topic2\", \"Topic2\", \"Topic2\", \"Topic2\", \"Topic2\", \"Topic2\", \"Topic2\", \"Topic2\", \"Topic2\", \"Topic3\", \"Topic3\", \"Topic3\", \"Topic3\", \"Topic3\", \"Topic3\", \"Topic3\", \"Topic3\", \"Topic3\", \"Topic3\", \"Topic3\", \"Topic3\", \"Topic3\", \"Topic3\", \"Topic3\", \"Topic3\", \"Topic3\", \"Topic3\", \"Topic3\", \"Topic3\", \"Topic3\", \"Topic3\", \"Topic3\", \"Topic3\", \"Topic3\", \"Topic3\", \"Topic3\", \"Topic3\", \"Topic3\", \"Topic3\", \"Topic3\", \"Topic3\", \"Topic3\", \"Topic3\", \"Topic3\", \"Topic3\", \"Topic3\", \"Topic3\", \"Topic3\", \"Topic3\", \"Topic3\", \"Topic3\", \"Topic3\", \"Topic3\", \"Topic3\", \"Topic3\", \"Topic3\", \"Topic3\", \"Topic3\", \"Topic3\", \"Topic3\", \"Topic3\", \"Topic3\", \"Topic3\", \"Topic3\", \"Topic3\", \"Topic3\", \"Topic3\", \"Topic3\", \"Topic3\", \"Topic3\", \"Topic3\", \"Topic3\", \"Topic3\", \"Topic3\", \"Topic3\", \"Topic3\", \"Topic3\", \"Topic3\", \"Topic3\", \"Topic4\", \"Topic4\", \"Topic4\", \"Topic4\", \"Topic4\", \"Topic4\", \"Topic4\", \"Topic4\", \"Topic4\", \"Topic4\", \"Topic4\", \"Topic4\", \"Topic4\", \"Topic4\", \"Topic4\", \"Topic4\", \"Topic4\", \"Topic4\", \"Topic4\", \"Topic4\", \"Topic4\", \"Topic4\", \"Topic4\", \"Topic4\", \"Topic4\", \"Topic4\", \"Topic4\", \"Topic4\", \"Topic4\", \"Topic4\", \"Topic4\", \"Topic4\", \"Topic4\", \"Topic4\", \"Topic4\", \"Topic4\", \"Topic4\", \"Topic4\", \"Topic4\", \"Topic4\", \"Topic4\", \"Topic4\", \"Topic4\", \"Topic4\", \"Topic4\", \"Topic4\", \"Topic4\", \"Topic4\", \"Topic4\", \"Topic4\", \"Topic4\", \"Topic4\", \"Topic4\", \"Topic4\", \"Topic4\", \"Topic4\", \"Topic4\", \"Topic4\", \"Topic4\", \"Topic4\", \"Topic4\", \"Topic4\", \"Topic4\", \"Topic4\", \"Topic4\", \"Topic4\", \"Topic5\", \"Topic5\", \"Topic5\", \"Topic5\", \"Topic5\", \"Topic5\", \"Topic5\", \"Topic5\", \"Topic5\", \"Topic5\", \"Topic5\", \"Topic5\", \"Topic5\", \"Topic5\", \"Topic5\", \"Topic5\", \"Topic5\", \"Topic5\", \"Topic5\", \"Topic5\", \"Topic5\", \"Topic5\", \"Topic5\", \"Topic5\", \"Topic5\", \"Topic5\", \"Topic5\", \"Topic5\", \"Topic5\", \"Topic5\", \"Topic5\", \"Topic5\", \"Topic5\", \"Topic5\", \"Topic5\", \"Topic5\", \"Topic5\", \"Topic5\", \"Topic5\", \"Topic5\", \"Topic5\", \"Topic5\", \"Topic5\", \"Topic5\", \"Topic5\", \"Topic5\", \"Topic5\", \"Topic5\", \"Topic5\", \"Topic5\", \"Topic5\", \"Topic5\", \"Topic5\", \"Topic5\", \"Topic5\", \"Topic5\", \"Topic5\", \"Topic5\", \"Topic5\", \"Topic5\", \"Topic5\", \"Topic5\", \"Topic5\", \"Topic5\", \"Topic5\", \"Topic5\", \"Topic6\", \"Topic6\", \"Topic6\", \"Topic6\", \"Topic6\", \"Topic6\", \"Topic6\", \"Topic6\", \"Topic6\", \"Topic6\", \"Topic6\", \"Topic6\", \"Topic6\", \"Topic6\", \"Topic6\", \"Topic6\", \"Topic6\", \"Topic6\", \"Topic6\", \"Topic6\", \"Topic6\", \"Topic6\", \"Topic6\", \"Topic6\", \"Topic6\", \"Topic6\", \"Topic6\", \"Topic6\", \"Topic6\", \"Topic6\", \"Topic6\", \"Topic6\", \"Topic6\", \"Topic6\", \"Topic6\", \"Topic6\", \"Topic6\", \"Topic6\", \"Topic6\", \"Topic6\", \"Topic6\", \"Topic6\", \"Topic6\", \"Topic6\", \"Topic6\", \"Topic6\", \"Topic6\", \"Topic6\", \"Topic6\", \"Topic6\", \"Topic6\", \"Topic6\", \"Topic6\", \"Topic6\", \"Topic6\", \"Topic6\", \"Topic6\", \"Topic6\", \"Topic6\", \"Topic7\", \"Topic7\", \"Topic7\", \"Topic7\", \"Topic7\", \"Topic7\", \"Topic7\", \"Topic7\", \"Topic7\", \"Topic7\", \"Topic7\", \"Topic7\", \"Topic7\", \"Topic7\", \"Topic7\", \"Topic7\", \"Topic7\", \"Topic7\", \"Topic7\", \"Topic7\", \"Topic7\", \"Topic7\", \"Topic7\", \"Topic7\", \"Topic7\", \"Topic7\", \"Topic7\", \"Topic7\", \"Topic7\", \"Topic7\", \"Topic7\", \"Topic7\", \"Topic7\", \"Topic7\", \"Topic7\", \"Topic7\", \"Topic7\", \"Topic7\", \"Topic7\", \"Topic7\", \"Topic7\", \"Topic7\", \"Topic7\", \"Topic7\", \"Topic7\", \"Topic7\", \"Topic7\", \"Topic7\", \"Topic7\", \"Topic7\", \"Topic7\", \"Topic7\", \"Topic7\", \"Topic7\", \"Topic7\", \"Topic8\", \"Topic8\", \"Topic8\", \"Topic8\", \"Topic8\", \"Topic8\", \"Topic8\", \"Topic8\", \"Topic8\", \"Topic8\", \"Topic8\", \"Topic8\", \"Topic8\", \"Topic8\", \"Topic8\", \"Topic8\", \"Topic8\", \"Topic8\", \"Topic8\", \"Topic8\", \"Topic8\", \"Topic8\", \"Topic8\", \"Topic8\", \"Topic8\", \"Topic8\", \"Topic8\", \"Topic8\", \"Topic8\", \"Topic8\", \"Topic8\", \"Topic8\", \"Topic8\", \"Topic8\", \"Topic8\", \"Topic8\", \"Topic8\", \"Topic8\", \"Topic8\", \"Topic8\", \"Topic8\", \"Topic8\", \"Topic8\", \"Topic8\", \"Topic8\", \"Topic8\", \"Topic8\", \"Topic8\", \"Topic8\", \"Topic8\", \"Topic8\", \"Topic8\", \"Topic8\", \"Topic8\", \"Topic8\", \"Topic8\", \"Topic9\", \"Topic9\", \"Topic9\", \"Topic9\", \"Topic9\", \"Topic9\", \"Topic9\", \"Topic9\", \"Topic9\", \"Topic9\", \"Topic9\", \"Topic9\", \"Topic9\", \"Topic9\", \"Topic9\", \"Topic9\", \"Topic9\", \"Topic9\", \"Topic9\", \"Topic9\", \"Topic9\", \"Topic9\", \"Topic9\", \"Topic9\", \"Topic9\", \"Topic9\", \"Topic9\", \"Topic9\", \"Topic9\", \"Topic9\", \"Topic9\", \"Topic9\", \"Topic9\", \"Topic9\", \"Topic9\", \"Topic9\", \"Topic9\", \"Topic9\", \"Topic9\", \"Topic9\", \"Topic9\", \"Topic9\", \"Topic9\", \"Topic9\", \"Topic9\", \"Topic9\", \"Topic9\", \"Topic9\", \"Topic9\", \"Topic9\", \"Topic9\", \"Topic9\", \"Topic10\", \"Topic10\", \"Topic10\", \"Topic10\", \"Topic10\", \"Topic10\", \"Topic10\", \"Topic10\", \"Topic10\", \"Topic10\", \"Topic10\", \"Topic10\", \"Topic10\", \"Topic10\", \"Topic10\", \"Topic10\", \"Topic10\", \"Topic10\", \"Topic10\", \"Topic10\", \"Topic10\", \"Topic10\", \"Topic10\", \"Topic10\", \"Topic10\", \"Topic10\", \"Topic10\", \"Topic10\", \"Topic10\", \"Topic10\", \"Topic10\", \"Topic10\", \"Topic10\", \"Topic10\", \"Topic10\", \"Topic10\", \"Topic10\", \"Topic10\", \"Topic10\", \"Topic10\", \"Topic10\", \"Topic10\", \"Topic10\", \"Topic10\", \"Topic10\", \"Topic10\", \"Topic10\"], \"Freq\": [11.0, 11.0, 3.0, 5.0, 9.0, 18.0, 7.0, 16.0, 8.0, 8.0, 18.0, 8.0, 21.0, 4.0, 8.0, 8.0, 15.0, 7.0, 6.0, 6.0, 10.0, 16.0, 15.0, 18.0, 11.0, 17.0, 8.0, 11.0, 11.0, 9.0, 6.283036708831787, 7.9816460609436035, 7.37837028503418, 12.914573669433594, 4.696849346160889, 7.092097759246826, 9.21841049194336, 4.149637699127197, 3.8695905208587646, 12.477745056152344, 5.939510345458984, 8.364656448364258, 7.903079986572266, 4.477486610412598, 4.292665481567383, 3.4955637454986572, 4.183271884918213, 3.6209890842437744, 4.451178073883057, 5.147439956665039, 4.945465087890625, 3.5024819374084473, 2.915135383605957, 2.276705503463745, 5.697665691375732, 2.4281725883483887, 2.632002115249634, 7.0816240310668945, 5.060634613037109, 4.584251403808594, 9.97124195098877, 9.33256721496582, 10.452073097229004, 9.179141998291016, 15.72037124633789, 17.920347213745117, 10.21163272857666, 7.8829545974731445, 6.370373249053955, 13.776632308959961, 17.934236526489258, 14.745627403259277, 13.714591026306152, 14.589028358459473, 15.323393821716309, 15.39736270904541, 12.495099067687988, 7.873926162719727, 7.3400797843933105, 10.191792488098145, 10.105486869812012, 13.300167083740234, 12.980450630187988, 14.835243225097656, 10.022979736328125, 13.188746452331543, 12.42828369140625, 10.843639373779297, 10.64370346069336, 10.843356132507324, 9.808609962463379, 10.085052490234375, 10.209076881408691, 9.518840789794922, 2.541214942932129, 0.5587206482887268, 0.4281441271305084, 0.845384418964386, 0.3758089244365692, 0.30189239978790283, 0.6611348986625671, 0.293999046087265, 0.2944197356700897, 0.377681165933609, 0.2689667046070099, 0.26888179779052734, 0.2929386496543884, 0.26517340540885925, 0.26082727313041687, 0.2901860177516937, 0.2601168751716614, 0.25780102610588074, 0.2536201477050781, 0.383343368768692, 0.246193066239357, 0.2799668312072754, 0.24578648805618286, 0.5455316305160522, 0.289643794298172, 0.23970627784729004, 0.2395939826965332, 0.23608338832855225, 0.2329856902360916, 0.3758639693260193, 0.7868127822875977, 0.44455814361572266, 0.4702446758747101, 1.6927722692489624, 1.4189428091049194, 0.6400712132453918, 0.4502296447753906, 0.9658561944961548, 0.40573978424072266, 0.3167635202407837, 0.4353630244731903, 0.495695024728775, 1.360613226890564, 0.68133145570755, 1.4759539365768433, 1.0165956020355225, 0.8546731472015381, 0.6232273578643799, 0.8199726939201355, 0.5212264657020569, 0.619007408618927, 1.2870738506317139, 0.9830316305160522, 0.6579120755195618, 0.7284068465232849, 0.6394746899604797, 0.6940090656280518, 0.8279951810836792, 0.8292430639266968, 0.9357717037200928, 0.697053849697113, 0.7573287487030029, 0.8472194671630859, 0.8192058205604553, 0.78708416223526, 0.7916314005851746, 0.80800861120224, 0.8232380747795105, 0.7751177549362183, 0.7590914964675903, 0.7221229076385498, 0.7121288776397705, 0.7023053169250488, 0.7184290289878845, 0.566690981388092, 0.43179765343666077, 0.5794798731803894, 0.5137417316436768, 0.44999775290489197, 0.4343573749065399, 0.458913654088974, 0.4788399338722229, 0.29406943917274475, 0.2926255464553833, 0.29222381114959717, 0.2763441503047943, 0.30714553594589233, 0.2691323161125183, 0.34025144577026367, 0.2849411070346832, 0.25539910793304443, 0.25497156381607056, 0.24535159766674042, 0.24384905397891998, 0.2588263750076294, 0.2401490956544876, 0.5410101413726807, 0.26387739181518555, 0.30008968710899353, 0.23180323839187622, 0.2505573332309723, 0.22972416877746582, 0.2238898128271103, 0.5295614004135132, 0.6262342929840088, 0.8551110029220581, 0.5123775005340576, 0.42683279514312744, 0.6801420450210571, 0.44597482681274414, 0.7821261882781982, 0.7994085550308228, 0.8265001177787781, 0.3920893967151642, 0.4396324157714844, 0.4555756747722626, 0.7440959215164185, 0.5495412945747375, 1.1319767236709595, 1.1664516925811768, 1.1345734596252441, 0.4876878559589386, 0.8867223262786865, 1.1005116701126099, 0.8132923245429993, 0.65179044008255, 0.6979954242706299, 0.5996596813201904, 0.829822301864624, 0.7012248635292053, 0.6690148115158081, 0.7156902551651001, 0.7097568511962891, 0.7339145541191101, 0.7572860717773438, 0.6944646239280701, 0.7084688544273376, 0.7045905590057373, 0.6656399369239807, 0.6738966703414917, 0.6323385834693909, 0.6277541518211365, 0.6317140460014343, 0.6217181086540222, 0.5552724599838257, 0.9180932641029358, 0.5008355379104614, 0.4999314844608307, 0.429418683052063, 0.9681801199913025, 0.28373000025749207, 0.3534976541996002, 0.2750091552734375, 0.27172011137008667, 0.2697957456111908, 0.3826925456523895, 0.2803195118904114, 0.35905537009239197, 0.2575816512107849, 0.2517824172973633, 0.24610675871372223, 0.2463284134864807, 0.24632780253887177, 0.24309758841991425, 0.24199391901493073, 0.23586060106754303, 0.3379984498023987, 0.2272721827030182, 0.2265058010816574, 0.22439232468605042, 0.2579621970653534, 0.5768133997917175, 0.21540425717830658, 0.3498455286026001, 0.34965282678604126, 0.37730661034584045, 0.3854098916053772, 0.47184568643569946, 0.6187654137611389, 0.43067485094070435, 0.41092050075531006, 0.27407094836235046, 0.3550693690776825, 0.5690371990203857, 0.6512128710746765, 0.6257212162017822, 0.5614067316055298, 0.5695620179176331, 0.4489951431751251, 0.792807400226593, 0.964341402053833, 0.6143829822540283, 0.532245934009552, 0.5520061254501343, 0.5890087485313416, 0.7159765362739563, 0.6560465693473816, 0.6316823363304138, 0.7123594284057617, 0.6211313009262085, 0.5342217683792114, 0.5350971817970276, 0.6414366364479065, 0.6230501532554626, 0.5739090442657471, 0.5620951652526855, 0.5691700577735901, 0.5478546023368835, 0.5402863621711731, 0.2856837809085846, 0.2803229093551636, 0.2664699852466583, 0.25742384791374207, 0.36660221219062805, 0.24216850101947784, 0.2580623924732208, 0.23520371317863464, 0.23516742885112762, 0.33637818694114685, 0.4175686538219452, 0.2183409184217453, 0.34432414174079895, 0.2482273280620575, 0.32891854643821716, 0.20738215744495392, 0.2073986679315567, 0.23069016635417938, 0.20294469594955444, 0.20229168236255646, 0.19803611934185028, 0.19355370104312897, 0.19182324409484863, 0.29041269421577454, 0.1899721920490265, 0.18754729628562927, 0.2852287292480469, 0.20238713920116425, 0.2211352288722992, 0.1803511530160904, 0.31742769479751587, 0.2957029938697815, 0.2777268588542938, 0.33097827434539795, 0.46649301052093506, 0.3312683701515198, 0.42369240522384644, 0.30462953448295593, 0.33438077569007874, 0.28452926874160767, 0.2689668834209442, 0.44198018312454224, 0.542341411113739, 0.41896459460258484, 0.6189258694648743, 0.3795747458934784, 0.5117200016975403, 0.49627551436424255, 0.49922242760658264, 0.520337700843811, 0.4568066895008087, 0.4141766130924225, 0.5102999806404114, 0.36283233761787415, 0.3334522843360901, 0.3909735381603241, 0.3227430284023285, 0.3302896320819855, 0.38166365027427673, 0.34826502203941345, 0.3414621651172638, 0.3413355052471161, 0.3429494798183441, 0.3337641954421997, 0.3337555527687073, 0.33269521594047546, 0.3170081377029419, 0.4637164771556854, 0.24345673620700836, 0.2399313598871231, 0.23564665019512177, 0.2311280518770218, 0.2816539406776428, 0.21764017641544342, 0.27403414249420166, 0.2107371687889099, 0.20532526075839996, 0.24793127179145813, 0.19822730123996735, 0.192034512758255, 0.20270945131778717, 0.27876266837120056, 0.1868608593940735, 0.18631848692893982, 0.18555347621440887, 0.3556974232196808, 0.1768622100353241, 0.16881942749023438, 0.23943108320236206, 0.1682630479335785, 0.20030902326107025, 0.16682620346546173, 0.2681513726711273, 0.18950237333774567, 0.15745295584201813, 0.1573871672153473, 0.3263171315193176, 0.21860229969024658, 0.37327584624290466, 0.37913838028907776, 0.24020075798034668, 0.34532442688941956, 0.30068984627723694, 0.2334854006767273, 0.2475184053182602, 0.28833314776420593, 0.28187209367752075, 0.38479697704315186, 0.24470661580562592, 0.4068121910095215, 0.2936936914920807, 0.36405688524246216, 0.29844728112220764, 0.3977508842945099, 0.29660364985466003, 0.3559691607952118, 0.3800122141838074, 0.3623008131980896, 0.3377726972103119, 0.2726479172706604, 0.28778377175331116, 0.27701807022094727, 0.27918776869773865, 0.27615439891815186, 0.27450644969940186, 0.2678549289703369, 0.23083770275115967, 0.22625195980072021, 0.21302959322929382, 0.20924139022827148, 0.20909425616264343, 0.20532231032848358, 0.20302258431911469, 0.19912920892238617, 0.19719868898391724, 0.22233107686042786, 0.2753305435180664, 0.19200994074344635, 0.1910330206155777, 0.26155614852905273, 0.18682412803173065, 0.18608494102954865, 0.1803174912929535, 0.17549599707126617, 0.25968626141548157, 0.1924957036972046, 0.16413454711437225, 0.17959298193454742, 0.16182677447795868, 0.15760572254657745, 0.1575307995080948, 0.1957630217075348, 0.1915503889322281, 0.1527363508939743, 0.15243037045001984, 0.16302427649497986, 0.2080996036529541, 0.27692508697509766, 0.27801278233528137, 0.23007720708847046, 0.2843203842639923, 0.2543202340602875, 0.2622419595718384, 0.3419203758239746, 0.27807095646858215, 0.26636549830436707, 0.2400369495153427, 0.22297295928001404, 0.24173788726329803, 0.23890946805477142, 0.3024599254131317, 0.29017820954322815, 0.3001207113265991, 0.2629910707473755, 0.24558550119400024, 0.27742698788642883, 0.2666568160057068, 0.24279315769672394, 0.2268972545862198, 0.2226077765226364, 0.36074376106262207, 0.2208443284034729, 0.21771006286144257, 0.21212425827980042, 0.2035561352968216, 0.20295850932598114, 0.19313208758831024, 0.19123955070972443, 0.18623778223991394, 0.18576295673847198, 0.18282917141914368, 0.17823702096939087, 0.17823682725429535, 0.18522386252880096, 0.1702546924352646, 0.16914376616477966, 0.1686786562204361, 0.16720156371593475, 0.16695885360240936, 0.16606616973876953, 0.16538293659687042, 0.16517053544521332, 0.1601819097995758, 0.158836230635643, 0.23476853966712952, 0.15392763912677765, 0.1509823203086853, 0.16330252587795258, 0.18516236543655396, 0.14648593962192535, 0.24808764457702637, 0.2716275453567505, 0.3113608956336975, 0.2491893172264099, 0.20888161659240723, 0.2216300666332245, 0.252266526222229, 0.21871845424175262, 0.21859486401081085, 0.5977713465690613, 0.2708664536476135, 0.278219074010849, 0.1807919144630432, 0.29404208064079285, 0.2116362452507019, 0.26953721046447754, 0.2520867884159088, 0.25728464126586914, 0.22699342668056488, 0.2120179980993271, 0.2479017823934555, 0.2187688648700714, 0.21623347699642181, 0.20216675102710724, 0.20832766592502594, 0.20898109674453735, 0.24874915182590485, 0.23325148224830627, 0.22183163464069366, 0.21825304627418518, 0.20638321340084076, 0.22425168752670288, 0.20465931296348572, 0.2400268316268921, 0.18899479508399963, 0.1859719306230545, 0.24024631083011627, 0.17715336382389069, 0.17417287826538086, 0.19685375690460205, 0.22079826891422272, 0.2315496802330017, 0.1694214642047882, 0.18027694523334503, 0.1592584103345871, 0.1590036004781723, 0.15631571412086487, 0.15589313209056854, 0.15578721463680267, 0.1544312685728073, 0.15240587294101715, 0.16754958033561707, 0.14993156492710114, 0.14777922630310059, 0.1479732245206833, 0.14611761271953583, 0.2335195094347, 0.17791707813739777, 0.3012087643146515, 0.21233229339122772, 0.3138871192932129, 0.25180134177207947, 0.21902886033058167, 0.19901898503303528, 0.24608837068080902, 0.18777108192443848, 0.24670690298080444, 0.1909443885087967, 0.26263901591300964, 0.2821291983127594, 0.202970951795578, 0.19799156486988068, 0.25077247619628906, 0.2275787889957428, 0.22692446410655975, 0.22137565910816193, 0.25412696599960327, 0.21826964616775513, 0.24208803474903107, 0.2698749303817749, 0.23059937357902527, 0.23611301183700562, 0.20585496723651886, 0.192408949136734, 0.1914907544851303, 0.18878521025180817, 0.18631935119628906, 0.25551849603652954, 0.18314126133918762, 0.17055179178714752, 0.1683865189552307, 0.1682538092136383, 0.23820674419403076, 0.16247569024562836, 0.18235953152179718, 0.16108760237693787, 0.15642613172531128, 0.19023475050926208, 0.15371274948120117, 0.17783388495445251, 0.15270990133285522, 0.2158280313014984, 0.15143589675426483, 0.2236279994249344, 0.18249520659446716, 0.15014496445655823, 0.14018766582012177, 0.13836893439292908, 0.21114176511764526, 0.1737842559814453, 0.3185766935348511, 0.2917953431606293, 0.18906253576278687, 0.2274094671010971, 0.2495892494916916, 0.1842353641986847, 0.19853663444519043, 0.23138965666294098, 0.2380349040031433, 0.20095044374465942, 0.19040274620056152, 0.2572745084762573, 0.21217477321624756, 0.20245075225830078, 0.18499413132667542], \"Term\": [\"user\", \"graph\", \"cluster\", \"view\", \"word\", \"network\", \"answer\", \"image\", \"text\", \"question\", \"feature\", \"language\", \"model\", \"attribute\", \"relation\", \"sentence\", \"agent\", \"human\", \"matrix\", \"query\", \"embed\", \"task\", \"approach\", \"data\", \"multi\", \"algorithm\", \"semantic\", \"object\", \"time\", \"decision\", \"reward\", \"reinforcement\", \"frame\", \"sample\", \"risk\", \"gradient\", \"layer\", \"stochastic\", \"convex\", \"video\", \"tree\", \"policy\", \"value\", \"convergence\", \"stream\", \"continuous\", \"higher\", \"planner\", \"aware\", \"generalize\", \"estimation\", \"discrete\", \"regret\", \"brain\", \"correlation\", \"forecast\", \"detector\", \"parameter\", \"environment\", \"transition\", \"function\", \"distribution\", \"action\", \"game\", \"label\", \"learn\", \"plan\", \"optimization\", \"online\", \"train\", \"model\", \"method\", \"problem\", \"algorithm\", \"feature\", \"data\", \"domain\", \"order\", \"source\", \"deep\", \"framework\", \"task\", \"agent\", \"network\", \"structure\", \"image\", \"approach\", \"representation\", \"neural\", \"information\", \"attention\", \"performance\", \"base\", \"propose\", \"cluster\", \"triplet\", \"synonym\", \"anomaly\", \"laplacian\", \"turnover\", \"teacher\", \"hawk\", \"dtis\", \"consensus\", \"poll\", \"relatedness\", \"mass\", \"zone\", \"maritime\", \"gait\", \"impression\", \"airline\", \"cgmh\", \"session\", \"antonym\", \"gesture\", \"volumetric\", \"identity\", \"coordination\", \"atpl\", \"opimc\", \"hypergraphs\", \"dwinn\", \"loop\", \"traffic\", \"spectral\", \"incomplete\", \"view\", \"attribute\", \"margin\", \"paraphrase\", \"shape\", \"inter\", \"surface\", \"manipulation\", \"diversity\", \"word\", \"alignment\", \"graph\", \"matrix\", \"topic\", \"detect\", \"document\", \"propagation\", \"projection\", \"network\", \"embed\", \"pattern\", \"embeddings\", \"distance\", \"nod\", \"text\", \"multi\", \"label\", \"latent\", \"relation\", \"approach\", \"algorithm\", \"domain\", \"agent\", \"data\", \"model\", \"feature\", \"method\", \"different\", \"sentence\", \"learn\", \"distortion\", \"semidefinite\", \"tutor\", \"biomedical\", \"multilingual\", \"parser\", \"defender\", \"medium\", \"grammar\", \"riemannian\", \"irregular\", \"causality\", \"encrypt\", \"discussion\", \"capsatt\", \"headline\", \"trigger\", \"homomorphism\", \"kbqa\", \"rgnn\", \"infection\", \"highest\", \"back\", \"treatment\", \"engagement\", \"delivery\", \"fluid\", \"fake\", \"provenance\", \"sdnf\", \"skill\", \"medical\", \"attack\", \"post\", \"satisfiability\", \"news\", \"character\", \"causal\", \"story\", \"segmentation\", \"constant\", \"mode\", \"rnns\", \"scene\", \"ontology\", \"answer\", \"language\", \"text\", \"parse\", \"question\", \"image\", \"sentence\", \"description\", \"natural\", \"program\", \"task\", \"semantic\", \"visual\", \"action\", \"time\", \"train\", \"model\", \"base\", \"agent\", \"data\", \"information\", \"method\", \"word\", \"class\", \"network\", \"mapf\", \"multimodal\", \"modality\", \"buyer\", \"deviation\", \"subtask\", \"modal\", \"lipread\", \"seller\", \"quota\", \"lazy\", \"pamc\", \"distributional\", \"bilinear\", \"symmetry\", \"ccmtl\", \"hypernymy\", \"yolk\", \"silent\", \"lipper\", \"klsh\", \"sbns\", \"openqa\", \"bike\", \"elps\", \"pomc\", \"orderly\", \"park\", \"perturbation\", \"fdsp\", \"primary\", \"controller\", \"span\", \"disentangle\", \"auxiliary\", \"event\", \"rnns\", \"valuation\", \"acoustic\", \"permutation\", \"shape\", \"probabilistic\", \"cluster\", \"sentiment\", \"count\", \"speech\", \"word\", \"feature\", \"view\", \"hash\", \"module\", \"answer\", \"data\", \"representation\", \"multi\", \"model\", \"object\", \"memory\", \"query\", \"learn\", \"algorithm\", \"approach\", \"domain\", \"network\", \"information\", \"method\", \"metrical\", \"boaf\", \"setup\", \"blame\", \"round\", \"pagnet\", \"isomorphism\", \"mips\", \"argumenthood\", \"solvable\", \"sensor\", \"subtypes\", \"profit\", \"sans\", \"restriction\", \"ticket\", \"fcnns\", \"micro\", \"scnn\", \"monogrnet\", \"ristn\", \"svdd\", \"lime\", \"abstractive\", \"projmc\", \"kvqa\", \"provider\", \"blind\", \"robotic\", \"erase\", \"emotion\", \"edit\", \"repair\", \"conversation\", \"discriminator\", \"population\", \"branch\", \"cognitive\", \"teach\", \"residual\", \"macro\", \"resolution\", \"translation\", \"preference\", \"user\", \"tune\", \"answer\", \"system\", \"human\", \"image\", \"generate\", \"query\", \"model\", \"attribute\", \"read\", \"task\", \"syntactic\", \"scene\", \"learn\", \"strategy\", \"search\", \"machine\", \"feature\", \"application\", \"object\", \"estimate\", \"wcsps\", \"symbolic\", \"compensatory\", \"recast\", \"videoqa\", \"duel\", \"pedestrian\", \"bkfdds\", \"circuit\", \"distractors\", \"dehrl\", \"sensory\", \"adadsg\", \"geodesic\", \"multispectral\", \"entailment\", \"mtas\", \"acpp\", \"apmc\", \"auction\", \"vmcqs\", \"dgbo\", \"list\", \"emergency\", \"quantize\", \"coreset\", \"hold\", \"believe\", \"featwalk\", \"trim\", \"verification\", \"truthful\", \"schedule\", \"medical\", \"centrality\", \"right\", \"qualitative\", \"period\", \"sketch\", \"triple\", \"scalability\", \"heuristic\", \"recognize\", \"question\", \"diagnosis\", \"rule\", \"abstraction\", \"decision\", \"story\", \"constraint\", \"user\", \"network\", \"graph\", \"pattern\", \"solution\", \"type\", \"algorithm\", \"approach\", \"problem\", \"nonverbal\", \"byzantine\", \"internship\", \"pianist\", \"hgnn\", \"mocha\", \"iris\", \"persuasion\", \"seqhine\", \"oscillation\", \"math\", \"swap\", \"sclump\", \"analogical\", \"stackelberg\", \"ltlf\", \"ipomdp\", \"cada\", \"mccfr\", \"bilingual\", \"distil\", \"debguer\", \"tiny\", \"neuronal\", \"tecu\", \"font\", \"negotiation\", \"temperature\", \"inertia\", \"idepnn\", \"phenotype\", \"manufacture\", \"phrase\", \"child\", \"academic\", \"assignment\", \"dropout\", \"posterior\", \"belief\", \"modality\", \"fit\", \"predictive\", \"macro\", \"triple\", \"teacher\", \"entity\", \"probability\", \"inference\", \"resource\", \"operator\", \"relation\", \"sentence\", \"human\", \"attack\", \"source\", \"oracle\", \"mixup\", \"sada\", \"propaganda\", \"radical\", \"dag\", \"reservation\", \"bdcmf\", \"depression\", \"camo\", \"boxopt\", \"convnets\", \"nptns\", \"glove\", \"labelforest\", \"defeasible\", \"tracklets\", \"ensnet\", \"mapd\", \"mediator\", \"deepfuzz\", \"wadfs\", \"deeptilebars\", \"identifiability\", \"wager\", \"saga\", \"disharmony\", \"gold\", \"click\", \"microbiome\", \"expectation\", \"argumentation\", \"welfare\", \"color\", \"title\", \"controller\", \"formalism\", \"equivalence\", \"dictionary\", \"user\", \"abstract\", \"style\", \"log\", \"content\", \"argument\", \"document\", \"preference\", \"explanation\", \"recommender\", \"profile\", \"text\", \"causal\", \"effect\", \"discourse\", \"query\", \"agent\", \"idiom\", \"hurricane\", \"figure\", \"conve\", \"mlcert\", \"metadata\", \"ames\", \"multiscale\", \"humor\", \"milp\", \"grasp\", \"spreadsheet\", \"kidney\", \"aggregator\", \"gaze\", \"circulant\", \"transgate\", \"rain\", \"covamnet\", \"dsgd\", \"maxsmt\", \"bipolar\", \"scholarly\", \"meshnet\", \"lpom\", \"symbiosis\", \"separator\", \"asrnns\", \"mild\", \"affinitynet\", \"monotone\", \"statement\", \"satisfiability\", \"popularity\", \"affect\", \"pool\", \"privacy\", \"cell\", \"commerce\", \"rewrite\", \"assignment\", \"epistemic\", \"shift\", \"solver\", \"patch\", \"emotion\", \"pose\", \"fairness\", \"abstraction\", \"attack\", \"image\", \"program\", \"aesthetic\", \"toll\", \"hotel\", \"apps\", \"pixelrl\", \"deepmne\", \"adem\", \"tacotron\", \"dcspns\", \"predictor\", \"dispersal\", \"stereo\", \"lane\", \"drps\", \"comment\", \"ukge\", \"citizen\", \"underwrite\", \"persona\", \"side\", \"multistream\", \"habitat\", \"forbid\", \"multitask\", \"cash\", \"subgoals\", \"verb\", \"rkhs\", \"ibatch\", \"highway\", \"decentralize\", \"gather\", \"attack\", \"pixel\", \"envy\", \"argument\", \"event\", \"connectivity\", \"write\", \"student\", \"preference\", \"flow\", \"spectral\", \"agent\", \"attribute\", \"communication\", \"network\"], \"Total\": [11.0, 11.0, 3.0, 5.0, 9.0, 18.0, 7.0, 16.0, 8.0, 8.0, 18.0, 8.0, 21.0, 4.0, 8.0, 8.0, 15.0, 7.0, 6.0, 6.0, 10.0, 16.0, 15.0, 18.0, 11.0, 17.0, 8.0, 11.0, 11.0, 9.0, 6.795663356781006, 8.704242706298828, 8.120767593383789, 14.273359298706055, 5.208340644836426, 7.867000579833984, 10.228495597839355, 4.608867645263672, 4.303872108459473, 13.883092880249023, 6.612167835235596, 9.326534271240234, 8.815028190612793, 4.9942779541015625, 4.789803981781006, 3.9061572551727295, 4.6885247230529785, 4.059244632720947, 4.9915771484375, 5.799670219421387, 5.574838161468506, 3.9505178928375244, 3.294562578201294, 2.5741829872131348, 6.449969291687012, 2.752347230911255, 2.9836084842681885, 8.030184745788574, 5.743980884552002, 5.208032608032227, 11.33580493927002, 10.605803489685059, 11.903288841247559, 10.499125480651855, 18.10963249206543, 20.885753631591797, 11.795395851135254, 9.093670845031738, 7.2915849685668945, 16.308685302734375, 21.535572052001953, 17.54796600341797, 16.28891944885254, 17.430179595947266, 18.440401077270508, 18.535764694213867, 14.902365684509277, 9.11411190032959, 8.466748237609863, 12.058104515075684, 11.96755313873291, 16.22471046447754, 15.927461624145508, 18.548019409179688, 11.911855697631836, 16.394123077392578, 15.299680709838867, 13.14044189453125, 12.890324592590332, 13.338615417480469, 11.65021800994873, 12.132452964782715, 12.638288497924805, 11.533348083496094, 3.9666495323181152, 0.9460770487785339, 0.8028799295425415, 1.601521611213684, 0.7363827228546143, 0.6464610695838928, 1.4231643676757812, 0.63857102394104, 0.639743447303772, 0.8510936498641968, 0.6135369539260864, 0.6134544610977173, 0.6713434457778931, 0.6097490787506104, 0.6053988337516785, 0.6741787195205688, 0.6046855449676514, 0.6023696064949036, 0.5981907844543457, 0.9054903388023376, 0.5907617211341858, 0.6733455061912537, 0.5937538146972656, 1.3191989660263062, 0.7058267593383789, 0.5842857956886292, 0.5841701030731201, 0.5806519985198975, 0.5775543451309204, 0.9355859756469727, 2.0027971267700195, 1.1178910732269287, 1.206987977027893, 5.457432746887207, 4.533305644989014, 1.8406397104263306, 1.229878544807434, 3.2567954063415527, 1.164691686630249, 0.809332549571991, 1.3174700736999512, 1.7143093347549438, 9.604035377502441, 2.9748787879943848, 11.572763442993164, 6.100894451141357, 4.5562005043029785, 2.7806239128112793, 4.878744125366211, 2.030338764190674, 2.8885374069213867, 18.548019409179688, 10.286492347717285, 3.828508138656616, 5.324244022369385, 3.9606552124023438, 5.061781406402588, 8.651061058044434, 11.320917129516602, 18.10963249206543, 6.312782287597656, 8.866389274597168, 15.299680709838867, 17.430179595947266, 14.902365684509277, 15.927461624145508, 18.535764694213867, 21.535572052001953, 18.440401077270508, 17.54796600341797, 10.21727466583252, 8.702093124389648, 20.885753631591797, 1.0943925380706787, 0.9128682017326355, 0.776631236076355, 1.0430519580841064, 0.9310393929481506, 0.8725288510322571, 0.8485535979270935, 0.9412984251976013, 1.0392287969589233, 0.6389181017875671, 0.639351487159729, 0.6425207853317261, 0.6211750507354736, 0.6934206485748291, 0.6139870882034302, 0.7855451107025146, 0.6588311195373535, 0.6002299785614014, 0.5998297929763794, 0.5901824831962585, 0.5887856483459473, 0.625784158706665, 0.5849891901016235, 1.3239057064056396, 0.6502587199211121, 0.74005126953125, 0.5766361951828003, 0.6266352534294128, 0.5745550394058228, 0.5687240362167358, 1.3636664152145386, 1.6287273168563843, 2.2796664237976074, 1.3907469511032104, 1.1549619436264038, 2.0900349617004395, 1.2521511316299438, 2.552075147628784, 2.7846519947052, 3.2412970066070557, 1.1157844066619873, 1.3368548154830933, 1.4325779676437378, 3.316368341445923, 2.0284905433654785, 7.118458271026611, 8.245479583740234, 8.651061058044434, 1.9613229036331177, 8.407296180725098, 16.394123077392578, 8.702093124389648, 4.647243976593018, 6.363497734069824, 4.165711879730225, 16.22471046447754, 8.119662284851074, 6.689181327819824, 11.903288841247559, 11.609720230102539, 16.308685302734375, 21.535572052001953, 12.638288497924805, 15.927461624145508, 18.535764694213867, 13.338615417480469, 17.54796600341797, 9.604035377502441, 10.860297203063965, 18.548019409179688, 1.091257095336914, 0.9799750447273254, 1.6571742296218872, 0.9816781282424927, 0.9932457208633423, 0.9081071019172668, 2.0749993324279785, 0.6328760385513306, 0.792862594127655, 0.6227937936782837, 0.6194971799850464, 0.6175727844238281, 0.8817020058631897, 0.6530366539955139, 0.8369988799095154, 0.6053962707519531, 0.599559485912323, 0.5938873887062073, 0.5957988500595093, 0.5957991480827332, 0.590918779373169, 0.5897709131240845, 0.58363938331604, 0.8513628840446472, 0.5750491619110107, 0.5742995738983154, 0.5721777677536011, 0.6651416420936584, 1.5026203393936157, 0.5632023811340332, 0.9160735011100769, 0.9187170267105103, 1.018716812133789, 1.0474869012832642, 1.3856048583984375, 2.133239507675171, 1.4325779676437378, 1.408890962600708, 0.7278589606285095, 1.2027779817581177, 3.2567954063415527, 4.309682369232178, 3.9666495323181152, 3.1712095737457275, 3.463989019393921, 2.1662042140960693, 9.604035377502441, 18.440401077270508, 5.457432746887207, 3.8585712909698486, 4.84371280670166, 7.118458271026611, 18.535764694213867, 13.14044189453125, 11.320917129516602, 21.535572052001953, 11.13728141784668, 5.877806186676025, 6.577478885650635, 20.885753631591797, 17.430179595947266, 15.299680709838867, 14.902365684509277, 18.548019409179688, 13.338615417480469, 17.54796600341797, 0.6347828507423401, 0.6294205188751221, 0.6168009042739868, 0.6065222024917603, 0.864612340927124, 0.5912767648696899, 0.6401927471160889, 0.5843298435211182, 0.5842684507369995, 0.8427478671073914, 1.0656139850616455, 0.5674523115158081, 0.897766649723053, 0.6506687998771667, 0.8787031173706055, 0.5564765334129333, 0.5565462112426758, 0.6209737658500671, 0.5520755052566528, 0.5514037609100342, 0.5471453070640564, 0.5427693128585815, 0.5409522652626038, 0.8193498253822327, 0.5390894412994385, 0.5366535782814026, 0.8187299966812134, 0.58699631690979, 0.6448516249656677, 0.5351659655570984, 0.9698574542999268, 0.9095134139060974, 0.8621007204055786, 1.0988783836364746, 1.8069771528244019, 1.2448632717132568, 1.9884679317474365, 1.1489814519882202, 1.446555733680725, 1.170773983001709, 1.0289274454116821, 3.464350461959839, 6.286372184753418, 3.466914176940918, 11.078453063964844, 2.7083182334899902, 7.118458271026611, 7.335914134979248, 7.57307243347168, 16.394123077392578, 9.894373893737793, 6.577478885650635, 21.535572052001953, 4.533305644989014, 2.812849998474121, 16.22471046447754, 2.4194910526275635, 3.316368341445923, 20.885753631591797, 8.526076316833496, 9.512340545654297, 9.625456809997559, 18.440401077270508, 7.242317199707031, 11.13728141784668, 5.714994430541992, 0.6686908006668091, 0.989219069480896, 0.5941783785820007, 0.5906669497489929, 0.5864507555961609, 0.5818562507629395, 0.7340610027313232, 0.5683614611625671, 0.7259424924850464, 0.5614774823188782, 0.5560504794120789, 0.6860125064849854, 0.5489822030067444, 0.54274982213974, 0.5793171525001526, 0.8015211224555969, 0.5376406908035278, 0.5370870232582092, 0.536319375038147, 1.0345780849456787, 0.5275969505310059, 0.5195834636688232, 0.7383700609207153, 0.5202677249908447, 0.6202829480171204, 0.5177227258682251, 0.8364545106887817, 0.5988574624061584, 0.5082610845565796, 0.5086314678192139, 1.17617928981781, 0.7438860535621643, 1.5855153799057007, 1.6287273168563843, 0.8710152506828308, 1.5053117275238037, 1.283903956413269, 0.8558664321899414, 0.973213255405426, 1.3897085189819336, 1.332990050315857, 3.739994764328003, 1.1967222690582275, 8.407296180725098, 2.4562580585479736, 6.3073248863220215, 2.751508951187134, 9.697888374328613, 2.7846519947052, 7.271576404571533, 11.078453063964844, 18.548019409179688, 11.572763442993164, 3.828508138656616, 8.288605690002441, 5.31945276260376, 17.430179595947266, 15.299680709838867, 16.28891944885254, 0.6193882822990417, 0.5823630690574646, 0.5777743458747864, 0.5645554065704346, 0.5608075857162476, 0.5606064796447754, 0.5568528175354004, 0.5545917749404907, 0.5507082343101501, 0.5487246513366699, 0.625920832157135, 0.7784942388534546, 0.5435606837272644, 0.5425673127174377, 0.7514106631278992, 0.5383615493774414, 0.5376861095428467, 0.531885027885437, 0.5273097157478333, 0.7822320461273193, 0.5855772495269775, 0.5156987905502319, 0.5658893585205078, 0.5133864283561707, 0.5092121362686157, 0.5090657472610474, 0.6403519511222839, 0.6310274004936218, 0.5043063759803772, 0.5039573311805725, 0.5402163863182068, 0.7025809288024902, 0.9680947661399841, 1.0681936740875244, 0.900746762752533, 1.3521783351898193, 1.1549510955810547, 1.2476253509521484, 2.377311944961548, 1.6571742296218872, 1.5447261333465576, 1.3110885620117188, 1.0289274454116821, 1.3897085189819336, 1.4231643676757812, 5.079127311706543, 5.24287748336792, 6.601845741271973, 4.1416425704956055, 2.860910654067993, 8.866389274597168, 8.702093124389648, 7.57307243347168, 2.2796664237976074, 8.466748237609863, 0.8395968079566956, 0.5726868510246277, 0.5695683360099792, 0.5639336705207825, 0.5553786754608154, 0.5568543672561646, 0.5449501872062683, 0.5430740714073181, 0.5380907654762268, 0.5376172065734863, 0.5346469879150391, 0.5300652384757996, 0.5300650596618652, 0.5607880353927612, 0.522101104259491, 0.5209476351737976, 0.520510733127594, 0.5190532207489014, 0.5187863111495972, 0.5178883075714111, 0.5171905159950256, 0.5169779062271118, 0.5120263695716858, 0.5106701850891113, 0.7617638111114502, 0.5057662129402161, 0.5028711557388306, 0.5511229634284973, 0.6296797394752502, 0.4983047842979431, 0.8673981428146362, 1.0525145530700684, 1.3222055435180664, 1.0172792673110962, 0.7905820608139038, 0.9187170267105103, 1.246160626411438, 0.939250648021698, 0.985314130783081, 11.078453063964844, 2.1216793060302734, 2.6912848949432373, 0.6579370498657227, 5.917123794555664, 1.4343806505203247, 4.878744125366211, 3.466914176940918, 4.104891300201416, 2.473823070526123, 1.6278177499771118, 8.651061058044434, 2.552075147628784, 4.247193813323975, 1.4254159927368164, 6.577478885650635, 15.927461624145508, 0.6005521416664124, 0.585049569606781, 0.5739010572433472, 0.5700711011886597, 0.5581884384155273, 0.6090359687805176, 0.5565270185470581, 0.6643822193145752, 0.5408064723014832, 0.5378039479255676, 0.6968485713005066, 0.5289735794067383, 0.5259946584701538, 0.596809446811676, 0.6736035346984863, 0.7080566883087158, 0.5212779641151428, 0.5758174657821655, 0.5111782550811768, 0.510824978351593, 0.508112907409668, 0.5076873302459717, 0.5076168179512024, 0.5063014626502991, 0.5042738914489746, 0.5591902732849121, 0.5017712116241455, 0.49959972500801086, 0.500929057598114, 0.49796319007873535, 0.8014687895774841, 0.618696391582489, 1.1549619436264038, 0.7927104234695435, 1.424201488494873, 1.037239909172058, 0.8565912246704102, 0.7602807283401489, 1.1417627334594727, 0.7098295092582703, 1.3521783351898193, 0.7650654315948486, 2.15159273147583, 3.3942885398864746, 1.0584672689437866, 0.9698574542999268, 4.739817142486572, 2.72330904006958, 2.751508951187134, 2.2796664237976074, 16.394123077392578, 4.165711879730225, 0.5942620635032654, 0.6633287072181702, 0.5827702283859253, 0.613554835319519, 0.5580374002456665, 0.5445883274078369, 0.5436670780181885, 0.54102623462677, 0.5385118722915649, 0.7406994104385376, 0.5353209972381592, 0.5227534770965576, 0.5205428600311279, 0.5209903717041016, 0.754120945930481, 0.5147024989128113, 0.5780341029167175, 0.5132641792297363, 0.5086019039154053, 0.6225574016571045, 0.5059432983398438, 0.5878587365150452, 0.5049331188201904, 0.7145562171936035, 0.5036125183105469, 0.7438895106315613, 0.609366774559021, 0.5024105310440063, 0.49239397048950195, 0.4905450940132141, 0.7919977307319641, 0.6684238314628601, 2.2796664237976074, 2.036223888397217, 0.8510753512382507, 1.4343806505203247, 2.133239507675171, 0.8382096290588379, 1.2172514200210571, 2.440464973449707, 3.466914176940918, 1.5479035377502441, 1.1178910732269287, 15.927461624145508, 4.533305644989014, 3.3217811584472656, 18.548019409179688], \"loglift\": [30.0, 29.0, 28.0, 27.0, 26.0, 25.0, 24.0, 23.0, 22.0, 21.0, 20.0, 19.0, 18.0, 17.0, 16.0, 15.0, 14.0, 13.0, 12.0, 11.0, 10.0, 9.0, 8.0, 7.0, 6.0, 5.0, 4.0, 3.0, 2.0, 1.0, 0.43459999561309814, 0.42640000581741333, 0.4171999990940094, 0.4129999876022339, 0.4097000062465668, 0.4092999994754791, 0.4090999960899353, 0.4081000089645386, 0.4066999852657318, 0.40630000829696655, 0.4056999981403351, 0.4041999876499176, 0.40380001068115234, 0.40380001068115234, 0.4034000039100647, 0.4020000100135803, 0.39899998903274536, 0.39879998564720154, 0.3984000086784363, 0.3937000036239624, 0.39320001006126404, 0.3926999866962433, 0.39070001244544983, 0.3901999890804291, 0.3889999985694885, 0.38769999146461487, 0.38760000467300415, 0.3873000144958496, 0.3864000141620636, 0.3855000138282776, 0.384799987077713, 0.38510000705718994, 0.382999986410141, 0.37869998812675476, 0.3714999854564667, 0.35989999771118164, 0.36880001425743103, 0.3702000081539154, 0.3779999911785126, 0.3443000018596649, 0.33000001311302185, 0.33899998664855957, 0.3409999907016754, 0.335099995136261, 0.3278999924659729, 0.32749998569488525, 0.3368000090122223, 0.3668000102043152, 0.3702000081539154, 0.3449000120162964, 0.34389999508857727, 0.314300000667572, 0.3084000051021576, 0.2897000014781952, 0.34040001034736633, 0.2955000102519989, 0.3052000105381012, 0.32089999318122864, 0.3215000033378601, 0.3059000074863434, 0.3409999907016754, 0.32820001244544983, 0.2996000051498413, 0.32109999656677246, 2.2716000080108643, 2.190200090408325, 2.088099956512451, 2.077899932861328, 2.0441999435424805, 1.955399990081787, 1.9501999616622925, 1.9412000179290771, 1.9407999515533447, 1.9043999910354614, 1.892199993133545, 1.8919999599456787, 1.8875000476837158, 1.8841999769210815, 1.8747999668121338, 1.873900055885315, 1.8732999563217163, 1.8681999444961548, 1.8588000535964966, 1.857300043106079, 1.8415000438690186, 1.8393000364303589, 1.8348000049591064, 1.833799958229065, 1.8260999917984009, 1.8258999586105347, 1.825600028038025, 1.8169000148773193, 1.809000015258789, 1.804900050163269, 1.7825000286102295, 1.794700026512146, 1.7741999626159668, 1.5462000370025635, 1.555299997329712, 1.660599946975708, 1.711899995803833, 1.5013999938964844, 1.6622999906539917, 1.7788000106811523, 1.6095999479293823, 1.4759999513626099, 0.7626000046730042, 1.242900013923645, 0.6575000286102295, 0.9248999953269958, 1.0433000326156616, 1.2213000059127808, 0.9334999918937683, 1.357100009918213, 1.1764999628067017, 0.048900000751018524, 0.36890000104904175, 0.9556999802589417, 0.7276999950408936, 0.8932999968528748, 0.7299000024795532, 0.37040001153945923, 0.10300000011920929, -0.2460000067949295, 0.5134000182151794, 0.2565999925136566, -0.17679999768733978, -0.3407999873161316, -0.2240999937057495, -0.2849000096321106, -0.41600000858306885, -0.5473999977111816, -0.45239999890327454, -0.4237000048160553, 0.06719999760389328, 0.21379999816417694, -0.675599992275238, 2.3271000385284424, 2.271199941635132, 2.1610000133514404, 2.1602001190185547, 2.15339994430542, 2.085900068283081, 2.078399896621704, 2.029599905014038, 1.9731999635696411, 1.972100019454956, 1.9665000438690186, 1.9601000547409058, 1.938099980354309, 1.9336999654769897, 1.923200011253357, 1.9112999439239502, 1.9098000526428223, 1.8934999704360962, 1.8925000429153442, 1.870300054550171, 1.8665000200271606, 1.8652000427246094, 1.857699990272522, 1.8530999422073364, 1.8460999727249146, 1.8453999757766724, 1.8366999626159668, 1.8313000202178955, 1.8313000202178955, 1.8157999515533447, 1.8020999431610107, 1.792199969291687, 1.7675000429153442, 1.749500036239624, 1.7525999546051025, 1.6253999471664429, 1.7157000303268433, 1.5654000043869019, 1.5, 1.381500005722046, 1.7022000551223755, 1.6359000205993652, 1.6023999452590942, 1.253600001335144, 1.4421000480651855, 0.9093000292778015, 0.7922999858856201, 0.7166000008583069, 1.3562999963760376, 0.49869999289512634, 0.04690000042319298, 0.37779998779296875, 0.7836999893188477, 0.5378999710083008, 0.8097000122070312, -0.22509999573230743, 0.298799991607666, 0.4456000030040741, -0.0632999986410141, -0.04670000076293945, -0.3529999852180481, -0.5996999740600586, -0.15330000221729279, -0.36469998955726624, -0.5217999815940857, -0.24959999322891235, -0.5116000175476074, 0.027499999850988388, -0.10270000249147415, -0.6316999793052673, 2.3320000171661377, 2.3264999389648438, 2.303999900817871, 2.22160005569458, 2.2081000804901123, 2.145699977874756, 2.1322999000549316, 2.092400074005127, 2.0868000984191895, 2.077199935913086, 2.070499897003174, 2.066499948501587, 2.059999942779541, 2.0488998889923096, 2.04830002784729, 2.04010009765625, 2.0269999504089355, 2.013700008392334, 2.011399984359741, 2.011399984359741, 2.0064001083374023, 2.0037999153137207, 1.9886000156402588, 1.9708000421524048, 1.9663000106811523, 1.9642000198364258, 1.9586000442504883, 1.9473999738693237, 1.9371999502182007, 1.933500051498413, 1.9320000410079956, 1.9285999536514282, 1.9013999700546265, 1.8947999477386475, 1.8173999786376953, 1.6569000482559204, 1.6927000284194946, 1.662500023841858, 1.9178999662399292, 1.6744999885559082, 1.1500999927520752, 1.0047999620437622, 1.0477999448776245, 1.1632000207901, 1.0893000364303589, 1.3208999633789062, 0.400299996137619, -0.05620000138878822, 0.7105000019073486, 0.9136999845504761, 0.7226999998092651, 0.4025999903678894, -0.35920000076293945, -0.10260000079870224, 0.00860000029206276, -0.5142999887466431, 0.008100000210106373, 0.4964999854564667, 0.385699987411499, -0.5885000228881836, -0.4366999864578247, -0.38850000500679016, -0.382999986410141, -0.5892999768257141, -0.2978000044822693, -0.5860000252723694, 2.267699956893921, 2.257200002670288, 2.226799964904785, 2.2091000080108643, 2.2081000804901123, 2.1733999252319336, 2.1575000286102295, 2.156100034713745, 2.1559998989105225, 2.147700071334839, 2.129199981689453, 2.1110000610351562, 2.107800006866455, 2.102400064468384, 2.0834999084472656, 2.0789999961853027, 2.0789999961853027, 2.075900077819824, 2.0652999877929688, 2.0632998943328857, 2.049799919128418, 2.0350000858306885, 2.0292999744415283, 2.028899908065796, 2.023099899291992, 2.0148000717163086, 2.0116000175476074, 2.001300096511841, 1.9958000183105469, 1.9783999919891357, 1.9492000341415405, 1.9424999952316284, 1.93340003490448, 1.8660999536514282, 1.711899995803833, 1.7422000169754028, 1.5199999809265137, 1.7386000156402588, 1.6014000177383423, 1.6514999866485596, 1.7244000434875488, 1.007099986076355, 0.6158999800682068, 0.9528999924659729, 0.18129999935626984, 1.101099967956543, 0.4334000051021576, 0.3727000057697296, 0.3467999994754791, -0.3840999901294708, -0.009399999864399433, 0.3009999990463257, -0.6764000058174133, 0.5407999753952026, 0.9336000084877014, -0.659600019454956, 1.0515999794006348, 0.7594000101089478, -0.9362000226974487, -0.13179999589920044, -0.26100000739097595, -0.27320000529289246, -0.9186000227928162, -0.01119999960064888, -0.4415999948978424, 0.2224999964237213, 2.516700029373169, 2.5053999423980713, 2.370800018310547, 2.3622000217437744, 2.351300001144409, 2.3397998809814453, 2.3052000999450684, 2.3032000064849854, 2.2888998985290527, 2.283099889755249, 2.2667999267578125, 2.245300054550171, 2.2444000244140625, 2.224100112915039, 2.2130000591278076, 2.206899881362915, 2.206199884414673, 2.204400062561035, 2.20169997215271, 2.1953999996185303, 2.170099973678589, 2.1389000415802, 2.136899948120117, 2.1342999935150146, 2.1328001022338867, 2.1305999755859375, 2.125499963760376, 2.112499952316284, 2.091200113296509, 2.090100049972534, 1.9809000492095947, 2.0383999347686768, 1.8166999816894531, 1.805400013923645, 1.9749000072479248, 1.7907999753952026, 1.8114999532699585, 1.9641000032424927, 1.8940000534057617, 1.6902999877929688, 1.7093000411987305, 0.9889000058174133, 1.6757999658584595, 0.2345999926328659, 1.13919997215271, 0.4108999967575073, 1.0418000221252441, 0.06920000165700912, 1.0235999822616577, 0.24619999527931213, -0.10949999839067459, -0.6725999712944031, -0.2709999978542328, 0.6209999918937683, -0.09740000218153, 0.30799999833106995, -0.8709999918937683, -0.7516000270843506, -0.8202000260353088, 2.5429999828338623, 2.455899953842163, 2.443700075149536, 2.4066998958587646, 2.395400047302246, 2.3949999809265137, 2.383500099182129, 2.3763999938964844, 2.364000082015991, 2.3578999042510986, 2.3461999893188477, 2.341900110244751, 2.3406999111175537, 2.337399959564209, 2.3259999752044678, 2.3229000568389893, 2.320199966430664, 2.2995998859405518, 2.281100034713745, 2.278599977493286, 2.268699884414673, 2.2363998889923096, 2.233599901199341, 2.226799964904785, 2.2084999084472656, 2.2083001136779785, 2.196199893951416, 2.1891000270843506, 2.186800003051758, 2.185499906539917, 2.183199882507324, 2.1644999980926514, 2.129699945449829, 2.0352001190185547, 2.0164999961853027, 1.8219000101089478, 1.8680000305175781, 1.8214999437332153, 1.4421000480651855, 1.5963000059127808, 1.6234999895095825, 1.68340003490448, 1.8519999980926514, 1.6323000192642212, 1.5966999530792236, 0.5602999925613403, 0.4871000051498413, 0.29030001163482666, 0.6244999766349792, 0.9259999990463257, -0.08320000022649765, -0.10409999638795853, -0.05889999866485596, 1.0740000009536743, -0.2572000026702881, 2.5494000911712646, 2.4412999153137207, 2.432499885559082, 2.4163999557495117, 2.390500068664551, 2.3849000930786133, 2.3568999767303467, 2.3505001068115234, 2.333199977874756, 2.3315000534057617, 2.3210999965667725, 2.30430006980896, 2.30430006980896, 2.286400079727173, 2.2736001014709473, 2.2692999839782715, 2.267400026321411, 2.261399984359741, 2.2604000568389893, 2.2567999362945557, 2.253999948501587, 2.253200054168701, 2.232100009918213, 2.226300001144409, 2.2172000408172607, 2.2046000957489014, 2.190999984741211, 2.177799940109253, 2.1702001094818115, 2.1698999404907227, 2.1424999237060547, 2.0397000312805176, 1.948099970817566, 1.9874999523162842, 2.063199996948242, 1.9722000360488892, 1.7969000339508057, 1.936900019645691, 1.8883999586105347, 0.4745999872684479, 1.3358999490737915, 1.1247999668121338, 2.102400064468384, 0.392300009727478, 1.4805999994277954, 0.4982999861240387, 0.7728999853134155, 0.6244000196456909, 1.0055999755859375, 1.3559000492095947, -0.1581999957561493, 0.9375, 0.4165000021457672, 1.441100001335144, -0.05810000002384186, -0.9394000172615051, 2.5504000186920166, 2.512200117111206, 2.481300115585327, 2.4716999530792236, 2.436800003051758, 2.4326999187469482, 2.4314000606536865, 2.4137001037597656, 2.380500078201294, 2.3698999881744385, 2.3668999671936035, 2.337899923324585, 2.3266000747680664, 2.322700023651123, 2.3164000511169434, 2.3141000270843506, 2.3078999519348145, 2.2704999446868896, 2.2655999660491943, 2.264699935913086, 2.253000020980835, 2.2511000633239746, 2.2506000995635986, 2.2444000244140625, 2.2351999282836914, 2.226599931716919, 2.22379994392395, 2.21370005607605, 2.212399959564209, 2.205699920654297, 2.1986000537872314, 2.185499906539917, 2.0878000259399414, 2.114500045776367, 1.9194999933242798, 2.0160999298095703, 2.0680999755859375, 2.0915000438690186, 1.8971999883651733, 2.1019999980926514, 1.7304999828338623, 2.043800115585327, 1.3286000490188599, 0.9442999958992004, 1.7803000211715698, 1.842900037765503, 0.4925999939441681, 0.9496999979019165, 0.9365000128746033, 1.0999000072479248, -0.7350000143051147, 0.4828999936580658, 2.5729000568389893, 2.571700096130371, 2.5439000129699707, 2.5160000324249268, 2.4737000465393066, 2.4305999279022217, 2.427500009536743, 2.418100118637085, 2.409600019454956, 2.4066998958587646, 2.398400068283081, 2.3508999347686768, 2.342400074005127, 2.3406999111175537, 2.31850004196167, 2.3178999423980713, 2.3173000812530518, 2.3120999336242676, 2.2918999195098877, 2.285399913787842, 2.279599905014038, 2.2753000259399414, 2.275099992752075, 2.2737998962402344, 2.2692999839782715, 2.2690999507904053, 2.2653000354766846, 2.2630999088287354, 2.2146999835968018, 2.205399990081787, 2.148900032043457, 2.1238999366760254, 1.503000020980835, 1.5282000303268433, 1.9665000438690186, 1.6291999816894531, 1.3253999948501587, 1.955899953842163, 1.6576000452041626, 1.1151000261306763, 0.7924000024795532, 1.4293999671936035, 1.7008999586105347, -0.654699981212616, 0.4092000126838684, 0.6732000112533569, -1.1368000507354736], \"logprob\": [30.0, 29.0, 28.0, 27.0, 26.0, 25.0, 24.0, 23.0, 22.0, 21.0, 20.0, 19.0, 18.0, 17.0, 16.0, 15.0, 14.0, 13.0, 12.0, 11.0, 10.0, 9.0, 8.0, 7.0, 6.0, 5.0, 4.0, 3.0, 2.0, 1.0, -6.631100177764893, -6.3917999267578125, -6.470399856567383, -5.910600185394287, -6.921999931335449, -6.509900093078613, -6.247700214385986, -7.045899868011475, -7.115799903869629, -5.945000171661377, -6.687300205230713, -6.344900131225586, -6.401700019836426, -6.969900131225586, -7.01200008392334, -7.217400074005127, -7.037799835205078, -7.182199954986572, -6.975800037384033, -6.830399990081787, -6.8703999519348145, -7.215400218963623, -7.39900016784668, -7.646200180053711, -6.728899955749512, -7.5817999839782715, -7.501200199127197, -6.51140022277832, -6.847400188446045, -6.946300029754639, -6.1691999435424805, -6.235400199890137, -6.122099876403809, -6.251999855041504, -5.714000225067139, -5.583000183105469, -6.145400047302246, -6.404200077056885, -6.617300033569336, -5.845900058746338, -5.582200050354004, -5.7779998779296875, -5.850500106811523, -5.788599967956543, -5.739500045776367, -5.7347002029418945, -5.943600177764893, -6.405399799346924, -6.475599765777588, -6.147299766540527, -6.155799865722656, -5.881100177764893, -5.9054999351501465, -5.771900177001953, -6.164000034332275, -5.889599800109863, -5.94890022277832, -6.085299968719482, -6.104000091552734, -6.085400104522705, -6.185699939727783, -6.157899856567383, -6.145599842071533, -6.21560001373291, -5.332499980926514, -6.8471999168396, -7.113399982452393, -6.43310022354126, -7.243800163269043, -7.462800025939941, -6.678899765014648, -7.489299774169922, -7.487800121307373, -7.238800048828125, -7.5782999992370605, -7.57859992980957, -7.4928998947143555, -7.59250020980835, -7.609000205993652, -7.502299785614014, -7.611700057983398, -7.620699882507324, -7.63700008392334, -7.223899841308594, -7.6666998863220215, -7.5381999015808105, -7.668399810791016, -6.871099948883057, -7.504199981689453, -7.693399906158447, -7.693900108337402, -7.708700180053711, -7.72189998626709, -7.243599891662598, -6.504899978637695, -7.075799942016602, -7.019599914550781, -5.738699913024902, -5.915200233459473, -6.711299896240234, -7.0630998611450195, -6.299799919128418, -7.167099952697754, -7.414700031280518, -7.096700191497803, -6.966899871826172, -5.957200050354004, -6.648799896240234, -5.875800132751465, -6.248600006103516, -6.422100067138672, -6.7378997802734375, -6.463600158691406, -6.9166998863220215, -6.744699954986572, -6.012700080871582, -6.282199859619141, -6.683800220489502, -6.581999778747559, -6.712200164794922, -6.63040018081665, -6.453800201416016, -6.452300071716309, -6.331500053405762, -6.625999927520752, -6.543099880218506, -6.4309000968933105, -6.4644999504089355, -6.504499912261963, -6.498799800872803, -6.478300094604492, -6.45959997177124, -6.519800186157227, -6.5406999588012695, -6.590700149536133, -6.604599952697754, -6.618500232696533, -6.564599990844727, -6.8018999099731445, -7.073699951171875, -6.7795000076293945, -6.900000095367432, -7.032400131225586, -7.067800045013428, -7.012800216674805, -6.970300197601318, -7.457900047302246, -7.462800025939941, -7.464200019836426, -7.519999980926514, -7.414400100708008, -7.546500205993652, -7.311999797821045, -7.4893999099731445, -7.598899841308594, -7.600500106811523, -7.638999938964844, -7.645100116729736, -7.5854997634887695, -7.660399913787842, -6.848199844360352, -7.566199779510498, -7.437600135803223, -7.695799827575684, -7.618000030517578, -7.704800128936768, -7.730500221252441, -6.86959981918335, -6.702000141143799, -6.390399932861328, -6.902599811553955, -7.085299968719482, -6.6194000244140625, -7.041399955749512, -6.479700088500977, -6.457799911499023, -6.424499988555908, -7.170199871063232, -7.055699825286865, -7.020100116729736, -6.5295000076293945, -6.832600116729736, -6.110000133514404, -6.079999923706055, -6.107699871063232, -6.952000141143799, -6.354100227355957, -6.1381001472473145, -6.4405999183654785, -6.6620001792907715, -6.593500137329102, -6.745299816131592, -6.420499801635742, -6.588900089263916, -6.635900020599365, -6.568399906158447, -6.5767998695373535, -6.543300151824951, -6.511899948120117, -6.598499774932861, -6.57859992980957, -6.584099769592285, -6.640900135040283, -6.628600120544434, -6.692299842834473, -6.69950008392334, -6.69320011138916, -6.562600135803223, -6.675600051879883, -6.172800064086914, -6.778800010681152, -6.780600070953369, -6.932700157165527, -6.119699954986572, -7.347099781036377, -7.127200126647949, -7.378300189971924, -7.3902997970581055, -7.39739990234375, -7.047900199890137, -7.3592000007629395, -7.111599922180176, -7.44379997253418, -7.4664998054504395, -7.489299774169922, -7.488399982452393, -7.488399982452393, -7.5015997886657715, -7.506199836730957, -7.531799793243408, -7.171999931335449, -7.568900108337402, -7.572299957275391, -7.581699848175049, -7.442299842834473, -6.637599945068359, -7.622600078582764, -7.137599945068359, -7.1381001472473145, -7.061999797821045, -7.040800094604492, -6.838399887084961, -6.567399978637695, -6.929699897766113, -6.9766998291015625, -7.381700038909912, -7.122799873352051, -6.651100158691406, -6.516300201416016, -6.55620002746582, -6.664599895477295, -6.650199890136719, -6.8881001472473145, -6.319499969482422, -6.123600006103516, -6.57450008392334, -6.7179999351501465, -6.68149995803833, -6.616600036621094, -6.42140007019043, -6.508900165557861, -6.5467000007629395, -6.426499843597412, -6.563499927520752, -6.714300155639648, -6.712600231170654, -6.531400203704834, -6.560500144958496, -6.642600059509277, -6.663400173187256, -6.650899887084961, -6.6890997886657715, -6.703000068664551, -7.168700218200684, -7.187699794769287, -7.23829984664917, -7.272900104522705, -6.919300079345703, -7.334000110626221, -7.270400047302246, -7.3632001876831055, -7.36329984664917, -7.00540018081665, -6.7891998291015625, -7.4375, -6.98199987411499, -7.309299945831299, -7.0278000831604, -7.488999843597412, -7.488999843597412, -7.382500171661377, -7.510700225830078, -7.513899803161621, -7.535200119018555, -7.55810022354126, -7.566999912261963, -7.152299880981445, -7.576700210571289, -7.589600086212158, -7.170300006866455, -7.513400077819824, -7.424799919128418, -7.628699779510498, -7.063399791717529, -7.134300231933594, -7.197000026702881, -7.021599769592285, -6.678400039672852, -7.020699977874756, -6.774600028991699, -7.104499816894531, -7.011300086975098, -7.172800064086914, -7.229000091552734, -6.7322998046875, -6.527699947357178, -6.785799980163574, -6.395599842071533, -6.8846001625061035, -6.5858001708984375, -6.616499900817871, -6.610599994659424, -6.5690999031066895, -6.6992998123168945, -6.797299861907959, -6.588600158691406, -6.929699897766113, -7.014100074768066, -6.855000019073486, -7.046800136566162, -7.023600101470947, -6.8790998458862305, -6.970600128173828, -6.9903998374938965, -6.990699768066406, -6.986000061035156, -7.013199806213379, -7.013199806213379, -7.01639986038208, -6.867700099945068, -6.487400054931641, -7.131700038909912, -7.146299839019775, -7.164299964904785, -7.183700084686279, -6.985899925231934, -7.243800163269043, -7.013400077819824, -7.276000022888184, -7.302000045776367, -7.113500118255615, -7.337200164794922, -7.36899995803833, -7.314899921417236, -6.996300220489502, -7.396299839019775, -7.399199962615967, -7.403299808502197, -6.752500057220459, -7.451300144195557, -7.497799873352051, -7.148399829864502, -7.501100063323975, -7.3267998695373535, -7.509699821472168, -7.035099983215332, -7.382199764251709, -7.567500114440918, -7.56790018081665, -6.838799953460693, -7.2393999099731445, -6.7042999267578125, -6.688700199127197, -7.145199775695801, -6.782100200653076, -6.920499801635742, -7.173500061035156, -7.115099906921387, -6.962500095367432, -6.985199928283691, -6.673900127410889, -7.1265997886657715, -6.618299961090088, -6.9440999031066895, -6.729300022125244, -6.927999973297119, -6.6407999992370605, -6.934199810028076, -6.751800060272217, -6.686399936676025, -6.7342000007629395, -6.804299831390381, -7.018400192260742, -6.964399814605713, -7.002500057220459, -6.994699954986572, -7.00570011138916, -7.01170015335083, -6.918000221252441, -7.066699981689453, -7.0868000984191895, -7.146999835968018, -7.164899826049805, -7.165599822998047, -7.183899879455566, -7.195099830627441, -7.2144999504089355, -7.2241997718811035, -7.104300022125244, -6.890500068664551, -7.250899791717529, -7.25600004196167, -6.941800117492676, -7.278299808502197, -7.282199859619141, -7.313700199127197, -7.340799808502197, -6.948999881744385, -7.2484002113342285, -7.407700061798096, -7.317699909210205, -7.421899795532227, -7.448299884796143, -7.448800086975098, -7.231500148773193, -7.253300189971924, -7.479700088500977, -7.4816999435424805, -7.4145002365112305, -7.170400142669678, -6.884699821472168, -6.880799770355225, -7.070000171661377, -6.85830020904541, -6.969799995422363, -6.939199924468994, -6.673900127410889, -6.8805999755859375, -6.923600196838379, -7.027599811553955, -7.101399898529053, -7.020599842071533, -7.032400131225586, -6.796500205993652, -6.837900161743164, -6.804299831390381, -6.936299800872803, -7.004799842834473, -6.882900238037109, -6.922500133514404, -7.016200065612793, -7.083899974822998, -7.103000164031982, -6.6072998046875, -7.098100185394287, -7.112299919128418, -7.138299942016602, -7.179599761962891, -7.182499885559082, -7.232100009918213, -7.242000102996826, -7.268499851226807, -7.270999908447266, -7.2870001792907715, -7.312399864196777, -7.312399864196777, -7.273900032043457, -7.3582000732421875, -7.364799976348877, -7.367499828338623, -7.376299858093262, -7.377799987792969, -7.3831000328063965, -7.387199878692627, -7.388500213623047, -7.4191999435424805, -7.427599906921387, -7.036900043487549, -7.459000110626221, -7.478300094604492, -7.399899959564209, -7.2743000984191895, -7.508600234985352, -6.9816999435424805, -6.89109992980957, -6.7546000480651855, -6.97730016708374, -7.15369987487793, -7.0945000648498535, -6.965000152587891, -7.107699871063232, -7.10830020904541, -6.10230016708374, -6.893899917602539, -6.867099761962891, -7.2982001304626465, -6.811800003051758, -7.140600204467773, -6.898799896240234, -6.965700149536133, -6.945300102233887, -7.0706000328063965, -7.138800144195557, -6.982500076293945, -7.107500076293945, -7.119200229644775, -7.186399936676025, -7.156400203704834, -7.153299808502197, -6.941400051116943, -7.005799770355225, -7.056000232696533, -7.072199821472168, -7.128200054168701, -7.045100212097168, -7.136499881744385, -6.977099895477295, -7.21619987487793, -7.2322998046875, -6.976200103759766, -7.280900001525879, -7.297800064086914, -7.1753997802734375, -7.0605998039245605, -7.0131001472473145, -7.325500011444092, -7.263400077819824, -7.387400150299072, -7.388999938964844, -7.406000137329102, -7.408699989318848, -7.40939998626709, -7.418099880218506, -7.431300163269043, -7.336599826812744, -7.447700023651123, -7.462200164794922, -7.460899829864502, -7.473499774932861, -7.0046000480651855, -7.276599884033203, -6.750100135803223, -7.099699974060059, -6.708899974822998, -6.929200172424316, -7.068699836730957, -7.1645002365112305, -6.952199935913086, -7.222700119018555, -6.949699878692627, -7.205900192260742, -6.8871002197265625, -6.815499782562256, -7.144800186157227, -7.1697001457214355, -6.933300018310547, -7.030399799346924, -7.033299922943115, -7.058000087738037, -6.920100212097168, -7.072199821472168, -6.9293999671936035, -6.820799827575684, -6.978099822998047, -6.954400062561035, -7.091599941253662, -7.15910005569458, -7.163899898529053, -7.178100109100342, -7.191299915313721, -6.875400066375732, -7.208499908447266, -7.279699802398682, -7.292500019073486, -7.293300151824951, -6.9456000328063965, -7.328199863433838, -7.212800025939941, -7.3368000984191895, -7.366199970245361, -7.170499801635742, -7.383699893951416, -7.2378997802734375, -7.390200138092041, -7.044300079345703, -7.398600101470947, -7.008800029754639, -7.211999893188477, -7.407100200653076, -7.475800037384033, -7.488800048828125, -7.066199779510498, -7.260900020599365, -6.654900074005127, -6.742700099945068, -7.176700115203857, -6.992000102996826, -6.898900032043457, -7.202499866485596, -7.127799987792969, -6.974599838256836, -6.946300029754639, -7.115699768066406, -7.169600009918213, -6.868599891662598, -7.061299800872803, -7.1082000732421875, -7.198400020599365]}, \"token.table\": {\"Topic\": [1, 1, 1, 3, 1, 2, 3, 1, 2, 4, 1, 2, 2, 1, 3, 4, 5, 1, 1, 2, 4, 3, 1, 3, 1, 2, 1, 1, 2, 3, 1, 3, 1, 1, 4, 1, 3, 1, 3, 2, 4, 1, 1, 1, 1, 1, 1, 1, 1, 1, 1, 4, 1, 2, 3, 4, 1, 1, 1, 3, 1, 2, 1, 1, 1, 2, 1, 1, 1, 1, 2, 3, 1, 1, 2, 1, 2, 4, 1, 3, 1, 2, 1, 2, 1, 2, 1, 1, 1, 4, 1, 1, 1, 2, 4, 1, 1, 1, 1, 1, 1, 1, 1, 2, 1, 1, 2, 1, 4, 1, 1, 1, 2, 1, 3, 5, 1, 1, 2, 3, 4, 1, 2, 1, 3, 1, 2, 1, 1, 2, 3, 4, 1, 4, 2, 1, 2, 3, 3, 1, 4, 1, 2, 3, 4, 1, 4, 4, 1, 2, 3, 4, 5, 1, 4, 1, 2, 4, 3, 4, 1, 3, 1, 2, 3, 4, 1, 2, 3, 1, 3, 1, 2, 1, 4, 1, 1, 3, 1, 1, 1, 1, 1, 1, 2, 1, 2, 1, 4, 1, 1, 3, 1, 1, 1, 3, 1, 1, 1, 4, 1, 1, 2, 3, 1, 1, 3, 1, 2, 1, 2, 1, 2, 3, 1, 4, 1, 3, 1, 1, 1, 1, 1, 2, 1, 2, 4, 1, 1, 1, 1, 1, 1, 1, 1, 3, 1, 1, 1, 3, 1, 2, 3, 3, 1, 2, 3, 1, 4, 1, 2, 4, 1, 3, 1, 1, 1, 1, 1, 1, 3, 1, 1, 1, 2, 1, 1, 1, 1, 1, 2, 3, 4, 2, 1, 2, 3, 1, 2, 3, 1, 2, 2, 1, 3, 1, 1, 5, 3, 1, 1, 2, 1, 1, 1, 5, 8, 1, 1, 1, 3, 1, 2, 4, 1, 3, 1, 1, 2, 3, 4], \"Freq\": [0.47132477164268494, 0.7268738746643066, 0.8401039242744446, 0.08401039242744446, 0.8162003755569458, 0.06278464198112488, 0.06278464198112488, 0.860576331615448, 0.057371754199266434, 0.057371754199266434, 0.6722962856292725, 0.33614814281463623, 0.6244061589241028, 0.5619194507598877, 0.14047986268997192, 0.14047986268997192, 0.14047986268997192, 0.6903867721557617, 0.7843300700187683, 0.06536084413528442, 0.06536084413528442, 0.4386606812477112, 0.8583530187606812, 0.085835300385952, 0.44117915630340576, 0.22058957815170288, 0.801349937915802, 0.7912463545799255, 0.07912463694810867, 0.07912463694810867, 0.841286301612854, 0.9587250351905823, 0.7769455313682556, 0.5028997659683228, 1.0186638832092285, 0.3918379843235016, 0.3918379843235016, 0.8287066221237183, 0.09207851439714432, 0.7563058137893677, 0.25210192799568176, 0.8703360557556152, 0.8758386969566345, 0.9031299352645874, 0.8251305818557739, 0.8450051546096802, 0.7680182456970215, 0.8009165525436401, 0.9293956756591797, 0.9302369952201843, 0.5773690342903137, 0.28868451714515686, 0.8092463612556458, 0.053949758410453796, 0.053949758410453796, 0.053949758410453796, 0.8249218463897705, 0.8293177485466003, 0.8607252240180969, 0.21518130600452423, 0.3596315085887909, 0.3596315085887909, 1.0054938793182373, 0.8142467141151428, 0.782987654209137, 0.09787345677614212, 0.7015495896339417, 1.0125254392623901, 0.5534104108810425, 0.7574504613876343, 0.2524834871292114, 0.9137489199638367, 0.8485919833183289, 0.6149123311042786, 0.20497077703475952, 0.8052412867546082, 0.06710343807935715, 0.06710343807935715, 0.706348717212677, 0.23544958233833313, 0.7777189612388611, 0.09721487015485764, 0.7512803673744202, 0.18782009184360504, 0.5906526446342468, 0.19688421487808228, 0.8704764246940613, 0.8748915195465088, 0.8968870043754578, 0.4687706232070923, 0.7308354377746582, 0.7344006896018982, 0.8134313225746155, 0.054228756576776505, 0.054228756576776505, 0.7266525030136108, 0.8024647831916809, 0.8619874715805054, 0.8355926871299744, 0.8821605443954468, 0.8572142720222473, 0.8621180057525635, 0.8085402846336365, 0.10106753557920456, 0.8897927403450012, 0.7776880860328674, 0.0864097848534584, 0.7774898409843445, 0.2591632902622223, 0.5347601175308228, 0.8531468510627747, 0.6602340340614319, 0.7580357789993286, 0.7929670810699463, 0.06099746748805046, 0.06099746748805046, 0.7573639750480652, 0.8246732950210571, 0.0749702975153923, 0.0749702975153923, 0.0749702975153923, 0.8835077285766602, 0.05521923303604126, 0.7276714444160461, 0.12127857655286789, 0.7920438051223755, 0.1584087610244751, 0.8798947930335999, 0.8618314862251282, 0.047879528254270554, 0.047879528254270554, 0.047879528254270554, 0.8311293721199036, 0.9163743257522583, 0.5432893633842468, 0.6556415557861328, 0.1639103889465332, 0.1639103889465332, 0.6139762997627258, 0.8506575226783752, 0.17013150453567505, 0.8547999262809753, 0.05698665976524353, 0.05698665976524353, 0.05698665976524353, 0.48192787170410156, 0.48192787170410156, 0.6034368276596069, 0.8358263969421387, 0.04643480107188225, 0.04643480107188225, 0.04643480107188225, 0.04643480107188225, 0.6193596124649048, 0.20645320415496826, 0.7949885725975037, 0.08833206444978714, 0.08833206444978714, 1.0740684270858765, 1.0204341411590576, 0.7857313752174377, 0.15714627504348755, 0.8087117075920105, 0.053914111107587814, 0.053914111107587814, 0.053914111107587814, 0.8533532023429871, 0.07757756859064102, 0.07757756859064102, 0.4784609079360962, 0.4784609079360962, 0.7902356386184692, 0.1975589096546173, 0.8080966472625732, 0.089788518846035, 0.8228663802146912, 0.49297741055488586, 0.49297741055488586, 0.6990780830383301, 0.8797327280044556, 0.8777596950531006, 0.8717109560966492, 0.5098599791526794, 0.5223966836929321, 0.26119834184646606, 0.8242356181144714, 0.08242356032133102, 0.8314086198806763, 0.6655040979385376, 0.4911051392555237, 0.847788393497467, 0.08477884531021118, 0.9854050278663635, 0.8577677011489868, 0.8439143896102905, 0.7190380692481995, 0.8015226721763611, 0.2884409427642822, 0.6961069703102112, 0.23203566670417786, 0.7629398107528687, 0.8594799637794495, 0.061391428112983704, 0.061391428112983704, 0.614319384098053, 0.4801100194454193, 0.24005500972270966, 0.6923919320106506, 0.3461959660053253, 0.49252864718437195, 0.49252864718437195, 0.8670508861541748, 0.08670508861541748, 0.08670508861541748, 0.7601696848869324, 0.1520339399576187, 0.7136658430099487, 0.11894430220127106, 0.7110226154327393, 0.8084652423858643, 0.9105913043022156, 0.9190919995307922, 0.7894983887672424, 0.11278548091650009, 0.8371103405952454, 0.07610093802213669, 0.07610093802213669, 0.5773087739944458, 0.7243502736091614, 0.8829160332679749, 0.6643142104148865, 0.9599986672401428, 0.7927290797233582, 0.9107877016067505, 0.6030693054199219, 0.30153465270996094, 0.6307097673416138, 0.8410127758979797, 0.6170369386672974, 0.3085184693336487, 0.7389469742774963, 0.12315782904624939, 0.12315782904624939, 1.09544837474823, 0.6894893050193787, 0.11491487920284271, 0.11491487920284271, 0.6306741833686829, 0.31533709168434143, 0.30705028772354126, 0.30705028772354126, 0.30705028772354126, 0.46477198600769043, 0.7333171963691711, 0.84453284740448, 0.5892251133918762, 0.8267636895179749, 0.4616369903087616, 0.8678921461105347, 0.35911130905151367, 0.35911130905151367, 0.8210107088088989, 0.8351072669029236, 0.8394997715950012, 0.083949975669384, 0.40975797176361084, 0.7431394457817078, 0.41331005096435547, 0.6815783381462097, 0.8012469410896301, 0.061634380370378494, 0.061634380370378494, 0.061634380370378494, 0.702659547328949, 0.5779637694358826, 0.11559275537729263, 0.11559275537729263, 0.7752124667167664, 0.08613471686840057, 0.08613471686840057, 0.6584433913230896, 0.21948112547397614, 0.4993017017841339, 0.8584383130073547, 0.061317022889852524, 0.960055410861969, 0.7953712940216064, 0.15907426178455353, 0.7553408145904541, 0.9074180126190186, 0.7195753455162048, 1.0569963455200195, 0.7384656667709351, 0.7519570589065552, 0.7221224904060364, 0.09026531130075455, 0.09026531130075455, 0.7097781300544739, 0.907541036605835, 0.8643606901168823, 0.07203005999326706, 0.5497090220451355, 0.36647269129753113, 0.18323634564876556, 0.7474756240844727, 0.14949512481689453, 0.7563120722770691, 0.6247373819351196, 0.10412289947271347, 0.10412289947271347, 0.10412289947271347], \"Term\": [\"abstract\", \"abstraction\", \"action\", \"action\", \"agent\", \"agent\", \"agent\", \"algorithm\", \"algorithm\", \"algorithm\", \"alignment\", \"alignment\", \"anomaly\", \"answer\", \"answer\", \"answer\", \"answer\", \"application\", \"approach\", \"approach\", \"approach\", \"attack\", \"attention\", \"attention\", \"attribute\", \"attribute\", \"aware\", \"base\", \"base\", \"base\", \"belief\", \"biomedical\", \"brain\", \"branch\", \"buyer\", \"causal\", \"causal\", \"class\", \"class\", \"cluster\", \"cluster\", \"cognitive\", \"commerce\", \"communication\", \"constraint\", \"content\", \"continuous\", \"convergence\", \"convex\", \"correlation\", \"count\", \"count\", \"data\", \"data\", \"data\", \"data\", \"decision\", \"deep\", \"description\", \"description\", \"detect\", \"detect\", \"detector\", \"diagnosis\", \"different\", \"different\", \"discourse\", \"discrete\", \"discriminator\", \"distance\", \"distance\", \"distortion\", \"distribution\", \"document\", \"document\", \"domain\", \"domain\", \"domain\", \"effect\", \"effect\", \"embed\", \"embed\", \"embeddings\", \"embeddings\", \"entity\", \"entity\", \"environment\", \"estimate\", \"estimation\", \"event\", \"explanation\", \"fairness\", \"feature\", \"feature\", \"feature\", \"forecast\", \"formalism\", \"frame\", \"framework\", \"function\", \"game\", \"generalize\", \"generate\", \"generate\", \"gradient\", \"graph\", \"graph\", \"hash\", \"hash\", \"heuristic\", \"higher\", \"human\", \"identity\", \"image\", \"image\", \"image\", \"inference\", \"information\", \"information\", \"information\", \"information\", \"label\", \"label\", \"language\", \"language\", \"latent\", \"latent\", \"layer\", \"learn\", \"learn\", \"learn\", \"learn\", \"machine\", \"mapf\", \"margin\", \"matrix\", \"matrix\", \"matrix\", \"medical\", \"memory\", \"memory\", \"method\", \"method\", \"method\", \"method\", \"modal\", \"modal\", \"modality\", \"model\", \"model\", \"model\", \"model\", \"model\", \"module\", \"module\", \"multi\", \"multi\", \"multi\", \"multilingual\", \"multimodal\", \"natural\", \"natural\", \"network\", \"network\", \"network\", \"network\", \"neural\", \"neural\", \"neural\", \"news\", \"news\", \"nod\", \"nod\", \"object\", \"object\", \"online\", \"ontology\", \"ontology\", \"operator\", \"optimization\", \"order\", \"parameter\", \"parse\", \"pattern\", \"pattern\", \"performance\", \"performance\", \"permutation\", \"perturbation\", \"pixel\", \"plan\", \"plan\", \"planner\", \"policy\", \"pose\", \"post\", \"posterior\", \"preference\", \"probabilistic\", \"probabilistic\", \"probability\", \"problem\", \"problem\", \"problem\", \"profile\", \"program\", \"program\", \"projection\", \"projection\", \"propagation\", \"propagation\", \"propose\", \"propose\", \"propose\", \"query\", \"query\", \"question\", \"question\", \"read\", \"recommender\", \"regret\", \"reinforcement\", \"relation\", \"relation\", \"representation\", \"representation\", \"representation\", \"resolution\", \"resource\", \"reward\", \"right\", \"risk\", \"rule\", \"sample\", \"scene\", \"scene\", \"schedule\", \"search\", \"segmentation\", \"segmentation\", \"semantic\", \"semantic\", \"semantic\", \"semidefinite\", \"sentence\", \"sentence\", \"sentence\", \"sentiment\", \"sentiment\", \"shape\", \"shape\", \"shape\", \"shift\", \"skill\", \"solution\", \"solver\", \"source\", \"speech\", \"stochastic\", \"story\", \"story\", \"strategy\", \"stream\", \"structure\", \"structure\", \"student\", \"style\", \"syntactic\", \"system\", \"task\", \"task\", \"task\", \"task\", \"teacher\", \"text\", \"text\", \"text\", \"time\", \"time\", \"time\", \"topic\", \"topic\", \"traffic\", \"train\", \"train\", \"transition\", \"translation\", \"translation\", \"treatment\", \"tree\", \"triple\", \"triplet\", \"tune\", \"type\", \"user\", \"user\", \"user\", \"valuation\", \"value\", \"video\", \"video\", \"view\", \"view\", \"view\", \"visual\", \"visual\", \"welfare\", \"word\", \"word\", \"word\", \"word\"]}, \"R\": 30, \"lambda.step\": 0.01, \"plot.opts\": {\"xlab\": \"PC1\", \"ylab\": \"PC2\"}, \"topic.order\": [4, 5, 6, 1, 8, 7, 9, 3, 10, 2]};\n",
       "\n",
       "function LDAvis_load_lib(url, callback){\n",
       "  var s = document.createElement('script');\n",
       "  s.src = url;\n",
       "  s.async = true;\n",
       "  s.onreadystatechange = s.onload = callback;\n",
       "  s.onerror = function(){console.warn(\"failed to load library \" + url);};\n",
       "  document.getElementsByTagName(\"head\")[0].appendChild(s);\n",
       "}\n",
       "\n",
       "if(typeof(LDAvis) !== \"undefined\"){\n",
       "   // already loaded: just create the visualization\n",
       "   !function(LDAvis){\n",
       "       new LDAvis(\"#\" + \"ldavis_el1606745906115766072936187\", ldavis_el1606745906115766072936187_data);\n",
       "   }(LDAvis);\n",
       "}else if(typeof define === \"function\" && define.amd){\n",
       "   // require.js is available: use it to load d3/LDAvis\n",
       "   require.config({paths: {d3: \"https://cdnjs.cloudflare.com/ajax/libs/d3/3.5.5/d3.min\"}});\n",
       "   require([\"d3\"], function(d3){\n",
       "      window.d3 = d3;\n",
       "      LDAvis_load_lib(\"https://cdn.rawgit.com/bmabey/pyLDAvis/files/ldavis.v1.0.0.js\", function(){\n",
       "        new LDAvis(\"#\" + \"ldavis_el1606745906115766072936187\", ldavis_el1606745906115766072936187_data);\n",
       "      });\n",
       "    });\n",
       "}else{\n",
       "    // require.js not available: dynamically load d3 & LDAvis\n",
       "    LDAvis_load_lib(\"https://cdnjs.cloudflare.com/ajax/libs/d3/3.5.5/d3.min.js\", function(){\n",
       "         LDAvis_load_lib(\"https://cdn.rawgit.com/bmabey/pyLDAvis/files/ldavis.v1.0.0.js\", function(){\n",
       "                 new LDAvis(\"#\" + \"ldavis_el1606745906115766072936187\", ldavis_el1606745906115766072936187_data);\n",
       "            })\n",
       "         });\n",
       "}\n",
       "</script>"
      ],
      "text/plain": [
       "<IPython.core.display.HTML object>"
      ]
     },
     "execution_count": 71,
     "metadata": {},
     "output_type": "execute_result"
    }
   ],
   "source": [
    "vis_data = pyLDAvis.gensim.prepare(lda_model, corpus_tfidf, dictionary)\n",
    "# 在 notebook 中显示可视化结果，需要调用 display 方法，或者执行 “pyLDAvis.enable_notebook()” ，即可在 notebook 中自动展示可视化结果，无需再调用 display\n",
    "pyLDAvis.display(vis_data)"
   ]
  },
  {
   "cell_type": "markdown",
   "metadata": {},
   "source": [
    "### 觀察結果\n",
    "- train的passes不要太多(沒有全部收斂)，反而圈圈重疊的狀況較少"
   ]
  },
  {
   "cell_type": "code",
   "execution_count": null,
   "metadata": {},
   "outputs": [],
   "source": []
  }
 ],
 "metadata": {
  "kernelspec": {
   "display_name": "Python 3",
   "language": "python",
   "name": "python3"
  },
  "language_info": {
   "codemirror_mode": {
    "name": "ipython",
    "version": 3
   },
   "file_extension": ".py",
   "mimetype": "text/x-python",
   "name": "python",
   "nbconvert_exporter": "python",
   "pygments_lexer": "ipython3",
   "version": "3.7.1"
  }
 },
 "nbformat": 4,
 "nbformat_minor": 2
}
