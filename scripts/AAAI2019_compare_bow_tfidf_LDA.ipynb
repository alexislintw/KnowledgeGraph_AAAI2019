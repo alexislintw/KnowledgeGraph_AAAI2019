{
 "cells": [
  {
   "cell_type": "markdown",
   "metadata": {},
   "source": [
    "# 比較 bow 和 tf-idf 的 LDA topics\n",
    "\n",
    "### 參考資料\n",
    "- https://intelligentonlinetools.com/blog/2017/01/22/data-visualization-visualizing-an-lda-model-using-python/"
   ]
  },
  {
   "cell_type": "code",
   "execution_count": 1,
   "metadata": {},
   "outputs": [],
   "source": [
    "import os\n",
    "import numpy as np\n",
    "import pandas as pd\n",
    "from collections import Counter\n",
    "from enum import Enum\n",
    "from pprint import pprint\n",
    "import matplotlib.pyplot as plt\n",
    "\n",
    "import nltk\n",
    "from nltk.stem import WordNetLemmatizer\n",
    "wordnet_lemmatizer = WordNetLemmatizer()\n",
    "\n",
    "import gensim\n",
    "from gensim.utils import simple_preprocess\n",
    "from gensim.parsing.preprocessing import STOPWORDS\n",
    "from gensim import corpora, models"
   ]
  },
  {
   "cell_type": "markdown",
   "metadata": {},
   "source": [
    "## 自定義 data types and functions"
   ]
  },
  {
   "cell_type": "code",
   "execution_count": 2,
   "metadata": {},
   "outputs": [],
   "source": [
    "class ContentType(Enum):\n",
    "    TIT = 'title'\n",
    "    ABS = 'abstract'\n",
    "    AUT = 'author'\n",
    "    SEC = 'section'\n",
    "    \n",
    "def get_contents(content_type):\n",
    "    all_contents = []\n",
    "    dataset_path = '../dataset'\n",
    "    for file in os.listdir(dataset_path):\n",
    "        file_path = os.path.join(dataset_path, file)\n",
    "        if os.path.isfile(file_path):\n",
    "            with open(file_path) as f:  \n",
    "                line = f.readlines()\n",
    "                if content_type == ContentType.AUT:\n",
    "                    line = line[1]\n",
    "                elif content_type == ContentType.SEC:\n",
    "                    line = line[2]\n",
    "                elif content_type == ContentType.ABS:\n",
    "                    line = line[3]\n",
    "                else:\n",
    "                    line = line[0]\n",
    "                line = line.strip()\n",
    "                all_contents.append(line)\n",
    "        else:\n",
    "            print(file_path + ' does not exist.')\n",
    "    return all_contents\n",
    "\n",
    "\n",
    "def get_all_titles():\n",
    "    return get_contents(ContentType.TIT)\n",
    "\n",
    "def get_all_authors():        \n",
    "    return get_contents(ContentType.AUT)\n",
    "\n",
    "def get_all_sections():\n",
    "    return get_contents(ContentType.SEC)\n",
    "\n",
    "def get_all_abstracts():\n",
    "    return get_contents(ContentType.ABS)\n",
    "\n",
    "def preprocess(text):\n",
    "    result = []\n",
    "    for token in gensim.utils.simple_preprocess(text):\n",
    "        if token not in gensim.parsing.preprocessing.STOPWORDS and len(token) > 3:\n",
    "            token = wordnet_lemmatizer.lemmatize(token, pos='v')\n",
    "            token = wordnet_lemmatizer.lemmatize(token, pos='n')\n",
    "            result.append(token)\n",
    "    return result\n",
    "\n",
    "def get_chart_data(num_topics,num_words,topics):\n",
    "    K = num_topics\n",
    "    topicWordProbMat = topics\n",
    "    \n",
    "    #columns = ['1','2','3','4','5']\n",
    "    columns = range(1,num_topics+1)\n",
    "\n",
    "    df = pd.DataFrame(columns = columns)\n",
    "    pd.set_option('display.width', 1000)\n",
    "\n",
    "    # 40 will be resized later to match number of words in DC\n",
    "    zz = np.zeros(shape=(80,K))\n",
    "\n",
    "    last_number = 0\n",
    "    DC = {}\n",
    "\n",
    "    for x in range (num_words): #取每個topic前10個字\n",
    "        data= pd.DataFrame(columns=columns,index=[0])\n",
    "        for i in range(num_topics):\n",
    "            data[columns[i]] = \"\"\n",
    "        df = df.append(data,ignore_index=True)  \n",
    "\n",
    "    for line in topicWordProbMat:\n",
    "        topic_id,words = line #一個line是一個topic\n",
    "        probs = words.split(\"+\")\n",
    "        y = 0 #用來算第幾個word\n",
    "        for pr in probs:    \n",
    "            a = pr.split(\"*\")\n",
    "            df.iloc[y,topic_id] = a[1] #該word\n",
    "\n",
    "            if a[1] in DC:\n",
    "                zz[DC[a[1]]][topic_id] = a[0] #該word的機率\n",
    "            else:\n",
    "                zz[last_number][topic_id] = a[0]\n",
    "                DC[a[1]] = last_number\n",
    "                last_number = last_number+1\n",
    "            y = y + 1\n",
    "\n",
    "    return (df,DC,zz)\n",
    "\n",
    "def show_words_table(df):  \n",
    "    print(df)\n",
    "    print('\\n')\n",
    "    \n",
    "def show_dictionary(DC):\n",
    "    print(DC)\n",
    "    print('字典字數：',len(DC))\n",
    "    print('\\n')\n",
    "\n",
    "def show_probs_table(zz):\n",
    "    print(zz)\n",
    "    print(zz.shape)\n",
    "    \n",
    "def show_heapmap(DC,zz):\n",
    "    %matplotlib inline\n",
    "\n",
    "    zz = np.resize(zz,(len(DC.keys()),zz.shape[1]))\n",
    "\n",
    "    for val, key in enumerate(DC.keys()):\n",
    "            plt.text(-3.5, val + 0.1, key,\n",
    "                     horizontalalignment='right',\n",
    "                     verticalalignment='center'\n",
    "                     )\n",
    "\n",
    "    #plt.figure(figsize=(10,50))\n",
    "    plt.imshow(zz, cmap='hot', interpolation='nearest',aspect=0.5)#'auto'\n",
    "    plt.show()"
   ]
  },
  {
   "cell_type": "markdown",
   "metadata": {},
   "source": [
    "### 取出所有摘要"
   ]
  },
  {
   "cell_type": "code",
   "execution_count": 3,
   "metadata": {},
   "outputs": [
    {
     "name": "stdout",
     "output_type": "stream",
     "text": [
      "共 1343 篇論文\n",
      "\n"
     ]
    },
    {
     "data": {
      "text/html": [
       "<div>\n",
       "<style scoped>\n",
       "    .dataframe tbody tr th:only-of-type {\n",
       "        vertical-align: middle;\n",
       "    }\n",
       "\n",
       "    .dataframe tbody tr th {\n",
       "        vertical-align: top;\n",
       "    }\n",
       "\n",
       "    .dataframe thead th {\n",
       "        text-align: right;\n",
       "    }\n",
       "</style>\n",
       "<table border=\"1\" class=\"dataframe\">\n",
       "  <thead>\n",
       "    <tr style=\"text-align: right;\">\n",
       "      <th></th>\n",
       "      <th>abstract</th>\n",
       "      <th>index</th>\n",
       "    </tr>\n",
       "  </thead>\n",
       "  <tbody>\n",
       "    <tr>\n",
       "      <th>0</th>\n",
       "      <td>We consider the problem of actively eliciting ...</td>\n",
       "      <td>0</td>\n",
       "    </tr>\n",
       "    <tr>\n",
       "      <th>1</th>\n",
       "      <td>We investigate the task of distractor generati...</td>\n",
       "      <td>1</td>\n",
       "    </tr>\n",
       "    <tr>\n",
       "      <th>2</th>\n",
       "      <td>The most common representation formalisms for ...</td>\n",
       "      <td>2</td>\n",
       "    </tr>\n",
       "    <tr>\n",
       "      <th>3</th>\n",
       "      <td>Statistical relational learning models are pow...</td>\n",
       "      <td>3</td>\n",
       "    </tr>\n",
       "    <tr>\n",
       "      <th>4</th>\n",
       "      <td>Multimodal representation learning is gaining ...</td>\n",
       "      <td>4</td>\n",
       "    </tr>\n",
       "    <tr>\n",
       "      <th>5</th>\n",
       "      <td>Reinforcement learning (RL) has shown its adva...</td>\n",
       "      <td>5</td>\n",
       "    </tr>\n",
       "    <tr>\n",
       "      <th>6</th>\n",
       "      <td>Selecting appropriate tutoring help actions th...</td>\n",
       "      <td>6</td>\n",
       "    </tr>\n",
       "    <tr>\n",
       "      <th>7</th>\n",
       "      <td>Recognizing time expressions is a fundamental ...</td>\n",
       "      <td>7</td>\n",
       "    </tr>\n",
       "    <tr>\n",
       "      <th>8</th>\n",
       "      <td>When facing large-scale image datasets, online...</td>\n",
       "      <td>8</td>\n",
       "    </tr>\n",
       "    <tr>\n",
       "      <th>9</th>\n",
       "      <td>Temporal modeling in videos is a fundamental y...</td>\n",
       "      <td>9</td>\n",
       "    </tr>\n",
       "  </tbody>\n",
       "</table>\n",
       "</div>"
      ],
      "text/plain": [
       "                                            abstract  index\n",
       "0  We consider the problem of actively eliciting ...      0\n",
       "1  We investigate the task of distractor generati...      1\n",
       "2  The most common representation formalisms for ...      2\n",
       "3  Statistical relational learning models are pow...      3\n",
       "4  Multimodal representation learning is gaining ...      4\n",
       "5  Reinforcement learning (RL) has shown its adva...      5\n",
       "6  Selecting appropriate tutoring help actions th...      6\n",
       "7  Recognizing time expressions is a fundamental ...      7\n",
       "8  When facing large-scale image datasets, online...      8\n",
       "9  Temporal modeling in videos is a fundamental y...      9"
      ]
     },
     "execution_count": 3,
     "metadata": {},
     "output_type": "execute_result"
    }
   ],
   "source": [
    "contents = get_all_abstracts()\n",
    "print('共',len(contents),'篇論文\\n')\n",
    "\n",
    "documents = pd.DataFrame(data=contents,columns=['abstract'])\n",
    "documents['index'] = documents.index\n",
    "documents[:10]"
   ]
  },
  {
   "cell_type": "markdown",
   "metadata": {},
   "source": [
    "### 預處理的全部論文摘要"
   ]
  },
  {
   "cell_type": "code",
   "execution_count": 4,
   "metadata": {},
   "outputs": [
    {
     "data": {
      "text/plain": [
       "0    [consider, problem, actively, elicit, preferen...\n",
       "1    [investigate, task, distractor, generation, mu...\n",
       "2    [common, representation, formalism, plan, desc...\n",
       "3    [statistical, relational, learn, model, powerf...\n",
       "4    [multimodal, representation, learn, gain, deep...\n",
       "5    [reinforcement, learn, show, advantage, image,...\n",
       "6    [select, appropriate, tutor, help, action, acc...\n",
       "7    [recognize, time, expression, fundamental, imp...\n",
       "8    [face, large, scale, image, datasets, online, ...\n",
       "9    [temporal, model, video, fundamental, challeng...\n",
       "Name: abstract, dtype: object"
      ]
     },
     "execution_count": 4,
     "metadata": {},
     "output_type": "execute_result"
    }
   ],
   "source": [
    "processed_docs = documents['abstract'].map(preprocess)\n",
    "processed_docs[:10]"
   ]
  },
  {
   "cell_type": "markdown",
   "metadata": {},
   "source": [
    "## Dataset\n",
    "\n",
    "### 產生字典"
   ]
  },
  {
   "cell_type": "code",
   "execution_count": 5,
   "metadata": {},
   "outputs": [
    {
     "name": "stdout",
     "output_type": "stream",
     "text": [
      "共 6927 個字\n",
      "\n"
     ]
    }
   ],
   "source": [
    "dictionary = gensim.corpora.Dictionary(processed_docs)\n",
    "print('共',len(dictionary),'個字\\n')"
   ]
  },
  {
   "cell_type": "markdown",
   "metadata": {},
   "source": [
    "### 濾掉字典 (出現於少於10篇的字，或是，出現超過0.5篇的字)"
   ]
  },
  {
   "cell_type": "code",
   "execution_count": 6,
   "metadata": {},
   "outputs": [],
   "source": [
    "#dictionary.filter_extremes(no_below=10, no_above=0.4, keep_n=100000)\n",
    "#print('共',len(dictionary),'個字\\n')"
   ]
  },
  {
   "cell_type": "markdown",
   "metadata": {},
   "source": [
    "### 產生 bag of words corpus"
   ]
  },
  {
   "cell_type": "code",
   "execution_count": 7,
   "metadata": {},
   "outputs": [
    {
     "name": "stdout",
     "output_type": "stream",
     "text": [
      "共 1343 筆\n"
     ]
    }
   ],
   "source": [
    "bow_corpus = [dictionary.doc2bow(doc) for doc in processed_docs]\n",
    "\n",
    "print('共',len(bow_corpus),'筆')"
   ]
  },
  {
   "cell_type": "markdown",
   "metadata": {},
   "source": [
    "### 產生 TF-IDF Corpus"
   ]
  },
  {
   "cell_type": "code",
   "execution_count": 8,
   "metadata": {},
   "outputs": [
    {
     "name": "stdout",
     "output_type": "stream",
     "text": [
      "共 1343 筆\n"
     ]
    }
   ],
   "source": [
    "tfidf = models.TfidfModel(bow_corpus)\n",
    "corpus_tfidf = tfidf[bow_corpus]\n",
    "\n",
    "print('共',len(corpus_tfidf),'筆')"
   ]
  },
  {
   "cell_type": "markdown",
   "metadata": {},
   "source": [
    "## Train LDA models"
   ]
  },
  {
   "cell_type": "code",
   "execution_count": 23,
   "metadata": {},
   "outputs": [],
   "source": [
    "num_topics = 7\n",
    "num_words = 10"
   ]
  },
  {
   "cell_type": "markdown",
   "metadata": {},
   "source": [
    "### Running LDA using Bag of Words"
   ]
  },
  {
   "cell_type": "code",
   "execution_count": 24,
   "metadata": {},
   "outputs": [],
   "source": [
    "lda_model = gensim.models.LdaMulticore(bow_corpus, \n",
    "                                       num_topics=num_topics, \n",
    "                                       id2word=dictionary, \n",
    "                                       passes=20,\n",
    "                                       workers=2)"
   ]
  },
  {
   "cell_type": "code",
   "execution_count": 25,
   "metadata": {},
   "outputs": [
    {
     "name": "stdout",
     "output_type": "stream",
     "text": [
      "Topic: 0\n",
      "Words: 0.015*\"model\" + 0.014*\"learn\" + 0.011*\"approach\" + 0.011*\"problem\" + 0.010*\"algorithm\" + 0.010*\"plan\" + 0.009*\"base\" + 0.007*\"propose\" + 0.006*\"agent\" + 0.006*\"time\"\n",
      "\n",
      "Topic: 1\n",
      "Words: 0.019*\"method\" + 0.017*\"data\" + 0.016*\"propose\" + 0.010*\"learn\" + 0.008*\"network\" + 0.008*\"matrix\" + 0.007*\"time\" + 0.007*\"sample\" + 0.007*\"model\" + 0.007*\"feature\"\n",
      "\n",
      "Topic: 2\n",
      "Words: 0.015*\"algorithm\" + 0.014*\"problem\" + 0.012*\"cluster\" + 0.011*\"view\" + 0.009*\"method\" + 0.009*\"function\" + 0.008*\"propose\" + 0.008*\"approach\" + 0.007*\"base\" + 0.006*\"result\"\n",
      "\n",
      "Topic: 3\n",
      "Words: 0.024*\"model\" + 0.016*\"propose\" + 0.014*\"network\" + 0.012*\"learn\" + 0.012*\"method\" + 0.011*\"image\" + 0.009*\"feature\" + 0.008*\"train\" + 0.008*\"task\" + 0.008*\"base\"\n",
      "\n",
      "Topic: 4\n",
      "Words: 0.021*\"learn\" + 0.010*\"propose\" + 0.010*\"method\" + 0.010*\"model\" + 0.007*\"detection\" + 0.007*\"result\" + 0.007*\"base\" + 0.007*\"agent\" + 0.007*\"state\" + 0.007*\"action\"\n",
      "\n",
      "Topic: 5\n",
      "Words: 0.020*\"learn\" + 0.017*\"model\" + 0.014*\"label\" + 0.013*\"domain\" + 0.012*\"data\" + 0.011*\"task\" + 0.011*\"problem\" + 0.010*\"train\" + 0.010*\"propose\" + 0.009*\"method\"\n",
      "\n",
      "Topic: 6\n",
      "Words: 0.028*\"network\" + 0.012*\"user\" + 0.009*\"model\" + 0.009*\"social\" + 0.009*\"propose\" + 0.009*\"item\" + 0.007*\"graph\" + 0.007*\"neural\" + 0.006*\"structure\" + 0.006*\"agent\"\n",
      "\n"
     ]
    }
   ],
   "source": [
    "for idx, topic in lda_model.print_topics(): #num_topics=3, num_words=3\n",
    "    print('Topic: {}\\nWords: {}\\n'.format(idx, topic))"
   ]
  },
  {
   "cell_type": "code",
   "execution_count": 26,
   "metadata": {},
   "outputs": [
    {
     "name": "stdout",
     "output_type": "stream",
     "text": [
      "              1           2             3           4             5           6             7\n",
      "0      \"model\"    \"method\"   \"algorithm\"     \"model\"       \"learn\"     \"learn\"     \"network\" \n",
      "1      \"learn\"      \"data\"     \"problem\"   \"propose\"     \"propose\"     \"model\"        \"user\" \n",
      "2   \"approach\"   \"propose\"     \"cluster\"   \"network\"      \"method\"     \"label\"       \"model\" \n",
      "3    \"problem\"     \"learn\"        \"view\"     \"learn\"       \"model\"    \"domain\"      \"social\" \n",
      "4  \"algorithm\"   \"network\"      \"method\"    \"method\"   \"detection\"      \"data\"     \"propose\" \n",
      "5       \"plan\"    \"matrix\"    \"function\"     \"image\"      \"result\"      \"task\"        \"item\" \n",
      "6       \"base\"      \"time\"     \"propose\"   \"feature\"        \"base\"   \"problem\"       \"graph\" \n",
      "7    \"propose\"    \"sample\"    \"approach\"     \"train\"       \"agent\"     \"train\"      \"neural\" \n",
      "8      \"agent\"     \"model\"        \"base\"      \"task\"       \"state\"   \"propose\"   \"structure\" \n",
      "9        \"time\"   \"feature\"      \"result\"      \"base\"      \"action\"    \"method\"       \"agent\"\n",
      "\n",
      "\n",
      "{'\"model\" ': 0, '\"learn\" ': 1, '\"approach\" ': 2, '\"problem\" ': 3, '\"algorithm\" ': 4, '\"plan\" ': 5, '\"base\" ': 6, '\"propose\" ': 7, '\"agent\" ': 8, '\"time\"': 9, '\"method\" ': 10, '\"data\" ': 11, '\"network\" ': 12, '\"matrix\" ': 13, '\"time\" ': 14, '\"sample\" ': 15, '\"feature\"': 16, '\"cluster\" ': 17, '\"view\" ': 18, '\"function\" ': 19, '\"result\"': 20, '\"image\" ': 21, '\"feature\" ': 22, '\"train\" ': 23, '\"task\" ': 24, '\"base\"': 25, '\"detection\" ': 26, '\"result\" ': 27, '\"state\" ': 28, '\"action\"': 29, '\"label\" ': 30, '\"domain\" ': 31, '\"method\"': 32, '\"user\" ': 33, '\"social\" ': 34, '\"item\" ': 35, '\"graph\" ': 36, '\"neural\" ': 37, '\"structure\" ': 38, '\"agent\"': 39}\n",
      "字典字數： 40\n",
      "\n",
      "\n",
      "[[0.015 0.007 0.    0.024 0.01  0.017 0.009]\n",
      " [0.014 0.01  0.    0.012 0.021 0.02  0.   ]\n",
      " [0.011 0.    0.008 0.    0.    0.    0.   ]\n",
      " [0.011 0.    0.014 0.    0.    0.011 0.   ]\n",
      " [0.01  0.    0.015 0.    0.    0.    0.   ]\n",
      " [0.01  0.    0.    0.    0.    0.    0.   ]\n",
      " [0.009 0.    0.007 0.    0.007 0.    0.   ]\n",
      " [0.007 0.016 0.008 0.016 0.01  0.01  0.009]\n",
      " [0.006 0.    0.    0.    0.007 0.    0.   ]\n",
      " [0.006 0.    0.    0.    0.    0.    0.   ]\n",
      " [0.    0.019 0.009 0.012 0.01  0.    0.   ]\n",
      " [0.    0.017 0.    0.    0.    0.012 0.   ]\n",
      " [0.    0.008 0.    0.014 0.    0.    0.028]\n",
      " [0.    0.008 0.    0.    0.    0.    0.   ]\n",
      " [0.    0.007 0.    0.    0.    0.    0.   ]\n",
      " [0.    0.007 0.    0.    0.    0.    0.   ]\n",
      " [0.    0.007 0.    0.    0.    0.    0.   ]\n",
      " [0.    0.    0.012 0.    0.    0.    0.   ]\n",
      " [0.    0.    0.011 0.    0.    0.    0.   ]\n",
      " [0.    0.    0.009 0.    0.    0.    0.   ]\n",
      " [0.    0.    0.006 0.    0.    0.    0.   ]\n",
      " [0.    0.    0.    0.011 0.    0.    0.   ]\n",
      " [0.    0.    0.    0.009 0.    0.    0.   ]\n",
      " [0.    0.    0.    0.008 0.    0.01  0.   ]\n",
      " [0.    0.    0.    0.008 0.    0.011 0.   ]\n",
      " [0.    0.    0.    0.008 0.    0.    0.   ]\n",
      " [0.    0.    0.    0.    0.007 0.    0.   ]\n",
      " [0.    0.    0.    0.    0.007 0.    0.   ]\n",
      " [0.    0.    0.    0.    0.007 0.    0.   ]\n",
      " [0.    0.    0.    0.    0.007 0.    0.   ]\n",
      " [0.    0.    0.    0.    0.    0.014 0.   ]\n",
      " [0.    0.    0.    0.    0.    0.013 0.   ]\n",
      " [0.    0.    0.    0.    0.    0.009 0.   ]\n",
      " [0.    0.    0.    0.    0.    0.    0.012]\n",
      " [0.    0.    0.    0.    0.    0.    0.009]\n",
      " [0.    0.    0.    0.    0.    0.    0.009]\n",
      " [0.    0.    0.    0.    0.    0.    0.007]\n",
      " [0.    0.    0.    0.    0.    0.    0.007]\n",
      " [0.    0.    0.    0.    0.    0.    0.006]\n",
      " [0.    0.    0.    0.    0.    0.    0.006]\n",
      " [0.    0.    0.    0.    0.    0.    0.   ]\n",
      " [0.    0.    0.    0.    0.    0.    0.   ]\n",
      " [0.    0.    0.    0.    0.    0.    0.   ]\n",
      " [0.    0.    0.    0.    0.    0.    0.   ]\n",
      " [0.    0.    0.    0.    0.    0.    0.   ]\n",
      " [0.    0.    0.    0.    0.    0.    0.   ]\n",
      " [0.    0.    0.    0.    0.    0.    0.   ]\n",
      " [0.    0.    0.    0.    0.    0.    0.   ]\n",
      " [0.    0.    0.    0.    0.    0.    0.   ]\n",
      " [0.    0.    0.    0.    0.    0.    0.   ]\n",
      " [0.    0.    0.    0.    0.    0.    0.   ]\n",
      " [0.    0.    0.    0.    0.    0.    0.   ]\n",
      " [0.    0.    0.    0.    0.    0.    0.   ]\n",
      " [0.    0.    0.    0.    0.    0.    0.   ]\n",
      " [0.    0.    0.    0.    0.    0.    0.   ]\n",
      " [0.    0.    0.    0.    0.    0.    0.   ]\n",
      " [0.    0.    0.    0.    0.    0.    0.   ]\n",
      " [0.    0.    0.    0.    0.    0.    0.   ]\n",
      " [0.    0.    0.    0.    0.    0.    0.   ]\n",
      " [0.    0.    0.    0.    0.    0.    0.   ]\n",
      " [0.    0.    0.    0.    0.    0.    0.   ]\n",
      " [0.    0.    0.    0.    0.    0.    0.   ]\n",
      " [0.    0.    0.    0.    0.    0.    0.   ]\n",
      " [0.    0.    0.    0.    0.    0.    0.   ]\n",
      " [0.    0.    0.    0.    0.    0.    0.   ]\n",
      " [0.    0.    0.    0.    0.    0.    0.   ]\n",
      " [0.    0.    0.    0.    0.    0.    0.   ]\n",
      " [0.    0.    0.    0.    0.    0.    0.   ]\n",
      " [0.    0.    0.    0.    0.    0.    0.   ]\n",
      " [0.    0.    0.    0.    0.    0.    0.   ]\n",
      " [0.    0.    0.    0.    0.    0.    0.   ]\n",
      " [0.    0.    0.    0.    0.    0.    0.   ]\n",
      " [0.    0.    0.    0.    0.    0.    0.   ]\n",
      " [0.    0.    0.    0.    0.    0.    0.   ]\n",
      " [0.    0.    0.    0.    0.    0.    0.   ]\n",
      " [0.    0.    0.    0.    0.    0.    0.   ]\n",
      " [0.    0.    0.    0.    0.    0.    0.   ]\n",
      " [0.    0.    0.    0.    0.    0.    0.   ]\n",
      " [0.    0.    0.    0.    0.    0.    0.   ]\n",
      " [0.    0.    0.    0.    0.    0.    0.   ]]\n",
      "(80, 7)\n"
     ]
    }
   ],
   "source": [
    "topicWordProbMat = lda_model.print_topics(num_topics=num_topics,num_words=num_words)\n",
    "(df_words,DC,zz) = get_chart_data(num_topics,num_words,topicWordProbMat)\n",
    "\n",
    "show_words_table(df_words)\n",
    "show_dictionary(DC)\n",
    "show_probs_table(zz)"
   ]
  },
  {
   "cell_type": "code",
   "execution_count": 21,
   "metadata": {},
   "outputs": [
    {
     "data": {
      "image/png": "[encoded data removed]",
      "text/plain": [
       "<Figure size 432x288 with 1 Axes>"
      ]
     },
     "metadata": {
      "needs_background": "light"
     },
     "output_type": "display_data"
    }
   ],
   "source": [
    "show_heapmap(DC,zz)"
   ]
  },
  {
   "cell_type": "markdown",
   "metadata": {},
   "source": [
    "### Running LDA using TF-IDF"
   ]
  },
  {
   "cell_type": "code",
   "execution_count": 27,
   "metadata": {},
   "outputs": [],
   "source": [
    "lda_model_tfidf = gensim.models.LdaMulticore(corpus_tfidf, \n",
    "                                       num_topics=num_topics, \n",
    "                                       id2word=dictionary, \n",
    "                                       passes=20, \n",
    "                                       workers=2)"
   ]
  },
  {
   "cell_type": "code",
   "execution_count": 28,
   "metadata": {},
   "outputs": [
    {
     "name": "stdout",
     "output_type": "stream",
     "text": [
      "Topic: 0\n",
      "Words: 0.001*\"event\" + 0.001*\"algebraic\" + 0.001*\"discussion\" + 0.001*\"operator\" + 0.001*\"paraphrase\" + 0.001*\"anomaly\" + 0.001*\"clone\" + 0.001*\"critic\" + 0.001*\"turnover\" + 0.001*\"quasi\"\n",
      "\n",
      "Topic: 1\n",
      "Words: 0.001*\"wager\" + 0.001*\"anomaly\" + 0.001*\"logic\" + 0.001*\"poverty\" + 0.001*\"grammar\" + 0.001*\"dictionary\" + 0.001*\"chart\" + 0.001*\"commerce\" + 0.001*\"pamc\" + 0.001*\"dtis\"\n",
      "\n",
      "Topic: 2\n",
      "Words: 0.003*\"model\" + 0.003*\"learn\" + 0.003*\"network\" + 0.003*\"feature\" + 0.003*\"data\" + 0.003*\"method\" + 0.003*\"image\" + 0.003*\"algorithm\" + 0.003*\"label\" + 0.003*\"task\"\n",
      "\n",
      "Topic: 3\n",
      "Words: 0.001*\"neuron\" + 0.001*\"headline\" + 0.001*\"solitaire\" + 0.001*\"operator\" + 0.001*\"puzzle\" + 0.001*\"monotone\" + 0.001*\"solvable\" + 0.001*\"toolkit\" + 0.001*\"quota\" + 0.001*\"nonverbal\"\n",
      "\n",
      "Topic: 4\n",
      "Words: 0.003*\"dialogue\" + 0.002*\"medical\" + 0.002*\"dropout\" + 0.002*\"causal\" + 0.002*\"mapf\" + 0.001*\"equivalence\" + 0.001*\"paraphrase\" + 0.001*\"distortion\" + 0.001*\"satisfiability\" + 0.001*\"semidefinite\"\n",
      "\n",
      "Topic: 5\n",
      "Words: 0.002*\"fairness\" + 0.001*\"session\" + 0.001*\"patch\" + 0.001*\"rpca\" + 0.001*\"sans\" + 0.001*\"story\" + 0.001*\"modular\" + 0.001*\"metrical\" + 0.001*\"acoustic\" + 0.001*\"keyframes\"\n",
      "\n",
      "Topic: 6\n",
      "Words: 0.003*\"hash\" + 0.002*\"logic\" + 0.002*\"ontology\" + 0.002*\"identity\" + 0.001*\"minority\" + 0.001*\"discourse\" + 0.001*\"pedestrian\" + 0.001*\"skeleton\" + 0.001*\"synonym\" + 0.001*\"music\"\n",
      "\n"
     ]
    }
   ],
   "source": [
    "for idx, topic in lda_model_tfidf.print_topics(): #num_topics=3, num_words=3\n",
    "    print('Topic: {}\\nWords: {}\\n'.format(idx, topic))"
   ]
  },
  {
   "cell_type": "code",
   "execution_count": 29,
   "metadata": {},
   "outputs": [
    {
     "name": "stdout",
     "output_type": "stream",
     "text": [
      "               1              2             3             4                  5            6              7\n",
      "0       \"event\"        \"wager\"       \"model\"      \"neuron\"         \"dialogue\"   \"fairness\"         \"hash\" \n",
      "1   \"algebraic\"      \"anomaly\"       \"learn\"    \"headline\"          \"medical\"    \"session\"        \"logic\" \n",
      "2  \"discussion\"        \"logic\"     \"network\"   \"solitaire\"          \"dropout\"      \"patch\"     \"ontology\" \n",
      "3    \"operator\"      \"poverty\"     \"feature\"    \"operator\"           \"causal\"       \"rpca\"     \"identity\" \n",
      "4  \"paraphrase\"      \"grammar\"        \"data\"      \"puzzle\"             \"mapf\"       \"sans\"     \"minority\" \n",
      "5     \"anomaly\"   \"dictionary\"      \"method\"    \"monotone\"      \"equivalence\"      \"story\"    \"discourse\" \n",
      "6       \"clone\"        \"chart\"       \"image\"    \"solvable\"       \"paraphrase\"    \"modular\"   \"pedestrian\" \n",
      "7      \"critic\"     \"commerce\"   \"algorithm\"     \"toolkit\"       \"distortion\"   \"metrical\"     \"skeleton\" \n",
      "8    \"turnover\"         \"pamc\"       \"label\"       \"quota\"   \"satisfiability\"   \"acoustic\"      \"synonym\" \n",
      "9        \"quasi\"         \"dtis\"        \"task\"   \"nonverbal\"     \"semidefinite\"  \"keyframes\"        \"music\"\n",
      "\n",
      "\n",
      "{'\"event\" ': 0, '\"algebraic\" ': 1, '\"discussion\" ': 2, '\"operator\" ': 3, '\"paraphrase\" ': 4, '\"anomaly\" ': 5, '\"clone\" ': 6, '\"critic\" ': 7, '\"turnover\" ': 8, '\"quasi\"': 9, '\"wager\" ': 10, '\"logic\" ': 11, '\"poverty\" ': 12, '\"grammar\" ': 13, '\"dictionary\" ': 14, '\"chart\" ': 15, '\"commerce\" ': 16, '\"pamc\" ': 17, '\"dtis\"': 18, '\"model\" ': 19, '\"learn\" ': 20, '\"network\" ': 21, '\"feature\" ': 22, '\"data\" ': 23, '\"method\" ': 24, '\"image\" ': 25, '\"algorithm\" ': 26, '\"label\" ': 27, '\"task\"': 28, '\"neuron\" ': 29, '\"headline\" ': 30, '\"solitaire\" ': 31, '\"puzzle\" ': 32, '\"monotone\" ': 33, '\"solvable\" ': 34, '\"toolkit\" ': 35, '\"quota\" ': 36, '\"nonverbal\"': 37, '\"dialogue\" ': 38, '\"medical\" ': 39, '\"dropout\" ': 40, '\"causal\" ': 41, '\"mapf\" ': 42, '\"equivalence\" ': 43, '\"distortion\" ': 44, '\"satisfiability\" ': 45, '\"semidefinite\"': 46, '\"fairness\" ': 47, '\"session\" ': 48, '\"patch\" ': 49, '\"rpca\" ': 50, '\"sans\" ': 51, '\"story\" ': 52, '\"modular\" ': 53, '\"metrical\" ': 54, '\"acoustic\" ': 55, '\"keyframes\"': 56, '\"hash\" ': 57, '\"ontology\" ': 58, '\"identity\" ': 59, '\"minority\" ': 60, '\"discourse\" ': 61, '\"pedestrian\" ': 62, '\"skeleton\" ': 63, '\"synonym\" ': 64, '\"music\"': 65}\n",
      "字典字數： 66\n",
      "\n",
      "\n",
      "[[0.001 0.    0.    0.    0.    0.    0.   ]\n",
      " [0.001 0.    0.    0.    0.    0.    0.   ]\n",
      " [0.001 0.    0.    0.    0.    0.    0.   ]\n",
      " [0.001 0.    0.    0.001 0.    0.    0.   ]\n",
      " [0.001 0.    0.    0.    0.001 0.    0.   ]\n",
      " [0.001 0.001 0.    0.    0.    0.    0.   ]\n",
      " [0.001 0.    0.    0.    0.    0.    0.   ]\n",
      " [0.001 0.    0.    0.    0.    0.    0.   ]\n",
      " [0.001 0.    0.    0.    0.    0.    0.   ]\n",
      " [0.001 0.    0.    0.    0.    0.    0.   ]\n",
      " [0.    0.001 0.    0.    0.    0.    0.   ]\n",
      " [0.    0.001 0.    0.    0.    0.    0.002]\n",
      " [0.    0.001 0.    0.    0.    0.    0.   ]\n",
      " [0.    0.001 0.    0.    0.    0.    0.   ]\n",
      " [0.    0.001 0.    0.    0.    0.    0.   ]\n",
      " [0.    0.001 0.    0.    0.    0.    0.   ]\n",
      " [0.    0.001 0.    0.    0.    0.    0.   ]\n",
      " [0.    0.001 0.    0.    0.    0.    0.   ]\n",
      " [0.    0.001 0.    0.    0.    0.    0.   ]\n",
      " [0.    0.    0.003 0.    0.    0.    0.   ]\n",
      " [0.    0.    0.003 0.    0.    0.    0.   ]\n",
      " [0.    0.    0.003 0.    0.    0.    0.   ]\n",
      " [0.    0.    0.003 0.    0.    0.    0.   ]\n",
      " [0.    0.    0.003 0.    0.    0.    0.   ]\n",
      " [0.    0.    0.003 0.    0.    0.    0.   ]\n",
      " [0.    0.    0.003 0.    0.    0.    0.   ]\n",
      " [0.    0.    0.003 0.    0.    0.    0.   ]\n",
      " [0.    0.    0.003 0.    0.    0.    0.   ]\n",
      " [0.    0.    0.003 0.    0.    0.    0.   ]\n",
      " [0.    0.    0.    0.001 0.    0.    0.   ]\n",
      " [0.    0.    0.    0.001 0.    0.    0.   ]\n",
      " [0.    0.    0.    0.001 0.    0.    0.   ]\n",
      " [0.    0.    0.    0.001 0.    0.    0.   ]\n",
      " [0.    0.    0.    0.001 0.    0.    0.   ]\n",
      " [0.    0.    0.    0.001 0.    0.    0.   ]\n",
      " [0.    0.    0.    0.001 0.    0.    0.   ]\n",
      " [0.    0.    0.    0.001 0.    0.    0.   ]\n",
      " [0.    0.    0.    0.001 0.    0.    0.   ]\n",
      " [0.    0.    0.    0.    0.003 0.    0.   ]\n",
      " [0.    0.    0.    0.    0.002 0.    0.   ]\n",
      " [0.    0.    0.    0.    0.002 0.    0.   ]\n",
      " [0.    0.    0.    0.    0.002 0.    0.   ]\n",
      " [0.    0.    0.    0.    0.002 0.    0.   ]\n",
      " [0.    0.    0.    0.    0.001 0.    0.   ]\n",
      " [0.    0.    0.    0.    0.001 0.    0.   ]\n",
      " [0.    0.    0.    0.    0.001 0.    0.   ]\n",
      " [0.    0.    0.    0.    0.001 0.    0.   ]\n",
      " [0.    0.    0.    0.    0.    0.002 0.   ]\n",
      " [0.    0.    0.    0.    0.    0.001 0.   ]\n",
      " [0.    0.    0.    0.    0.    0.001 0.   ]\n",
      " [0.    0.    0.    0.    0.    0.001 0.   ]\n",
      " [0.    0.    0.    0.    0.    0.001 0.   ]\n",
      " [0.    0.    0.    0.    0.    0.001 0.   ]\n",
      " [0.    0.    0.    0.    0.    0.001 0.   ]\n",
      " [0.    0.    0.    0.    0.    0.001 0.   ]\n",
      " [0.    0.    0.    0.    0.    0.001 0.   ]\n",
      " [0.    0.    0.    0.    0.    0.001 0.   ]\n",
      " [0.    0.    0.    0.    0.    0.    0.003]\n",
      " [0.    0.    0.    0.    0.    0.    0.002]\n",
      " [0.    0.    0.    0.    0.    0.    0.002]\n",
      " [0.    0.    0.    0.    0.    0.    0.001]\n",
      " [0.    0.    0.    0.    0.    0.    0.001]\n",
      " [0.    0.    0.    0.    0.    0.    0.001]\n",
      " [0.    0.    0.    0.    0.    0.    0.001]\n",
      " [0.    0.    0.    0.    0.    0.    0.001]\n",
      " [0.    0.    0.    0.    0.    0.    0.001]\n",
      " [0.    0.    0.    0.    0.    0.    0.   ]\n",
      " [0.    0.    0.    0.    0.    0.    0.   ]\n",
      " [0.    0.    0.    0.    0.    0.    0.   ]\n",
      " [0.    0.    0.    0.    0.    0.    0.   ]\n",
      " [0.    0.    0.    0.    0.    0.    0.   ]\n",
      " [0.    0.    0.    0.    0.    0.    0.   ]\n",
      " [0.    0.    0.    0.    0.    0.    0.   ]\n",
      " [0.    0.    0.    0.    0.    0.    0.   ]\n",
      " [0.    0.    0.    0.    0.    0.    0.   ]\n",
      " [0.    0.    0.    0.    0.    0.    0.   ]\n",
      " [0.    0.    0.    0.    0.    0.    0.   ]\n",
      " [0.    0.    0.    0.    0.    0.    0.   ]\n",
      " [0.    0.    0.    0.    0.    0.    0.   ]\n",
      " [0.    0.    0.    0.    0.    0.    0.   ]]\n",
      "(80, 7)\n"
     ]
    }
   ],
   "source": [
    "topicWordProbMat_tfidf = lda_model_tfidf.print_topics(num_topics=num_topics,num_words=num_words)\n",
    "(df_words,DC,zz) = get_chart_data(num_topics,num_words,topicWordProbMat_tfidf)\n",
    "\n",
    "show_words_table(df_words)\n",
    "show_dictionary(DC)\n",
    "show_probs_table(zz)"
   ]
  },
  {
   "cell_type": "code",
   "execution_count": 30,
   "metadata": {},
   "outputs": [
    {
     "data": {
      "image/png": "[encoded data removed]",
      "text/plain": [
       "<Figure size 432x288 with 1 Axes>"
      ]
     },
     "metadata": {
      "needs_background": "light"
     },
     "output_type": "display_data"
    }
   ],
   "source": [
    "show_heapmap(DC,zz)"
   ]
  },
  {
   "cell_type": "code",
   "execution_count": null,
   "metadata": {},
   "outputs": [],
   "source": []
  }
 ],
 "metadata": {
  "kernelspec": {
   "display_name": "Python 3",
   "language": "python",
   "name": "python3"
  },
  "language_info": {
   "codemirror_mode": {
    "name": "ipython",
    "version": 3
   },
   "file_extension": ".py",
   "mimetype": "text/x-python",
   "name": "python",
   "nbconvert_exporter": "python",
   "pygments_lexer": "ipython3",
   "version": "3.7.1"
  }
 },
 "nbformat": 4,
 "nbformat_minor": 2
}
